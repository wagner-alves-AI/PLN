{
  "nbformat": 4,
  "nbformat_minor": 0,
  "metadata": {
    "colab": {
      "name": "Desafio_semana_6.ipynb",
      "provenance": [],
      "authorship_tag": "ABX9TyPFhjB8Nfc0QFyWRDSUEVyH",
      "include_colab_link": true
    },
    "kernelspec": {
      "name": "python3",
      "display_name": "Python 3"
    }
  },
  "cells": [
    {
      "cell_type": "markdown",
      "metadata": {
        "id": "view-in-github",
        "colab_type": "text"
      },
      "source": [
        "<a href=\"https://colab.research.google.com/github/wagner-alves-AI/PLN/blob/master/Desafio_semana_6.ipynb\" target=\"_parent\"><img src=\"https://colab.research.google.com/assets/colab-badge.svg\" alt=\"Open In Colab\"/></a>"
      ]
    },
    {
      "cell_type": "code",
      "metadata": {
        "id": "hEepF_YlcR2h",
        "colab_type": "code",
        "colab": {
          "base_uri": "https://localhost:8080/",
          "height": 119
        },
        "outputId": "89791fc8-5d01-4c29-852e-a440d53973fa"
      },
      "source": [
        "import nltk\n",
        "nltk.download('wordnet')\n",
        "nltk.download('stopwords')\n",
        "nltk.download('brown')\n",
        "\n",
        "from nltk.corpus import brown\n",
        "\n",
        "words = brown.words()\n",
        "\n",
        "from nltk.corpus import stopwords\n",
        "\n",
        "stops = stopwords.words('english')\n",
        "tokens_sem_stops = [w.lower() for w in words if not w in stops]\n",
        "\n",
        "from nltk.stem import WordNetLemmatizer\n",
        "\n",
        "vocab = []\n",
        "wnl = WordNetLemmatizer()\n",
        "for v in tokens_sem_stops:\n",
        "  lem = wnl.lemmatize(v)\n",
        "  if not lem in vocab:\n",
        "    vocab.append(v)"
      ],
      "execution_count": 2,
      "outputs": [
        {
          "output_type": "stream",
          "text": [
            "[nltk_data] Downloading package wordnet to /root/nltk_data...\n",
            "[nltk_data]   Package wordnet is already up-to-date!\n",
            "[nltk_data] Downloading package stopwords to /root/nltk_data...\n",
            "[nltk_data]   Package stopwords is already up-to-date!\n",
            "[nltk_data] Downloading package brown to /root/nltk_data...\n",
            "[nltk_data]   Unzipping corpora/brown.zip.\n"
          ],
          "name": "stdout"
        }
      ]
    },
    {
      "cell_type": "code",
      "metadata": {
        "id": "68VbGOUodlnj",
        "colab_type": "code",
        "colab": {
          "base_uri": "https://localhost:8080/",
          "height": 105
        },
        "outputId": "05f02f8e-fcf0-4f54-afae-9f5bdae4ccbe"
      },
      "source": [
        "from gensim.models import Word2Vec\n",
        "\n",
        "sents = brown.sents()\n",
        "model = Word2Vec(sents)\n",
        "\n",
        "tops = model.similar_by_word('education', topn=1000)"
      ],
      "execution_count": 5,
      "outputs": [
        {
          "output_type": "stream",
          "text": [
            "/usr/local/lib/python3.6/dist-packages/ipykernel_launcher.py:6: DeprecationWarning: Call to deprecated `similar_by_word` (Method will be removed in 4.0.0, use self.wv.similar_by_word() instead).\n",
            "  \n",
            "/usr/local/lib/python3.6/dist-packages/gensim/matutils.py:737: FutureWarning: Conversion of the second argument of issubdtype from `int` to `np.signedinteger` is deprecated. In future, it will be treated as `np.int64 == np.dtype(int).type`.\n",
            "  if np.issubdtype(vec.dtype, np.int):\n"
          ],
          "name": "stderr"
        }
      ]
    },
    {
      "cell_type": "code",
      "metadata": {
        "id": "pj1hLWOgeqq7",
        "colab_type": "code",
        "colab": {}
      },
      "source": [
        "vocab2 = []\n",
        "for t in tops:\n",
        "  if(t[0] in vocab):\n",
        "    vocab2.append(t[0])\n",
        "  if len(vocab2)>= 100:\n",
        "    break\n",
        "      "
      ],
      "execution_count": 7,
      "outputs": []
    },
    {
      "cell_type": "code",
      "metadata": {
        "id": "CTNDpC4yfMuM",
        "colab_type": "code",
        "colab": {
          "base_uri": "https://localhost:8080/",
          "height": 1000
        },
        "outputId": "8003bc44-65fe-41e7-8b47-379d1f2852b1"
      },
      "source": [
        "vocab2"
      ],
      "execution_count": 8,
      "outputs": [
        {
          "output_type": "execute_result",
          "data": {
            "text/plain": [
              "['national',\n",
              " 'government',\n",
              " 'military',\n",
              " 'property',\n",
              " 'business',\n",
              " 'religious',\n",
              " 'communication',\n",
              " 'growth',\n",
              " 'international',\n",
              " 'policy',\n",
              " 'training',\n",
              " 'assistance',\n",
              " 'production',\n",
              " 'facilities',\n",
              " 'foreign',\n",
              " 'race',\n",
              " 'developing',\n",
              " 'activity',\n",
              " 'status',\n",
              " 'faculty',\n",
              " 'political',\n",
              " 'responsibility',\n",
              " 'community',\n",
              " 'potential',\n",
              " 'defense',\n",
              " 'basic',\n",
              " 'general',\n",
              " 'interest',\n",
              " 'effectiveness',\n",
              " 'modern',\n",
              " 'educational',\n",
              " 'research',\n",
              " 'assignment',\n",
              " 'equipment',\n",
              " 'unity',\n",
              " 'technical',\n",
              " 'private',\n",
              " 'services',\n",
              " 'population',\n",
              " 'individual',\n",
              " 'planning',\n",
              " 'special',\n",
              " 'socialism',\n",
              " 'primary',\n",
              " 'tax',\n",
              " 'behavior',\n",
              " 'food',\n",
              " 'religion',\n",
              " 'union',\n",
              " 'product',\n",
              " 'nuclear',\n",
              " 'treatment',\n",
              " 'active',\n",
              " 'discrimination',\n",
              " 'significance',\n",
              " 'market',\n",
              " 'applicant',\n",
              " 'cultural',\n",
              " 'value',\n",
              " 'analysis',\n",
              " 'vocational',\n",
              " 'understanding',\n",
              " 'development',\n",
              " 'conditions',\n",
              " 'relations',\n",
              " 'nations',\n",
              " 'additional',\n",
              " 'funds',\n",
              " 'affairs',\n",
              " 'security',\n",
              " 'common',\n",
              " 'inherent',\n",
              " 'management',\n",
              " 'service',\n",
              " 'science',\n",
              " 'appreciation',\n",
              " 'direct',\n",
              " 'employees',\n",
              " 'enterprise',\n",
              " 'influence',\n",
              " 'aspects',\n",
              " 'measurable',\n",
              " 'competition',\n",
              " 'normal',\n",
              " 'immediate',\n",
              " 'practice',\n",
              " 'scientific',\n",
              " 'art',\n",
              " 'design',\n",
              " 'sale',\n",
              " 'welfare',\n",
              " 'laws',\n",
              " 'institutions',\n",
              " 'comparable',\n",
              " 'provision',\n",
              " 'aid',\n",
              " 'importance',\n",
              " 'magnitude',\n",
              " 'varied',\n",
              " 'balance']"
            ]
          },
          "metadata": {
            "tags": []
          },
          "execution_count": 8
        }
      ]
    },
    {
      "cell_type": "code",
      "metadata": {
        "id": "hI-oujMhipSc",
        "colab_type": "code",
        "colab": {}
      },
      "source": [
        ""
      ],
      "execution_count": null,
      "outputs": []
    }
  ]
}