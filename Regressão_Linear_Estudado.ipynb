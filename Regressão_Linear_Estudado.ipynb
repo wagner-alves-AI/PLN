{
  "nbformat": 4,
  "nbformat_minor": 0,
  "metadata": {
    "kernelspec": {
      "display_name": "Python 3",
      "language": "python",
      "name": "python3"
    },
    "language_info": {
      "codemirror_mode": {
        "name": "ipython",
        "version": 3
      },
      "file_extension": ".py",
      "mimetype": "text/x-python",
      "name": "python",
      "nbconvert_exporter": "python",
      "pygments_lexer": "ipython3",
      "version": "3.8.3"
    },
    "colab": {
      "name": "Regressão Linear - Estudado.ipynb",
      "provenance": [],
      "include_colab_link": true
    }
  },
  "cells": [
    {
      "cell_type": "markdown",
      "metadata": {
        "id": "view-in-github",
        "colab_type": "text"
      },
      "source": [
        "<a href=\"https://colab.research.google.com/github/wagner-alves-AI/PLN/blob/master/Regress%C3%A3o_Linear_Estudado.ipynb\" target=\"_parent\"><img src=\"https://colab.research.google.com/assets/colab-badge.svg\" alt=\"Open In Colab\"/></a>"
      ]
    },
    {
      "cell_type": "markdown",
      "metadata": {
        "id": "8ELrQW6boa87",
        "colab_type": "text"
      },
      "source": [
        "# Regressão Linear"
      ]
    },
    {
      "cell_type": "markdown",
      "metadata": {
        "id": "fCJzZH8Woa89",
        "colab_type": "text"
      },
      "source": [
        "### Importar pandas e matplotlib"
      ]
    },
    {
      "cell_type": "code",
      "metadata": {
        "id": "agTWGCGsoa8-",
        "colab_type": "code",
        "colab": {}
      },
      "source": [
        "import pandas as pd\n",
        "import matplotlib.pyplot as plt"
      ],
      "execution_count": null,
      "outputs": []
    },
    {
      "cell_type": "markdown",
      "metadata": {
        "id": "1yIXfinxoa9E",
        "colab_type": "text"
      },
      "source": [
        "### Criar um Data Frame de faturamento mensal de 12 meses"
      ]
    },
    {
      "cell_type": "code",
      "metadata": {
        "id": "YDRuvSqGoa9F",
        "colab_type": "code",
        "colab": {}
      },
      "source": [
        "faturamento = [25,38,29,115,82,114,120,160,153,190,239,175]"
      ],
      "execution_count": null,
      "outputs": []
    },
    {
      "cell_type": "code",
      "metadata": {
        "id": "EoMnwIDcoa9K",
        "colab_type": "code",
        "colab": {}
      },
      "source": [
        "mes = list(range(1,13))"
      ],
      "execution_count": null,
      "outputs": []
    },
    {
      "cell_type": "code",
      "metadata": {
        "id": "9ORZZ-IHoa9O",
        "colab_type": "code",
        "colab": {}
      },
      "source": [
        "data_dict = {'mes': mes, 'faturamento':faturamento}"
      ],
      "execution_count": null,
      "outputs": []
    },
    {
      "cell_type": "code",
      "metadata": {
        "id": "QFO2UfAuoa9T",
        "colab_type": "code",
        "colab": {},
        "outputId": "19e6e8ce-da2e-42a4-ba28-0e8a85e096f7"
      },
      "source": [
        "data_dict"
      ],
      "execution_count": null,
      "outputs": [
        {
          "output_type": "execute_result",
          "data": {
            "text/plain": [
              "{'mes': [1, 2, 3, 4, 5, 6, 7, 8, 9, 10, 11, 12],\n",
              " 'faturamento': [25, 38, 29, 115, 82, 114, 120, 160, 153, 190, 239, 175]}"
            ]
          },
          "metadata": {
            "tags": []
          },
          "execution_count": 7
        }
      ]
    },
    {
      "cell_type": "code",
      "metadata": {
        "id": "f_WRTrv_oa9Z",
        "colab_type": "code",
        "colab": {}
      },
      "source": [
        "data = pd.DataFrame.from_dict(data_dict)"
      ],
      "execution_count": null,
      "outputs": []
    },
    {
      "cell_type": "code",
      "metadata": {
        "id": "YKEWJC5Voa9d",
        "colab_type": "code",
        "colab": {},
        "outputId": "ebb1e837-ed9f-4e39-9f02-acba1ea71dc5"
      },
      "source": [
        "data"
      ],
      "execution_count": null,
      "outputs": [
        {
          "output_type": "execute_result",
          "data": {
            "text/html": [
              "<div>\n",
              "<style scoped>\n",
              "    .dataframe tbody tr th:only-of-type {\n",
              "        vertical-align: middle;\n",
              "    }\n",
              "\n",
              "    .dataframe tbody tr th {\n",
              "        vertical-align: top;\n",
              "    }\n",
              "\n",
              "    .dataframe thead th {\n",
              "        text-align: right;\n",
              "    }\n",
              "</style>\n",
              "<table border=\"1\" class=\"dataframe\">\n",
              "  <thead>\n",
              "    <tr style=\"text-align: right;\">\n",
              "      <th></th>\n",
              "      <th>mes</th>\n",
              "      <th>faturamento</th>\n",
              "    </tr>\n",
              "  </thead>\n",
              "  <tbody>\n",
              "    <tr>\n",
              "      <th>0</th>\n",
              "      <td>1</td>\n",
              "      <td>25</td>\n",
              "    </tr>\n",
              "    <tr>\n",
              "      <th>1</th>\n",
              "      <td>2</td>\n",
              "      <td>38</td>\n",
              "    </tr>\n",
              "    <tr>\n",
              "      <th>2</th>\n",
              "      <td>3</td>\n",
              "      <td>29</td>\n",
              "    </tr>\n",
              "    <tr>\n",
              "      <th>3</th>\n",
              "      <td>4</td>\n",
              "      <td>115</td>\n",
              "    </tr>\n",
              "    <tr>\n",
              "      <th>4</th>\n",
              "      <td>5</td>\n",
              "      <td>82</td>\n",
              "    </tr>\n",
              "    <tr>\n",
              "      <th>5</th>\n",
              "      <td>6</td>\n",
              "      <td>114</td>\n",
              "    </tr>\n",
              "    <tr>\n",
              "      <th>6</th>\n",
              "      <td>7</td>\n",
              "      <td>120</td>\n",
              "    </tr>\n",
              "    <tr>\n",
              "      <th>7</th>\n",
              "      <td>8</td>\n",
              "      <td>160</td>\n",
              "    </tr>\n",
              "    <tr>\n",
              "      <th>8</th>\n",
              "      <td>9</td>\n",
              "      <td>153</td>\n",
              "    </tr>\n",
              "    <tr>\n",
              "      <th>9</th>\n",
              "      <td>10</td>\n",
              "      <td>190</td>\n",
              "    </tr>\n",
              "    <tr>\n",
              "      <th>10</th>\n",
              "      <td>11</td>\n",
              "      <td>239</td>\n",
              "    </tr>\n",
              "    <tr>\n",
              "      <th>11</th>\n",
              "      <td>12</td>\n",
              "      <td>175</td>\n",
              "    </tr>\n",
              "  </tbody>\n",
              "</table>\n",
              "</div>"
            ],
            "text/plain": [
              "    mes  faturamento\n",
              "0     1           25\n",
              "1     2           38\n",
              "2     3           29\n",
              "3     4          115\n",
              "4     5           82\n",
              "5     6          114\n",
              "6     7          120\n",
              "7     8          160\n",
              "8     9          153\n",
              "9    10          190\n",
              "10   11          239\n",
              "11   12          175"
            ]
          },
          "metadata": {
            "tags": []
          },
          "execution_count": 9
        }
      ]
    },
    {
      "cell_type": "markdown",
      "metadata": {
        "id": "mZW90Em7oa9j",
        "colab_type": "text"
      },
      "source": [
        "### Visualizar dados em Gráfico de Dispersão"
      ]
    },
    {
      "cell_type": "code",
      "metadata": {
        "id": "HC8b5pFHoa9k",
        "colab_type": "code",
        "colab": {}
      },
      "source": [
        "x = data['mes']\n",
        "y = data['faturamento']"
      ],
      "execution_count": null,
      "outputs": []
    },
    {
      "cell_type": "code",
      "metadata": {
        "id": "mwrQythxoa9o",
        "colab_type": "code",
        "colab": {},
        "outputId": "b5646d1d-8645-45b2-e99b-1d50fc2a61fa"
      },
      "source": [
        "plt.scatter(x,y)"
      ],
      "execution_count": null,
      "outputs": [
        {
          "output_type": "execute_result",
          "data": {
            "text/plain": [
              "<matplotlib.collections.PathCollection at 0x1370594ba60>"
            ]
          },
          "metadata": {
            "tags": []
          },
          "execution_count": 12
        },
        {
          "output_type": "display_data",
          "data": {
            "image/png": "[encoded data removed]",
            "text/plain": [
              "<Figure size 432x288 with 1 Axes>"
            ]
          },
          "metadata": {
            "tags": [],
            "needs_background": "light"
          }
        }
      ]
    },
    {
      "cell_type": "code",
      "metadata": {
        "id": "8XgZLBpZoa9s",
        "colab_type": "code",
        "colab": {},
        "outputId": "d9c0f4cd-7674-4384-b2f5-2fa150cc0bfd"
      },
      "source": [
        "# correlação\n",
        "data[['mes','faturamento']].corr()"
      ],
      "execution_count": null,
      "outputs": [
        {
          "output_type": "execute_result",
          "data": {
            "text/html": [
              "<div>\n",
              "<style scoped>\n",
              "    .dataframe tbody tr th:only-of-type {\n",
              "        vertical-align: middle;\n",
              "    }\n",
              "\n",
              "    .dataframe tbody tr th {\n",
              "        vertical-align: top;\n",
              "    }\n",
              "\n",
              "    .dataframe thead th {\n",
              "        text-align: right;\n",
              "    }\n",
              "</style>\n",
              "<table border=\"1\" class=\"dataframe\">\n",
              "  <thead>\n",
              "    <tr style=\"text-align: right;\">\n",
              "      <th></th>\n",
              "      <th>mes</th>\n",
              "      <th>faturamento</th>\n",
              "    </tr>\n",
              "  </thead>\n",
              "  <tbody>\n",
              "    <tr>\n",
              "      <th>mes</th>\n",
              "      <td>1.000000</td>\n",
              "      <td>0.935045</td>\n",
              "    </tr>\n",
              "    <tr>\n",
              "      <th>faturamento</th>\n",
              "      <td>0.935045</td>\n",
              "      <td>1.000000</td>\n",
              "    </tr>\n",
              "  </tbody>\n",
              "</table>\n",
              "</div>"
            ],
            "text/plain": [
              "                  mes  faturamento\n",
              "mes          1.000000     0.935045\n",
              "faturamento  0.935045     1.000000"
            ]
          },
          "metadata": {
            "tags": []
          },
          "execution_count": 13
        }
      ]
    },
    {
      "cell_type": "markdown",
      "metadata": {
        "id": "Rk856LImoa9w",
        "colab_type": "text"
      },
      "source": [
        "## Criar Modelo Preditivo aplicando fórmulas (manualmente)"
      ]
    },
    {
      "cell_type": "markdown",
      "metadata": {
        "id": "1Mj7qmWSoa9x",
        "colab_type": "text"
      },
      "source": [
        "<center><strong>Equação da Regressão Linear</strong></center><br>\n",
        "Essa é a equação para desenhar uma reta. Mas quando usamos essa equação para criar uma Regressão Linear especificamente, colocamos o acento circunflexo no $\\hat{y}$.\n",
        "\n",
        "$$\\hat{y} = mx + b$$\n",
        "\n",
        "<strong>m</strong> = inclinação da linha<br>\n",
        "<strong>b</strong> = interceptação do y<br>\n",
        "<strong>(x,y)</strong> = pontos coordenados<br>\n",
        "\n",
        "$$m = \\frac {n\\sum {xy}-\\sum x \\sum y}{n\\sum x^2-(\\sum x)^2}$$<br>\n",
        "\n",
        "$$b = \\frac {\\sum y-m\\sum x}{n}$$"
      ]
    },
    {
      "cell_type": "markdown",
      "metadata": {
        "id": "S7cL_624oa9y",
        "colab_type": "text"
      },
      "source": [
        "# m"
      ]
    },
    {
      "cell_type": "code",
      "metadata": {
        "id": "_qfE7a6Coa9z",
        "colab_type": "code",
        "colab": {},
        "outputId": "3b83c34b-2edf-442a-afa7-257335d46aff"
      },
      "source": [
        "x.sum()"
      ],
      "execution_count": null,
      "outputs": [
        {
          "output_type": "execute_result",
          "data": {
            "text/plain": [
              "78"
            ]
          },
          "metadata": {
            "tags": []
          },
          "execution_count": 14
        }
      ]
    },
    {
      "cell_type": "code",
      "metadata": {
        "id": "19C2E6I8oa94",
        "colab_type": "code",
        "colab": {},
        "outputId": "2bfdaeb2-2c13-4986-dfe6-752a49c5efd3"
      },
      "source": [
        "y.sum()"
      ],
      "execution_count": null,
      "outputs": [
        {
          "output_type": "execute_result",
          "data": {
            "text/plain": [
              "1440"
            ]
          },
          "metadata": {
            "tags": []
          },
          "execution_count": 15
        }
      ]
    },
    {
      "cell_type": "code",
      "metadata": {
        "id": "KF2z8o-ioa98",
        "colab_type": "code",
        "colab": {},
        "outputId": "c04d5861-7e09-4860-e960-8e20a7f8eaf2"
      },
      "source": [
        "print(x*y)"
      ],
      "execution_count": null,
      "outputs": [
        {
          "output_type": "stream",
          "text": [
            "0       25\n",
            "1       76\n",
            "2       87\n",
            "3      460\n",
            "4      410\n",
            "5      684\n",
            "6      840\n",
            "7     1280\n",
            "8     1377\n",
            "9     1900\n",
            "10    2629\n",
            "11    2100\n",
            "dtype: int64\n"
          ],
          "name": "stdout"
        }
      ]
    },
    {
      "cell_type": "code",
      "metadata": {
        "id": "4bY4619poa-A",
        "colab_type": "code",
        "colab": {},
        "outputId": "ecf23aee-810e-4ee3-d900-f7ce11490a34"
      },
      "source": [
        "x**2"
      ],
      "execution_count": null,
      "outputs": [
        {
          "output_type": "execute_result",
          "data": {
            "text/plain": [
              "0       1\n",
              "1       4\n",
              "2       9\n",
              "3      16\n",
              "4      25\n",
              "5      36\n",
              "6      49\n",
              "7      64\n",
              "8      81\n",
              "9     100\n",
              "10    121\n",
              "11    144\n",
              "Name: mes, dtype: int64"
            ]
          },
          "metadata": {
            "tags": []
          },
          "execution_count": 17
        }
      ]
    },
    {
      "cell_type": "code",
      "metadata": {
        "id": "M8yK9Efdoa-E",
        "colab_type": "code",
        "colab": {},
        "outputId": "63a050e1-17df-41b9-f5cb-d753308a7b03"
      },
      "source": [
        "(x*y).sum()"
      ],
      "execution_count": null,
      "outputs": [
        {
          "output_type": "execute_result",
          "data": {
            "text/plain": [
              "11868"
            ]
          },
          "metadata": {
            "tags": []
          },
          "execution_count": 19
        }
      ]
    },
    {
      "cell_type": "code",
      "metadata": {
        "id": "ft0vYmUVoa-I",
        "colab_type": "code",
        "colab": {},
        "outputId": "38e718d0-d41b-484d-ff67-fa4ca6ae2363"
      },
      "source": [
        "(x**2).sum()"
      ],
      "execution_count": null,
      "outputs": [
        {
          "output_type": "execute_result",
          "data": {
            "text/plain": [
              "650"
            ]
          },
          "metadata": {
            "tags": []
          },
          "execution_count": 21
        }
      ]
    },
    {
      "cell_type": "code",
      "metadata": {
        "id": "MG7HvInhoa-U",
        "colab_type": "code",
        "colab": {},
        "outputId": "55bd13bc-91dd-4f65-800f-8857470fabdc"
      },
      "source": [
        "(x.sum())**2"
      ],
      "execution_count": null,
      "outputs": [
        {
          "output_type": "execute_result",
          "data": {
            "text/plain": [
              "6084"
            ]
          },
          "metadata": {
            "tags": []
          },
          "execution_count": 22
        }
      ]
    },
    {
      "cell_type": "markdown",
      "metadata": {
        "id": "K6-ocCdboa-Z",
        "colab_type": "text"
      },
      "source": [
        "$$m = \\frac {n\\sum {xy}-\\sum x \\sum y}{n\\sum x^2-(\\sum x)^2}$$<br>"
      ]
    },
    {
      "cell_type": "code",
      "metadata": {
        "id": "qODsI-JKoa-a",
        "colab_type": "code",
        "colab": {}
      },
      "source": [
        "m = (len(y) * (x*y).sum() - x.sum()*y.sum())\\\n",
        "  / (len(y)*(x**2).sum() - (x.sum())**2)"
      ],
      "execution_count": null,
      "outputs": []
    },
    {
      "cell_type": "code",
      "metadata": {
        "id": "8IX2yM_-oa-f",
        "colab_type": "code",
        "colab": {},
        "outputId": "87bf5fcf-822d-4fdd-cb3f-2fd398dace7f"
      },
      "source": [
        "m.round(4)"
      ],
      "execution_count": null,
      "outputs": [
        {
          "output_type": "execute_result",
          "data": {
            "text/plain": [
              "17.5385"
            ]
          },
          "metadata": {
            "tags": []
          },
          "execution_count": 36
        }
      ]
    },
    {
      "cell_type": "markdown",
      "metadata": {
        "id": "DOqtPUEXoa-i",
        "colab_type": "text"
      },
      "source": [
        "# b"
      ]
    },
    {
      "cell_type": "markdown",
      "metadata": {
        "id": "szsUTpg1oa-j",
        "colab_type": "text"
      },
      "source": [
        "$$b = \\frac {\\sum y-m\\sum x}{n}$$"
      ]
    },
    {
      "cell_type": "code",
      "metadata": {
        "id": "81ri-S11oa-k",
        "colab_type": "code",
        "colab": {}
      },
      "source": [
        "b = (y.sum() - m * x.sum()) / len(y)"
      ],
      "execution_count": null,
      "outputs": []
    },
    {
      "cell_type": "code",
      "metadata": {
        "id": "l2du_pYaoa-o",
        "colab_type": "code",
        "colab": {},
        "outputId": "7198ae34-3676-4be4-ca49-f8f4cf028aec"
      },
      "source": [
        "b.round(4)"
      ],
      "execution_count": null,
      "outputs": [
        {
          "output_type": "execute_result",
          "data": {
            "text/plain": [
              "6.0"
            ]
          },
          "metadata": {
            "tags": []
          },
          "execution_count": 40
        }
      ]
    },
    {
      "cell_type": "code",
      "metadata": {
        "id": "-BH_klRLoa-s",
        "colab_type": "code",
        "colab": {},
        "outputId": "f138d3b9-2b5f-44ea-8788-3cd0e53f0f88"
      },
      "source": [
        "xpred = 15\n",
        "ypred = m*xpred +b\n",
        "ypred"
      ],
      "execution_count": null,
      "outputs": [
        {
          "output_type": "execute_result",
          "data": {
            "text/plain": [
              "269.0769230769231"
            ]
          },
          "metadata": {
            "tags": []
          },
          "execution_count": 43
        }
      ]
    },
    {
      "cell_type": "markdown",
      "metadata": {
        "id": "-j90SUJBoa-x",
        "colab_type": "text"
      },
      "source": [
        "### Modelo Preditivo\n",
        "Criar modelo preditivo para prever (ou estimar) o rendimento de qualquer mês"
      ]
    },
    {
      "cell_type": "markdown",
      "metadata": {
        "id": "sjgsijZWoa-x",
        "colab_type": "text"
      },
      "source": [
        "$$\\hat{y} = mx + b$$"
      ]
    },
    {
      "cell_type": "code",
      "metadata": {
        "id": "FQDZg4Iwoa-y",
        "colab_type": "code",
        "colab": {}
      },
      "source": [
        "xpred = 15\n",
        "ypred = m*xpred +b"
      ],
      "execution_count": null,
      "outputs": []
    },
    {
      "cell_type": "code",
      "metadata": {
        "id": "lxnzklsHoa-2",
        "colab_type": "code",
        "colab": {},
        "outputId": "d0fb4538-19e7-4084-a253-8e9ae3731128"
      },
      "source": [
        "ypred"
      ],
      "execution_count": null,
      "outputs": [
        {
          "output_type": "execute_result",
          "data": {
            "text/plain": [
              "269.0769230769231"
            ]
          },
          "metadata": {
            "tags": []
          },
          "execution_count": 47
        }
      ]
    },
    {
      "cell_type": "markdown",
      "metadata": {
        "id": "SDCpCuiroa-7",
        "colab_type": "text"
      },
      "source": [
        "### Predições para os 12 meses\n",
        "Criar uma lista contendo as predições para cada um dos 12 meses"
      ]
    },
    {
      "cell_type": "code",
      "metadata": {
        "id": "3HNf9-_Uoa-8",
        "colab_type": "code",
        "colab": {}
      },
      "source": [
        "pred_manual = []\n",
        "for elemento in x:\n",
        "    ypred = m*elemento + b\n",
        "    pred_manual.append(ypred)"
      ],
      "execution_count": null,
      "outputs": []
    },
    {
      "cell_type": "code",
      "metadata": {
        "id": "mPwNo2Pxoa-_",
        "colab_type": "code",
        "colab": {},
        "outputId": "09ba3f03-4cee-4410-d130-a804f2ee820f"
      },
      "source": [
        "pred_manual"
      ],
      "execution_count": null,
      "outputs": [
        {
          "output_type": "execute_result",
          "data": {
            "text/plain": [
              "[23.538461538461522,\n",
              " 41.07692307692306,\n",
              " 58.6153846153846,\n",
              " 76.15384615384615,\n",
              " 93.6923076923077,\n",
              " 111.23076923076923,\n",
              " 128.76923076923075,\n",
              " 146.3076923076923,\n",
              " 163.84615384615384,\n",
              " 181.3846153846154,\n",
              " 198.9230769230769,\n",
              " 216.46153846153845]"
            ]
          },
          "metadata": {
            "tags": []
          },
          "execution_count": 49
        }
      ]
    },
    {
      "cell_type": "markdown",
      "metadata": {
        "id": "28jMy7Hnoa_D",
        "colab_type": "text"
      },
      "source": [
        "## Inserir predições no DataFrame"
      ]
    },
    {
      "cell_type": "code",
      "metadata": {
        "id": "N1VZFEmZoa_E",
        "colab_type": "code",
        "colab": {}
      },
      "source": [
        "data['predições'] = pred_manual"
      ],
      "execution_count": null,
      "outputs": []
    },
    {
      "cell_type": "code",
      "metadata": {
        "id": "tOSYEHpIoa_I",
        "colab_type": "code",
        "colab": {},
        "outputId": "e25ef6b7-339e-4424-c284-2dba6a5cd878"
      },
      "source": [
        "data"
      ],
      "execution_count": null,
      "outputs": [
        {
          "output_type": "execute_result",
          "data": {
            "text/html": [
              "<div>\n",
              "<style scoped>\n",
              "    .dataframe tbody tr th:only-of-type {\n",
              "        vertical-align: middle;\n",
              "    }\n",
              "\n",
              "    .dataframe tbody tr th {\n",
              "        vertical-align: top;\n",
              "    }\n",
              "\n",
              "    .dataframe thead th {\n",
              "        text-align: right;\n",
              "    }\n",
              "</style>\n",
              "<table border=\"1\" class=\"dataframe\">\n",
              "  <thead>\n",
              "    <tr style=\"text-align: right;\">\n",
              "      <th></th>\n",
              "      <th>mes</th>\n",
              "      <th>faturamento</th>\n",
              "      <th>predições</th>\n",
              "    </tr>\n",
              "  </thead>\n",
              "  <tbody>\n",
              "    <tr>\n",
              "      <th>0</th>\n",
              "      <td>1</td>\n",
              "      <td>25</td>\n",
              "      <td>23.538462</td>\n",
              "    </tr>\n",
              "    <tr>\n",
              "      <th>1</th>\n",
              "      <td>2</td>\n",
              "      <td>38</td>\n",
              "      <td>41.076923</td>\n",
              "    </tr>\n",
              "    <tr>\n",
              "      <th>2</th>\n",
              "      <td>3</td>\n",
              "      <td>29</td>\n",
              "      <td>58.615385</td>\n",
              "    </tr>\n",
              "    <tr>\n",
              "      <th>3</th>\n",
              "      <td>4</td>\n",
              "      <td>115</td>\n",
              "      <td>76.153846</td>\n",
              "    </tr>\n",
              "    <tr>\n",
              "      <th>4</th>\n",
              "      <td>5</td>\n",
              "      <td>82</td>\n",
              "      <td>93.692308</td>\n",
              "    </tr>\n",
              "    <tr>\n",
              "      <th>5</th>\n",
              "      <td>6</td>\n",
              "      <td>114</td>\n",
              "      <td>111.230769</td>\n",
              "    </tr>\n",
              "    <tr>\n",
              "      <th>6</th>\n",
              "      <td>7</td>\n",
              "      <td>120</td>\n",
              "      <td>128.769231</td>\n",
              "    </tr>\n",
              "    <tr>\n",
              "      <th>7</th>\n",
              "      <td>8</td>\n",
              "      <td>160</td>\n",
              "      <td>146.307692</td>\n",
              "    </tr>\n",
              "    <tr>\n",
              "      <th>8</th>\n",
              "      <td>9</td>\n",
              "      <td>153</td>\n",
              "      <td>163.846154</td>\n",
              "    </tr>\n",
              "    <tr>\n",
              "      <th>9</th>\n",
              "      <td>10</td>\n",
              "      <td>190</td>\n",
              "      <td>181.384615</td>\n",
              "    </tr>\n",
              "    <tr>\n",
              "      <th>10</th>\n",
              "      <td>11</td>\n",
              "      <td>239</td>\n",
              "      <td>198.923077</td>\n",
              "    </tr>\n",
              "    <tr>\n",
              "      <th>11</th>\n",
              "      <td>12</td>\n",
              "      <td>175</td>\n",
              "      <td>216.461538</td>\n",
              "    </tr>\n",
              "  </tbody>\n",
              "</table>\n",
              "</div>"
            ],
            "text/plain": [
              "    mes  faturamento   predições\n",
              "0     1           25   23.538462\n",
              "1     2           38   41.076923\n",
              "2     3           29   58.615385\n",
              "3     4          115   76.153846\n",
              "4     5           82   93.692308\n",
              "5     6          114  111.230769\n",
              "6     7          120  128.769231\n",
              "7     8          160  146.307692\n",
              "8     9          153  163.846154\n",
              "9    10          190  181.384615\n",
              "10   11          239  198.923077\n",
              "11   12          175  216.461538"
            ]
          },
          "metadata": {
            "tags": []
          },
          "execution_count": 52
        }
      ]
    },
    {
      "cell_type": "markdown",
      "metadata": {
        "id": "iqvLJmnJoa_O",
        "colab_type": "text"
      },
      "source": [
        "### Visualizar Regressão Linear"
      ]
    },
    {
      "cell_type": "code",
      "metadata": {
        "id": "GUOcCQLvoa_P",
        "colab_type": "code",
        "colab": {},
        "outputId": "25a2611a-9f7d-40be-9826-cf2e82533f0f"
      },
      "source": [
        "plt.scatter(x,y)\n",
        "plt.plot(x,data['predições'], color='red')"
      ],
      "execution_count": null,
      "outputs": [
        {
          "output_type": "execute_result",
          "data": {
            "text/plain": [
              "[<matplotlib.lines.Line2D at 0x13705650730>]"
            ]
          },
          "metadata": {
            "tags": []
          },
          "execution_count": 53
        },
        {
          "output_type": "display_data",
          "data": {
            "image/png": "[encoded data removed]",
            "text/plain": [
              "<Figure size 432x288 with 1 Axes>"
            ]
          },
          "metadata": {
            "tags": [],
            "needs_background": "light"
          }
        }
      ]
    },
    {
      "cell_type": "markdown",
      "metadata": {
        "id": "W0wbdHiioa_T",
        "colab_type": "text"
      },
      "source": [
        "# Coeficiente de Determinação - R-quadrado ($R²$)"
      ]
    },
    {
      "cell_type": "markdown",
      "metadata": {
        "id": "PXuNXwtNoa_T",
        "colab_type": "text"
      },
      "source": [
        "$$R^2 = 1 - \\frac {SQ_{res}} {SQ_{tot}} = 1 - \\frac {\\sum (y_i - \\hat{y}_i)^2}{\\sum (y_i - \\overline y)^2} $$"
      ]
    },
    {
      "cell_type": "markdown",
      "metadata": {
        "id": "VmbeAgx3oa_U",
        "colab_type": "text"
      },
      "source": [
        "### Calcular Soma Quadrática dos Resíduos (SQres)"
      ]
    },
    {
      "cell_type": "code",
      "metadata": {
        "id": "Y57o3sIeoa_V",
        "colab_type": "code",
        "colab": {}
      },
      "source": [
        "data['resíduos'] = y - pred_manual"
      ],
      "execution_count": null,
      "outputs": []
    },
    {
      "cell_type": "code",
      "metadata": {
        "id": "pVVk0SL4oa_Y",
        "colab_type": "code",
        "colab": {},
        "outputId": "5e57e12c-6674-414d-e84c-ebe49a3bd2b7"
      },
      "source": [
        "data"
      ],
      "execution_count": null,
      "outputs": [
        {
          "output_type": "execute_result",
          "data": {
            "text/html": [
              "<div>\n",
              "<style scoped>\n",
              "    .dataframe tbody tr th:only-of-type {\n",
              "        vertical-align: middle;\n",
              "    }\n",
              "\n",
              "    .dataframe tbody tr th {\n",
              "        vertical-align: top;\n",
              "    }\n",
              "\n",
              "    .dataframe thead th {\n",
              "        text-align: right;\n",
              "    }\n",
              "</style>\n",
              "<table border=\"1\" class=\"dataframe\">\n",
              "  <thead>\n",
              "    <tr style=\"text-align: right;\">\n",
              "      <th></th>\n",
              "      <th>mes</th>\n",
              "      <th>faturamento</th>\n",
              "      <th>predições</th>\n",
              "      <th>resíduos</th>\n",
              "    </tr>\n",
              "  </thead>\n",
              "  <tbody>\n",
              "    <tr>\n",
              "      <th>0</th>\n",
              "      <td>1</td>\n",
              "      <td>25</td>\n",
              "      <td>23.538462</td>\n",
              "      <td>1.461538</td>\n",
              "    </tr>\n",
              "    <tr>\n",
              "      <th>1</th>\n",
              "      <td>2</td>\n",
              "      <td>38</td>\n",
              "      <td>41.076923</td>\n",
              "      <td>-3.076923</td>\n",
              "    </tr>\n",
              "    <tr>\n",
              "      <th>2</th>\n",
              "      <td>3</td>\n",
              "      <td>29</td>\n",
              "      <td>58.615385</td>\n",
              "      <td>-29.615385</td>\n",
              "    </tr>\n",
              "    <tr>\n",
              "      <th>3</th>\n",
              "      <td>4</td>\n",
              "      <td>115</td>\n",
              "      <td>76.153846</td>\n",
              "      <td>38.846154</td>\n",
              "    </tr>\n",
              "    <tr>\n",
              "      <th>4</th>\n",
              "      <td>5</td>\n",
              "      <td>82</td>\n",
              "      <td>93.692308</td>\n",
              "      <td>-11.692308</td>\n",
              "    </tr>\n",
              "    <tr>\n",
              "      <th>5</th>\n",
              "      <td>6</td>\n",
              "      <td>114</td>\n",
              "      <td>111.230769</td>\n",
              "      <td>2.769231</td>\n",
              "    </tr>\n",
              "    <tr>\n",
              "      <th>6</th>\n",
              "      <td>7</td>\n",
              "      <td>120</td>\n",
              "      <td>128.769231</td>\n",
              "      <td>-8.769231</td>\n",
              "    </tr>\n",
              "    <tr>\n",
              "      <th>7</th>\n",
              "      <td>8</td>\n",
              "      <td>160</td>\n",
              "      <td>146.307692</td>\n",
              "      <td>13.692308</td>\n",
              "    </tr>\n",
              "    <tr>\n",
              "      <th>8</th>\n",
              "      <td>9</td>\n",
              "      <td>153</td>\n",
              "      <td>163.846154</td>\n",
              "      <td>-10.846154</td>\n",
              "    </tr>\n",
              "    <tr>\n",
              "      <th>9</th>\n",
              "      <td>10</td>\n",
              "      <td>190</td>\n",
              "      <td>181.384615</td>\n",
              "      <td>8.615385</td>\n",
              "    </tr>\n",
              "    <tr>\n",
              "      <th>10</th>\n",
              "      <td>11</td>\n",
              "      <td>239</td>\n",
              "      <td>198.923077</td>\n",
              "      <td>40.076923</td>\n",
              "    </tr>\n",
              "    <tr>\n",
              "      <th>11</th>\n",
              "      <td>12</td>\n",
              "      <td>175</td>\n",
              "      <td>216.461538</td>\n",
              "      <td>-41.461538</td>\n",
              "    </tr>\n",
              "  </tbody>\n",
              "</table>\n",
              "</div>"
            ],
            "text/plain": [
              "    mes  faturamento   predições   resíduos\n",
              "0     1           25   23.538462   1.461538\n",
              "1     2           38   41.076923  -3.076923\n",
              "2     3           29   58.615385 -29.615385\n",
              "3     4          115   76.153846  38.846154\n",
              "4     5           82   93.692308 -11.692308\n",
              "5     6          114  111.230769   2.769231\n",
              "6     7          120  128.769231  -8.769231\n",
              "7     8          160  146.307692  13.692308\n",
              "8     9          153  163.846154 -10.846154\n",
              "9    10          190  181.384615   8.615385\n",
              "10   11          239  198.923077  40.076923\n",
              "11   12          175  216.461538 -41.461538"
            ]
          },
          "metadata": {
            "tags": []
          },
          "execution_count": 55
        }
      ]
    },
    {
      "cell_type": "code",
      "metadata": {
        "id": "IOxSwlf-oa_c",
        "colab_type": "code",
        "colab": {},
        "outputId": "4f0567fa-c0f6-4e38-aa23-aa5026726db7"
      },
      "source": [
        "SQres = (data['resíduos']**2).sum()\n",
        "SQres.round(4)"
      ],
      "execution_count": null,
      "outputs": [
        {
          "output_type": "execute_result",
          "data": {
            "text/plain": [
              "6323.5385"
            ]
          },
          "metadata": {
            "tags": []
          },
          "execution_count": 59
        }
      ]
    },
    {
      "cell_type": "markdown",
      "metadata": {
        "id": "63USKRw1oa_g",
        "colab_type": "text"
      },
      "source": [
        "### Calcular Soma Quadrática Total (SQtot)"
      ]
    },
    {
      "cell_type": "code",
      "metadata": {
        "id": "yrlu9peyoa_h",
        "colab_type": "code",
        "colab": {},
        "outputId": "13daa381-6b08-4b06-de5c-286afd9f9047"
      },
      "source": [
        "media =data['faturamento'].mean()\n",
        "media"
      ],
      "execution_count": null,
      "outputs": [
        {
          "output_type": "execute_result",
          "data": {
            "text/plain": [
              "120.0"
            ]
          },
          "metadata": {
            "tags": []
          },
          "execution_count": 61
        }
      ]
    },
    {
      "cell_type": "code",
      "metadata": {
        "id": "r3tuwra2oa_l",
        "colab_type": "code",
        "colab": {},
        "outputId": "0856821a-e916-4850-df10-0f2f22dd6fb7"
      },
      "source": [
        "data['faturamento_medio'] = media\n",
        "data"
      ],
      "execution_count": null,
      "outputs": [
        {
          "output_type": "execute_result",
          "data": {
            "text/html": [
              "<div>\n",
              "<style scoped>\n",
              "    .dataframe tbody tr th:only-of-type {\n",
              "        vertical-align: middle;\n",
              "    }\n",
              "\n",
              "    .dataframe tbody tr th {\n",
              "        vertical-align: top;\n",
              "    }\n",
              "\n",
              "    .dataframe thead th {\n",
              "        text-align: right;\n",
              "    }\n",
              "</style>\n",
              "<table border=\"1\" class=\"dataframe\">\n",
              "  <thead>\n",
              "    <tr style=\"text-align: right;\">\n",
              "      <th></th>\n",
              "      <th>mes</th>\n",
              "      <th>faturamento</th>\n",
              "      <th>predições</th>\n",
              "      <th>resíduos</th>\n",
              "      <th>faturamento_medio</th>\n",
              "    </tr>\n",
              "  </thead>\n",
              "  <tbody>\n",
              "    <tr>\n",
              "      <th>0</th>\n",
              "      <td>1</td>\n",
              "      <td>25</td>\n",
              "      <td>23.538462</td>\n",
              "      <td>1.461538</td>\n",
              "      <td>120.0</td>\n",
              "    </tr>\n",
              "    <tr>\n",
              "      <th>1</th>\n",
              "      <td>2</td>\n",
              "      <td>38</td>\n",
              "      <td>41.076923</td>\n",
              "      <td>-3.076923</td>\n",
              "      <td>120.0</td>\n",
              "    </tr>\n",
              "    <tr>\n",
              "      <th>2</th>\n",
              "      <td>3</td>\n",
              "      <td>29</td>\n",
              "      <td>58.615385</td>\n",
              "      <td>-29.615385</td>\n",
              "      <td>120.0</td>\n",
              "    </tr>\n",
              "    <tr>\n",
              "      <th>3</th>\n",
              "      <td>4</td>\n",
              "      <td>115</td>\n",
              "      <td>76.153846</td>\n",
              "      <td>38.846154</td>\n",
              "      <td>120.0</td>\n",
              "    </tr>\n",
              "    <tr>\n",
              "      <th>4</th>\n",
              "      <td>5</td>\n",
              "      <td>82</td>\n",
              "      <td>93.692308</td>\n",
              "      <td>-11.692308</td>\n",
              "      <td>120.0</td>\n",
              "    </tr>\n",
              "    <tr>\n",
              "      <th>5</th>\n",
              "      <td>6</td>\n",
              "      <td>114</td>\n",
              "      <td>111.230769</td>\n",
              "      <td>2.769231</td>\n",
              "      <td>120.0</td>\n",
              "    </tr>\n",
              "    <tr>\n",
              "      <th>6</th>\n",
              "      <td>7</td>\n",
              "      <td>120</td>\n",
              "      <td>128.769231</td>\n",
              "      <td>-8.769231</td>\n",
              "      <td>120.0</td>\n",
              "    </tr>\n",
              "    <tr>\n",
              "      <th>7</th>\n",
              "      <td>8</td>\n",
              "      <td>160</td>\n",
              "      <td>146.307692</td>\n",
              "      <td>13.692308</td>\n",
              "      <td>120.0</td>\n",
              "    </tr>\n",
              "    <tr>\n",
              "      <th>8</th>\n",
              "      <td>9</td>\n",
              "      <td>153</td>\n",
              "      <td>163.846154</td>\n",
              "      <td>-10.846154</td>\n",
              "      <td>120.0</td>\n",
              "    </tr>\n",
              "    <tr>\n",
              "      <th>9</th>\n",
              "      <td>10</td>\n",
              "      <td>190</td>\n",
              "      <td>181.384615</td>\n",
              "      <td>8.615385</td>\n",
              "      <td>120.0</td>\n",
              "    </tr>\n",
              "    <tr>\n",
              "      <th>10</th>\n",
              "      <td>11</td>\n",
              "      <td>239</td>\n",
              "      <td>198.923077</td>\n",
              "      <td>40.076923</td>\n",
              "      <td>120.0</td>\n",
              "    </tr>\n",
              "    <tr>\n",
              "      <th>11</th>\n",
              "      <td>12</td>\n",
              "      <td>175</td>\n",
              "      <td>216.461538</td>\n",
              "      <td>-41.461538</td>\n",
              "      <td>120.0</td>\n",
              "    </tr>\n",
              "  </tbody>\n",
              "</table>\n",
              "</div>"
            ],
            "text/plain": [
              "    mes  faturamento   predições   resíduos  faturamento_medio\n",
              "0     1           25   23.538462   1.461538              120.0\n",
              "1     2           38   41.076923  -3.076923              120.0\n",
              "2     3           29   58.615385 -29.615385              120.0\n",
              "3     4          115   76.153846  38.846154              120.0\n",
              "4     5           82   93.692308 -11.692308              120.0\n",
              "5     6          114  111.230769   2.769231              120.0\n",
              "6     7          120  128.769231  -8.769231              120.0\n",
              "7     8          160  146.307692  13.692308              120.0\n",
              "8     9          153  163.846154 -10.846154              120.0\n",
              "9    10          190  181.384615   8.615385              120.0\n",
              "10   11          239  198.923077  40.076923              120.0\n",
              "11   12          175  216.461538 -41.461538              120.0"
            ]
          },
          "metadata": {
            "tags": []
          },
          "execution_count": 62
        }
      ]
    },
    {
      "cell_type": "code",
      "metadata": {
        "id": "IdKqUZl2oa_p",
        "colab_type": "code",
        "colab": {},
        "outputId": "2fc2a5b6-4b30-4f24-ccfa-addb370e3d01"
      },
      "source": [
        "SQtot = ((data['faturamento'] - data['faturamento_medio'])**2).sum()\n",
        "SQtot"
      ],
      "execution_count": null,
      "outputs": [
        {
          "output_type": "execute_result",
          "data": {
            "text/plain": [
              "50310.0"
            ]
          },
          "metadata": {
            "tags": []
          },
          "execution_count": 64
        }
      ]
    },
    {
      "cell_type": "code",
      "metadata": {
        "id": "Z6GmQJ0Goa_s",
        "colab_type": "code",
        "colab": {},
        "outputId": "ed56f510-c3b1-4882-810c-1a4d9b4f26bb"
      },
      "source": [
        "plt.scatter(x,y)\n",
        "plt.plot(x,data['faturamento_medio'], color='red')\n",
        "plt.show()"
      ],
      "execution_count": null,
      "outputs": [
        {
          "output_type": "display_data",
          "data": {
            "image/png": "[encoded data removed]",
            "text/plain": [
              "<Figure size 432x288 with 1 Axes>"
            ]
          },
          "metadata": {
            "tags": [],
            "needs_background": "light"
          }
        }
      ]
    },
    {
      "cell_type": "markdown",
      "metadata": {
        "id": "cCY8rCbyoa_w",
        "colab_type": "text"
      },
      "source": [
        "### Calcular R-quadrado"
      ]
    },
    {
      "cell_type": "code",
      "metadata": {
        "id": "AAkLk8Rpoa_x",
        "colab_type": "code",
        "colab": {}
      },
      "source": [
        "r_quadrado = 1-SQres/SQtot"
      ],
      "execution_count": null,
      "outputs": []
    },
    {
      "cell_type": "code",
      "metadata": {
        "id": "E16jgBzjoa_2",
        "colab_type": "code",
        "colab": {},
        "outputId": "a3a4ff52-fc9c-45e9-c540-2c7241737171"
      },
      "source": [
        "r_quadrado # Avaliação do modelo preditivo"
      ],
      "execution_count": null,
      "outputs": [
        {
          "output_type": "execute_result",
          "data": {
            "text/plain": [
              "0.8743085179578918"
            ]
          },
          "metadata": {
            "tags": []
          },
          "execution_count": 72
        }
      ]
    },
    {
      "cell_type": "markdown",
      "metadata": {
        "id": "acPHEkzLoa_9",
        "colab_type": "text"
      },
      "source": [
        "# RMSE\n",
        "Raiz do Erro Quadrático Médio\n",
        "\n",
        "$ e = y_i - \\hat{y_i} $ <br>\n",
        "\n",
        "$ RMSE = \\sqrt {\\sum \\frac {e^2}{n}}$<br>\n",
        "\n"
      ]
    },
    {
      "cell_type": "code",
      "metadata": {
        "id": "e4t65ZfGoa_-",
        "colab_type": "code",
        "colab": {},
        "outputId": "765b8768-0851-43ba-ed15-40812cdea37e"
      },
      "source": [
        "(data['resíduos']**2).sum()"
      ],
      "execution_count": null,
      "outputs": [
        {
          "output_type": "execute_result",
          "data": {
            "text/plain": [
              "6323.538461538462"
            ]
          },
          "metadata": {
            "tags": []
          },
          "execution_count": 74
        }
      ]
    },
    {
      "cell_type": "code",
      "metadata": {
        "id": "ZQkp_kXrobAC",
        "colab_type": "code",
        "colab": {},
        "outputId": "019b3212-bb0e-4335-b482-d8f77480397d"
      },
      "source": [
        "SQres"
      ],
      "execution_count": null,
      "outputs": [
        {
          "output_type": "execute_result",
          "data": {
            "text/plain": [
              "6323.538461538462"
            ]
          },
          "metadata": {
            "tags": []
          },
          "execution_count": 76
        }
      ]
    },
    {
      "cell_type": "code",
      "metadata": {
        "id": "tIH5QT5ZobAF",
        "colab_type": "code",
        "colab": {}
      },
      "source": [
        "rmse = np.sqrt(SQres/len(data))"
      ],
      "execution_count": null,
      "outputs": []
    },
    {
      "cell_type": "code",
      "metadata": {
        "id": "H1KfmQtMobAK",
        "colab_type": "code",
        "colab": {},
        "outputId": "e0438d03-23eb-4028-9c11-1a56b947fbb9"
      },
      "source": [
        "rmse.round(4)"
      ],
      "execution_count": null,
      "outputs": [
        {
          "output_type": "execute_result",
          "data": {
            "text/plain": [
              "22.9556"
            ]
          },
          "metadata": {
            "tags": []
          },
          "execution_count": 82
        }
      ]
    },
    {
      "cell_type": "markdown",
      "metadata": {
        "id": "DUaNO7bDobAR",
        "colab_type": "text"
      },
      "source": [
        "### Importar numpy"
      ]
    },
    {
      "cell_type": "code",
      "metadata": {
        "id": "3C-Z1H8cobAS",
        "colab_type": "code",
        "colab": {}
      },
      "source": [
        "import numpy as np"
      ],
      "execution_count": null,
      "outputs": []
    },
    {
      "cell_type": "markdown",
      "metadata": {
        "id": "deNnOmyIobAW",
        "colab_type": "text"
      },
      "source": [
        "# Regra Empírica 68-95-99.7"
      ]
    },
    {
      "cell_type": "code",
      "metadata": {
        "id": "pqYtVS9HobAX",
        "colab_type": "code",
        "colab": {}
      },
      "source": [
        "# 68%\n",
        "um_acima = pred_manual+rmse\n",
        "um_abaixo = pred_manual-rmse"
      ],
      "execution_count": null,
      "outputs": []
    },
    {
      "cell_type": "code",
      "metadata": {
        "id": "x9byoJa8obAa",
        "colab_type": "code",
        "colab": {}
      },
      "source": [
        "# 95%\n",
        "dois_acima = pred_manual+2*rmse\n",
        "dois_abaixo = pred_manual-2*rmse"
      ],
      "execution_count": null,
      "outputs": []
    },
    {
      "cell_type": "code",
      "metadata": {
        "id": "-M5s-NIcobAf",
        "colab_type": "code",
        "colab": {}
      },
      "source": [
        "# 99,7%\n",
        "tres_acima = pred_manual+3*rmse\n",
        "tres_abaixo = pred_manual-3*rmse"
      ],
      "execution_count": null,
      "outputs": []
    },
    {
      "cell_type": "markdown",
      "metadata": {
        "id": "8d5PhuYzobAm",
        "colab_type": "text"
      },
      "source": [
        "# Um desvio padrão 68% "
      ]
    },
    {
      "cell_type": "code",
      "metadata": {
        "id": "jld-VKBsobAm",
        "colab_type": "code",
        "colab": {},
        "outputId": "f9822133-4aef-466b-e7c2-c3f31995daa3"
      },
      "source": [
        "plt.scatter(x,y)\n",
        "plt.plot(x,pred_manual, color='red')\n",
        "plt.plot(x,um_acima, color='purple')\n",
        "plt.plot(x,um_abaixo, color='purple')"
      ],
      "execution_count": null,
      "outputs": [
        {
          "output_type": "execute_result",
          "data": {
            "text/plain": [
              "[<matplotlib.lines.Line2D at 0x13705a3a880>]"
            ]
          },
          "metadata": {
            "tags": []
          },
          "execution_count": 92
        },
        {
          "output_type": "display_data",
          "data": {
            "image/png": "[encoded data removed]",
            "text/plain": [
              "<Figure size 432x288 with 1 Axes>"
            ]
          },
          "metadata": {
            "tags": [],
            "needs_background": "light"
          }
        }
      ]
    },
    {
      "cell_type": "markdown",
      "metadata": {
        "id": "RKHYmUTuobAp",
        "colab_type": "text"
      },
      "source": [
        "# Dois desvios padrões 95%"
      ]
    },
    {
      "cell_type": "code",
      "metadata": {
        "id": "Zd1UmpxVobAq",
        "colab_type": "code",
        "colab": {},
        "outputId": "d7f182fa-371d-41e3-cc34-de751ff72c27"
      },
      "source": [
        "plt.scatter(x,y)\n",
        "plt.plot(x,pred_manual, color='red')\n",
        "plt.plot(x,um_acima, color='purple')\n",
        "plt.plot(x,um_abaixo, color='purple')\n",
        "plt.plot(x,dois_acima, color='green')\n",
        "plt.plot(x,dois_abaixo, color='green')"
      ],
      "execution_count": null,
      "outputs": [
        {
          "output_type": "execute_result",
          "data": {
            "text/plain": [
              "[<matplotlib.lines.Line2D at 0x13705c75ee0>]"
            ]
          },
          "metadata": {
            "tags": []
          },
          "execution_count": 93
        },
        {
          "output_type": "display_data",
          "data": {
            "image/png": "[encoded data removed]",
            "text/plain": [
              "<Figure size 432x288 with 1 Axes>"
            ]
          },
          "metadata": {
            "tags": [],
            "needs_background": "light"
          }
        }
      ]
    },
    {
      "cell_type": "markdown",
      "metadata": {
        "id": "jA1HAkl3obAy",
        "colab_type": "text"
      },
      "source": [
        "# Três desvios padrões 99.7%"
      ]
    },
    {
      "cell_type": "code",
      "metadata": {
        "id": "SB4Fzz1cobA0",
        "colab_type": "code",
        "colab": {},
        "outputId": "e7dbf9c9-f4e4-4dd6-f63e-b8c8fc5356d1"
      },
      "source": [
        "plt.scatter(x,y)\n",
        "plt.plot(x,pred_manual, color='red')\n",
        "plt.plot(x,um_acima, color='purple')\n",
        "plt.plot(x,um_abaixo, color='purple')\n",
        "plt.plot(x,dois_acima, color='green')\n",
        "plt.plot(x,dois_abaixo, color='green')\n",
        "plt.plot(x,tres_acima, color='blue')\n",
        "plt.plot(x,tres_abaixo, color='blue')"
      ],
      "execution_count": null,
      "outputs": [
        {
          "output_type": "execute_result",
          "data": {
            "text/plain": [
              "[<matplotlib.lines.Line2D at 0x13704dc4400>]"
            ]
          },
          "metadata": {
            "tags": []
          },
          "execution_count": 94
        },
        {
          "output_type": "display_data",
          "data": {
            "image/png": "[encoded data removed]",
            "text/plain": [
              "<Figure size 432x288 with 1 Axes>"
            ]
          },
          "metadata": {
            "tags": [],
            "needs_background": "light"
          }
        }
      ]
    },
    {
      "cell_type": "markdown",
      "metadata": {
        "id": "YW6ff1lyobA7",
        "colab_type": "text"
      },
      "source": [
        "# Regressão Linear - Statsmodels"
      ]
    },
    {
      "cell_type": "markdown",
      "metadata": {
        "id": "hcgGCucLobA7",
        "colab_type": "text"
      },
      "source": [
        "### Importar Statsmodels "
      ]
    },
    {
      "cell_type": "code",
      "metadata": {
        "id": "Zi9thO4sobA8",
        "colab_type": "code",
        "colab": {}
      },
      "source": [
        "import statsmodels.api as sm"
      ],
      "execution_count": null,
      "outputs": []
    },
    {
      "cell_type": "markdown",
      "metadata": {
        "id": "ICBhXMsDobBC",
        "colab_type": "text"
      },
      "source": [
        "### Definir x e y"
      ]
    },
    {
      "cell_type": "code",
      "metadata": {
        "id": "zMs_4-BGobBD",
        "colab_type": "code",
        "colab": {}
      },
      "source": [
        "x = data['mes']\n",
        "y = data['faturamento']"
      ],
      "execution_count": null,
      "outputs": []
    },
    {
      "cell_type": "markdown",
      "metadata": {
        "id": "ALTW2y-vobBL",
        "colab_type": "text"
      },
      "source": [
        "### Adicionar constante"
      ]
    },
    {
      "cell_type": "code",
      "metadata": {
        "id": "4uwTko2YobBL",
        "colab_type": "code",
        "colab": {}
      },
      "source": [
        "x = sm.add_constant(x.values)"
      ],
      "execution_count": null,
      "outputs": []
    },
    {
      "cell_type": "code",
      "metadata": {
        "id": "1GYH8fntobBP",
        "colab_type": "code",
        "colab": {},
        "outputId": "df8836a3-434e-4af0-9021-5673388bdab1"
      },
      "source": [
        "x"
      ],
      "execution_count": null,
      "outputs": [
        {
          "output_type": "execute_result",
          "data": {
            "text/plain": [
              "array([[ 1.,  1.],\n",
              "       [ 1.,  2.],\n",
              "       [ 1.,  3.],\n",
              "       [ 1.,  4.],\n",
              "       [ 1.,  5.],\n",
              "       [ 1.,  6.],\n",
              "       [ 1.,  7.],\n",
              "       [ 1.,  8.],\n",
              "       [ 1.,  9.],\n",
              "       [ 1., 10.],\n",
              "       [ 1., 11.],\n",
              "       [ 1., 12.]])"
            ]
          },
          "metadata": {
            "tags": []
          },
          "execution_count": 99
        }
      ]
    },
    {
      "cell_type": "markdown",
      "metadata": {
        "id": "Y5ghnNZZobBU",
        "colab_type": "text"
      },
      "source": [
        "### Treinar Modelo"
      ]
    },
    {
      "cell_type": "code",
      "metadata": {
        "id": "fGVeSaJVobBV",
        "colab_type": "code",
        "colab": {}
      },
      "source": [
        "modelo = sm.OLS(y,x).fit()"
      ],
      "execution_count": null,
      "outputs": []
    },
    {
      "cell_type": "markdown",
      "metadata": {
        "id": "DP3kQ4pzobBa",
        "colab_type": "text"
      },
      "source": [
        "### Gerar predição"
      ]
    },
    {
      "cell_type": "code",
      "metadata": {
        "id": "GrWUbaSbobBb",
        "colab_type": "code",
        "colab": {}
      },
      "source": [
        "sm_pred = modelo.predict()"
      ],
      "execution_count": null,
      "outputs": []
    },
    {
      "cell_type": "code",
      "metadata": {
        "id": "0I0C0TcVobBe",
        "colab_type": "code",
        "colab": {},
        "outputId": "4e1dd430-7d05-4acc-91a2-01d981f70b09"
      },
      "source": [
        "sm_pred"
      ],
      "execution_count": null,
      "outputs": [
        {
          "output_type": "execute_result",
          "data": {
            "text/plain": [
              "array([ 23.53846154,  41.07692308,  58.61538462,  76.15384615,\n",
              "        93.69230769, 111.23076923, 128.76923077, 146.30769231,\n",
              "       163.84615385, 181.38461538, 198.92307692, 216.46153846])"
            ]
          },
          "metadata": {
            "tags": []
          },
          "execution_count": 104
        }
      ]
    },
    {
      "cell_type": "code",
      "metadata": {
        "id": "RmiA8EIeobBi",
        "colab_type": "code",
        "colab": {},
        "outputId": "650e6511-4023-4ba0-b5b9-daedadddb3f1"
      },
      "source": [
        "np.array(pred_manual) "
      ],
      "execution_count": null,
      "outputs": [
        {
          "output_type": "execute_result",
          "data": {
            "text/plain": [
              "array([ 23.53846154,  41.07692308,  58.61538462,  76.15384615,\n",
              "        93.69230769, 111.23076923, 128.76923077, 146.30769231,\n",
              "       163.84615385, 181.38461538, 198.92307692, 216.46153846])"
            ]
          },
          "metadata": {
            "tags": []
          },
          "execution_count": 105
        }
      ]
    },
    {
      "cell_type": "markdown",
      "metadata": {
        "id": "tkF2sko4obBl",
        "colab_type": "text"
      },
      "source": [
        "### Verificar parâmetros de performance do Modelo Preditivo"
      ]
    },
    {
      "cell_type": "code",
      "metadata": {
        "id": "NUwGW0IyobBl",
        "colab_type": "code",
        "colab": {},
        "outputId": "2e4dc2f2-616c-418a-b9c0-7084fdc3880d"
      },
      "source": [
        "modelo.summary()"
      ],
      "execution_count": null,
      "outputs": [
        {
          "output_type": "execute_result",
          "data": {
            "text/html": [
              "<table class=\"simpletable\">\n",
              "<caption>OLS Regression Results</caption>\n",
              "<tr>\n",
              "  <th>Dep. Variable:</th>       <td>faturamento</td>   <th>  R-squared:         </th> <td>   0.874</td>\n",
              "</tr>\n",
              "<tr>\n",
              "  <th>Model:</th>                   <td>OLS</td>       <th>  Adj. R-squared:    </th> <td>   0.862</td>\n",
              "</tr>\n",
              "<tr>\n",
              "  <th>Method:</th>             <td>Least Squares</td>  <th>  F-statistic:       </th> <td>   69.56</td>\n",
              "</tr>\n",
              "<tr>\n",
              "  <th>Date:</th>             <td>Thu, 24 Sep 2020</td> <th>  Prob (F-statistic):</th> <td>8.16e-06</td>\n",
              "</tr>\n",
              "<tr>\n",
              "  <th>Time:</th>                 <td>04:58:07</td>     <th>  Log-Likelihood:    </th> <td> -54.630</td>\n",
              "</tr>\n",
              "<tr>\n",
              "  <th>No. Observations:</th>      <td>    12</td>      <th>  AIC:               </th> <td>   113.3</td>\n",
              "</tr>\n",
              "<tr>\n",
              "  <th>Df Residuals:</th>          <td>    10</td>      <th>  BIC:               </th> <td>   114.2</td>\n",
              "</tr>\n",
              "<tr>\n",
              "  <th>Df Model:</th>              <td>     1</td>      <th>                     </th>     <td> </td>   \n",
              "</tr>\n",
              "<tr>\n",
              "  <th>Covariance Type:</th>      <td>nonrobust</td>    <th>                     </th>     <td> </td>   \n",
              "</tr>\n",
              "</table>\n",
              "<table class=\"simpletable\">\n",
              "<tr>\n",
              "    <td></td>       <th>coef</th>     <th>std err</th>      <th>t</th>      <th>P>|t|</th>  <th>[0.025</th>    <th>0.975]</th>  \n",
              "</tr>\n",
              "<tr>\n",
              "  <th>const</th> <td>    6.0000</td> <td>   15.477</td> <td>    0.388</td> <td> 0.706</td> <td>  -28.484</td> <td>   40.484</td>\n",
              "</tr>\n",
              "<tr>\n",
              "  <th>x1</th>    <td>   17.5385</td> <td>    2.103</td> <td>    8.340</td> <td> 0.000</td> <td>   12.853</td> <td>   22.224</td>\n",
              "</tr>\n",
              "</table>\n",
              "<table class=\"simpletable\">\n",
              "<tr>\n",
              "  <th>Omnibus:</th>       <td> 0.197</td> <th>  Durbin-Watson:     </th> <td>   2.757</td>\n",
              "</tr>\n",
              "<tr>\n",
              "  <th>Prob(Omnibus):</th> <td> 0.906</td> <th>  Jarque-Bera (JB):  </th> <td>   0.142</td>\n",
              "</tr>\n",
              "<tr>\n",
              "  <th>Skew:</th>          <td> 0.175</td> <th>  Prob(JB):          </th> <td>   0.932</td>\n",
              "</tr>\n",
              "<tr>\n",
              "  <th>Kurtosis:</th>      <td> 2.599</td> <th>  Cond. No.          </th> <td>    15.9</td>\n",
              "</tr>\n",
              "</table><br/><br/>Warnings:<br/>[1] Standard Errors assume that the covariance matrix of the errors is correctly specified."
            ],
            "text/plain": [
              "<class 'statsmodels.iolib.summary.Summary'>\n",
              "\"\"\"\n",
              "                            OLS Regression Results                            \n",
              "==============================================================================\n",
              "Dep. Variable:            faturamento   R-squared:                       0.874\n",
              "Model:                            OLS   Adj. R-squared:                  0.862\n",
              "Method:                 Least Squares   F-statistic:                     69.56\n",
              "Date:                Thu, 24 Sep 2020   Prob (F-statistic):           8.16e-06\n",
              "Time:                        04:58:07   Log-Likelihood:                -54.630\n",
              "No. Observations:                  12   AIC:                             113.3\n",
              "Df Residuals:                      10   BIC:                             114.2\n",
              "Df Model:                           1                                         \n",
              "Covariance Type:            nonrobust                                         \n",
              "==============================================================================\n",
              "                 coef    std err          t      P>|t|      [0.025      0.975]\n",
              "------------------------------------------------------------------------------\n",
              "const          6.0000     15.477      0.388      0.706     -28.484      40.484\n",
              "x1            17.5385      2.103      8.340      0.000      12.853      22.224\n",
              "==============================================================================\n",
              "Omnibus:                        0.197   Durbin-Watson:                   2.757\n",
              "Prob(Omnibus):                  0.906   Jarque-Bera (JB):                0.142\n",
              "Skew:                           0.175   Prob(JB):                        0.932\n",
              "Kurtosis:                       2.599   Cond. No.                         15.9\n",
              "==============================================================================\n",
              "\n",
              "Warnings:\n",
              "[1] Standard Errors assume that the covariance matrix of the errors is correctly specified.\n",
              "\"\"\""
            ]
          },
          "metadata": {
            "tags": []
          },
          "execution_count": 108
        }
      ]
    },
    {
      "cell_type": "code",
      "metadata": {
        "id": "HXnBw2aeobBo",
        "colab_type": "code",
        "colab": {},
        "outputId": "29a45f91-f7b2-4398-bd5d-2a509d256a28"
      },
      "source": [
        "r_quadrado # comparação com o R-quadrado calculado manualmente"
      ],
      "execution_count": null,
      "outputs": [
        {
          "output_type": "execute_result",
          "data": {
            "text/plain": [
              "0.8743085179578918"
            ]
          },
          "metadata": {
            "tags": []
          },
          "execution_count": 109
        }
      ]
    },
    {
      "cell_type": "markdown",
      "metadata": {
        "id": "EMNQou8vobBr",
        "colab_type": "text"
      },
      "source": [
        "### RMSE"
      ]
    },
    {
      "cell_type": "code",
      "metadata": {
        "id": "rEvBHiJDobBs",
        "colab_type": "code",
        "colab": {}
      },
      "source": [
        "from statsmodels.tools.eval_measures import rmse"
      ],
      "execution_count": null,
      "outputs": []
    },
    {
      "cell_type": "code",
      "metadata": {
        "id": "1Y3IEoQHobBz",
        "colab_type": "code",
        "colab": {},
        "outputId": "d7769745-a996-4efc-a082-97a62957f17b"
      },
      "source": [
        "rmse(y,sm_pred)"
      ],
      "execution_count": null,
      "outputs": [
        {
          "output_type": "execute_result",
          "data": {
            "text/plain": [
              "22.955642845747942"
            ]
          },
          "metadata": {
            "tags": []
          },
          "execution_count": 111
        }
      ]
    },
    {
      "cell_type": "markdown",
      "metadata": {
        "id": "glr1oS3sobB2",
        "colab_type": "text"
      },
      "source": [
        "# Regressão Linear - Sklearn"
      ]
    },
    {
      "cell_type": "markdown",
      "metadata": {
        "id": "BIye0MNhobB2",
        "colab_type": "text"
      },
      "source": [
        "### Importar sklearn"
      ]
    },
    {
      "cell_type": "code",
      "metadata": {
        "id": "IJocMiGRobB3",
        "colab_type": "code",
        "colab": {}
      },
      "source": [
        "from sklearn import linear_model"
      ],
      "execution_count": null,
      "outputs": []
    },
    {
      "cell_type": "markdown",
      "metadata": {
        "id": "27A4KaH4obB6",
        "colab_type": "text"
      },
      "source": [
        "### Instanciar Modelo de Regressão Linear"
      ]
    },
    {
      "cell_type": "code",
      "metadata": {
        "id": "EAt07rI9obB6",
        "colab_type": "code",
        "colab": {}
      },
      "source": [
        "lm = linear_model.LinearRegression()"
      ],
      "execution_count": null,
      "outputs": []
    },
    {
      "cell_type": "markdown",
      "metadata": {
        "id": "crAlQ6sTobB9",
        "colab_type": "text"
      },
      "source": [
        "### Reshape x (remodelar x)\n",
        "Se X não possuir múltiplas variáveis, sklearn solicita que modifiquemos o formato"
      ]
    },
    {
      "cell_type": "code",
      "metadata": {
        "id": "OQga9KGQobB9",
        "colab_type": "code",
        "colab": {}
      },
      "source": [
        "x = data['mes']\n",
        "y = data['faturamento']"
      ],
      "execution_count": null,
      "outputs": []
    },
    {
      "cell_type": "code",
      "metadata": {
        "id": "WtzwKIFeobCD",
        "colab_type": "code",
        "colab": {}
      },
      "source": [
        "x = np.array(x).reshape(-1,1) # converte o formato de DF para array"
      ],
      "execution_count": null,
      "outputs": []
    },
    {
      "cell_type": "markdown",
      "metadata": {
        "id": "fV5Ah45FobCF",
        "colab_type": "text"
      },
      "source": [
        "### Treinar Modelo"
      ]
    },
    {
      "cell_type": "code",
      "metadata": {
        "id": "Q6-6MtBWobCG",
        "colab_type": "code",
        "colab": {}
      },
      "source": [
        "sk_modelo = lm.fit(x,y)"
      ],
      "execution_count": null,
      "outputs": []
    },
    {
      "cell_type": "markdown",
      "metadata": {
        "id": "hLF8mXA8obCI",
        "colab_type": "text"
      },
      "source": [
        "### Gerar predições"
      ]
    },
    {
      "cell_type": "code",
      "metadata": {
        "id": "tUua3mzcobCI",
        "colab_type": "code",
        "colab": {}
      },
      "source": [
        "skpred = sk_modelo.predict(x)"
      ],
      "execution_count": null,
      "outputs": []
    },
    {
      "cell_type": "code",
      "metadata": {
        "id": "nNnvl7UNobCL",
        "colab_type": "code",
        "colab": {}
      },
      "source": [
        "xpred = np.array([13]).reshape(-1,1) # convertendo um número aleatório para testar o modelo "
      ],
      "execution_count": null,
      "outputs": []
    },
    {
      "cell_type": "code",
      "metadata": {
        "id": "G6Lu8F4bobCN",
        "colab_type": "code",
        "colab": {},
        "outputId": "f2957ed0-3841-4720-c998-d6acd379df00"
      },
      "source": [
        "sk_modelo.predict(xpred) # valor previsto para o 13º mês"
      ],
      "execution_count": null,
      "outputs": [
        {
          "output_type": "execute_result",
          "data": {
            "text/plain": [
              "array([234.])"
            ]
          },
          "metadata": {
            "tags": []
          },
          "execution_count": 133
        }
      ]
    },
    {
      "cell_type": "markdown",
      "metadata": {
        "id": "mtunn9wgobCQ",
        "colab_type": "text"
      },
      "source": [
        "### $R^2$"
      ]
    },
    {
      "cell_type": "code",
      "metadata": {
        "id": "YDJC2cYZobCR",
        "colab_type": "code",
        "colab": {},
        "outputId": "b28ed988-9469-46e1-b45f-9db2d43f1bc9"
      },
      "source": [
        "lm.score(x,y)"
      ],
      "execution_count": null,
      "outputs": [
        {
          "output_type": "execute_result",
          "data": {
            "text/plain": [
              "0.8743085179578918"
            ]
          },
          "metadata": {
            "tags": []
          },
          "execution_count": 135
        }
      ]
    },
    {
      "cell_type": "markdown",
      "metadata": {
        "id": "hr3kVdvyobCU",
        "colab_type": "text"
      },
      "source": [
        "### m"
      ]
    },
    {
      "cell_type": "code",
      "metadata": {
        "id": "REBqqZAqobCV",
        "colab_type": "code",
        "colab": {},
        "outputId": "676ba574-b7be-4c87-bfe0-e653e977ee2f"
      },
      "source": [
        "lm.coef_"
      ],
      "execution_count": null,
      "outputs": [
        {
          "output_type": "execute_result",
          "data": {
            "text/plain": [
              "array([17.53846154])"
            ]
          },
          "metadata": {
            "tags": []
          },
          "execution_count": 137
        }
      ]
    },
    {
      "cell_type": "code",
      "metadata": {
        "id": "6K3ssdEOobCY",
        "colab_type": "code",
        "colab": {},
        "outputId": "c4af9b64-fb00-4151-c876-21f746b4ee0e"
      },
      "source": [
        "m"
      ],
      "execution_count": null,
      "outputs": [
        {
          "output_type": "execute_result",
          "data": {
            "text/plain": [
              "17.53846153846154"
            ]
          },
          "metadata": {
            "tags": []
          },
          "execution_count": 138
        }
      ]
    },
    {
      "cell_type": "markdown",
      "metadata": {
        "id": "Zf9zYk4robCe",
        "colab_type": "text"
      },
      "source": [
        "### b"
      ]
    },
    {
      "cell_type": "code",
      "metadata": {
        "id": "a-5Rij2EobCe",
        "colab_type": "code",
        "colab": {},
        "outputId": "4e419a98-ef73-4ef9-8979-e5db4bb0d80e"
      },
      "source": [
        "lm.intercept_"
      ],
      "execution_count": null,
      "outputs": [
        {
          "output_type": "execute_result",
          "data": {
            "text/plain": [
              "6.000000000000028"
            ]
          },
          "metadata": {
            "tags": []
          },
          "execution_count": 139
        }
      ]
    },
    {
      "cell_type": "markdown",
      "metadata": {
        "id": "Vkjfb4pmobCi",
        "colab_type": "text"
      },
      "source": [
        "### RMSE"
      ]
    },
    {
      "cell_type": "code",
      "metadata": {
        "id": "uoMjw76NobCj",
        "colab_type": "code",
        "colab": {}
      },
      "source": [
        "from sklearn.metrics import mean_squared_error"
      ],
      "execution_count": null,
      "outputs": []
    },
    {
      "cell_type": "code",
      "metadata": {
        "id": "XAUDMl6cobCp",
        "colab_type": "code",
        "colab": {}
      },
      "source": [
        "mse = mean_squared_error(y,skpred)"
      ],
      "execution_count": null,
      "outputs": []
    },
    {
      "cell_type": "code",
      "metadata": {
        "id": "Fjn8DmcrobCs",
        "colab_type": "code",
        "colab": {},
        "outputId": "2dbb2f05-2650-43da-d7bb-3315afbd95f7"
      },
      "source": [
        "np.sqrt(mse)"
      ],
      "execution_count": null,
      "outputs": [
        {
          "output_type": "execute_result",
          "data": {
            "text/plain": [
              "22.95564284574794"
            ]
          },
          "metadata": {
            "tags": []
          },
          "execution_count": 142
        }
      ]
    },
    {
      "cell_type": "markdown",
      "metadata": {
        "id": "Q7KLJqjjobCv",
        "colab_type": "text"
      },
      "source": [
        "# Todas Predições"
      ]
    },
    {
      "cell_type": "markdown",
      "metadata": {
        "id": "AClHHo61obCw",
        "colab_type": "text"
      },
      "source": [
        "### Calculado Manualmente"
      ]
    },
    {
      "cell_type": "code",
      "metadata": {
        "id": "TtjoGcbuobCx",
        "colab_type": "code",
        "colab": {
          "base_uri": "https://localhost:8080/",
          "height": 163
        },
        "outputId": "5fd4d8ef-cac5-4861-b02a-064e1f915d7a"
      },
      "source": [
        "np.array(pred_manual)"
      ],
      "execution_count": 1,
      "outputs": [
        {
          "output_type": "error",
          "ename": "NameError",
          "evalue": "ignored",
          "traceback": [
            "\u001b[0;31m---------------------------------------------------------------------------\u001b[0m",
            "\u001b[0;31mNameError\u001b[0m                                 Traceback (most recent call last)",
            "\u001b[0;32m<ipython-input-1-43e288131d1b>\u001b[0m in \u001b[0;36m<module>\u001b[0;34m()\u001b[0m\n\u001b[0;32m----> 1\u001b[0;31m \u001b[0mnp\u001b[0m\u001b[0;34m.\u001b[0m\u001b[0marray\u001b[0m\u001b[0;34m(\u001b[0m\u001b[0mpred_manual\u001b[0m\u001b[0;34m)\u001b[0m\u001b[0;34m\u001b[0m\u001b[0;34m\u001b[0m\u001b[0m\n\u001b[0m",
            "\u001b[0;31mNameError\u001b[0m: name 'np' is not defined"
          ]
        }
      ]
    },
    {
      "cell_type": "markdown",
      "metadata": {
        "id": "XbUyF5GUobCz",
        "colab_type": "text"
      },
      "source": [
        "### Calculado via Statsmodel"
      ]
    },
    {
      "cell_type": "code",
      "metadata": {
        "id": "2w4W09etobC0",
        "colab_type": "code",
        "colab": {
          "base_uri": "https://localhost:8080/",
          "height": 163
        },
        "outputId": "509f949b-08df-4408-9f26-c0274870f1d3"
      },
      "source": [
        "sm_pred"
      ],
      "execution_count": 2,
      "outputs": [
        {
          "output_type": "error",
          "ename": "NameError",
          "evalue": "ignored",
          "traceback": [
            "\u001b[0;31m---------------------------------------------------------------------------\u001b[0m",
            "\u001b[0;31mNameError\u001b[0m                                 Traceback (most recent call last)",
            "\u001b[0;32m<ipython-input-2-9bf39166e651>\u001b[0m in \u001b[0;36m<module>\u001b[0;34m()\u001b[0m\n\u001b[0;32m----> 1\u001b[0;31m \u001b[0msm_pred\u001b[0m\u001b[0;34m\u001b[0m\u001b[0;34m\u001b[0m\u001b[0m\n\u001b[0m",
            "\u001b[0;31mNameError\u001b[0m: name 'sm_pred' is not defined"
          ]
        }
      ]
    },
    {
      "cell_type": "markdown",
      "metadata": {
        "id": "oKyT6-SaobC4",
        "colab_type": "text"
      },
      "source": [
        "### Calculado via Sklearn"
      ]
    },
    {
      "cell_type": "code",
      "metadata": {
        "id": "KSIls3fBobC4",
        "colab_type": "code",
        "colab": {}
      },
      "source": [
        "skpred"
      ],
      "execution_count": null,
      "outputs": []
    }
  ]
}