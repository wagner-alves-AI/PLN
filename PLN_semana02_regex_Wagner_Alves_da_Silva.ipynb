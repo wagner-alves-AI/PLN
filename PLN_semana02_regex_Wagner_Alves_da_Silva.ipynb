{
  "nbformat": 4,
  "nbformat_minor": 0,
  "metadata": {
    "colab": {
      "name": "PLN_semana02_regex_Wagner_Alves_da_Silva.ipynb",
      "provenance": [],
      "collapsed_sections": [],
      "include_colab_link": true
    },
    "kernelspec": {
      "name": "python3",
      "display_name": "Python 3"
    }
  },
  "cells": [
    {
      "cell_type": "markdown",
      "metadata": {
        "id": "view-in-github",
        "colab_type": "text"
      },
      "source": [
        "<a href=\"https://colab.research.google.com/github/wagner-alves-AI/PLN/blob/master/PLN_semana02_regex_Wagner_Alves_da_Silva.ipynb\" target=\"_parent\"><img src=\"https://colab.research.google.com/assets/colab-badge.svg\" alt=\"Open In Colab\"/></a>"
      ]
    },
    {
      "cell_type": "markdown",
      "metadata": {
        "id": "W6rIQ54xy2Wc",
        "colab_type": "text"
      },
      "source": [
        "#Expressões Regulares em Python\n",
        "## Tecnólogo em Inteligência Artificial Aplicada - Processamento de Linguagem Natural\n",
        "Nesta atividade você entrará em contato com **Expressões Regulares (RegEx)**, talvez a mais importante ferramenta de PLN para descrever/encontrar/substituir padrões de texto. Após esta atividade você será capaz de ler uma expressão regular como essa `^[0-9]{1,3}(\\.[0-9]{1,3}){1,3}$`, como você lê um texto em português."
      ]
    },
    {
      "cell_type": "markdown",
      "metadata": {
        "id": "mnwfcSZjJLjf",
        "colab_type": "text"
      },
      "source": [
        "##**ATIVIDADE PRÁTICA**\n",
        "Atividades de fixação no uso de Expressões Regulares"
      ]
    },
    {
      "cell_type": "markdown",
      "metadata": {
        "id": "_92QgvUnf2VB",
        "colab_type": "text"
      },
      "source": [
        "### 1) Obtenha todas palavras do texto"
      ]
    },
    {
      "cell_type": "code",
      "metadata": {
        "id": "kV1Klajof2dw",
        "colab_type": "code",
        "colab": {}
      },
      "source": [
        "import re\n",
        "texto = \"Um texto qualquer sem qualquer valor semântico.\""
      ],
      "execution_count": null,
      "outputs": []
    },
    {
      "cell_type": "code",
      "metadata": {
        "id": "I0Eg8FHMhal4",
        "colab_type": "code",
        "colab": {
          "base_uri": "https://localhost:8080/",
          "height": 34
        },
        "outputId": "d309b563-d804-4554-8ec9-0f1b7f991960"
      },
      "source": [
        "re.findall(r\".+\",texto)"
      ],
      "execution_count": null,
      "outputs": [
        {
          "output_type": "execute_result",
          "data": {
            "text/plain": [
              "['Um texto qualquer sem qualquer valor semântico.']"
            ]
          },
          "metadata": {
            "tags": []
          },
          "execution_count": 165
        }
      ]
    },
    {
      "cell_type": "markdown",
      "metadata": {
        "id": "wvww9clJd-QO",
        "colab_type": "text"
      },
      "source": [
        "### 2) Obtenha a primeira palavra do texto"
      ]
    },
    {
      "cell_type": "code",
      "metadata": {
        "id": "C7CLrIw6d-a9",
        "colab_type": "code",
        "colab": {}
      },
      "source": [
        "texto2 = \"Um texto qualquer sem qualquer valor semântico.\""
      ],
      "execution_count": null,
      "outputs": []
    },
    {
      "cell_type": "code",
      "metadata": {
        "id": "mYigj0_rinUU",
        "colab_type": "code",
        "colab": {
          "base_uri": "https://localhost:8080/",
          "height": 34
        },
        "outputId": "1a3abff6-7033-4d38-c2a4-ccbc20ef63b8"
      },
      "source": [
        "match = re.match(r\".{2}\",texto2)\n",
        "match"
      ],
      "execution_count": null,
      "outputs": [
        {
          "output_type": "execute_result",
          "data": {
            "text/plain": [
              "<_sre.SRE_Match object; span=(0, 2), match='Um'>"
            ]
          },
          "metadata": {
            "tags": []
          },
          "execution_count": 473
        }
      ]
    },
    {
      "cell_type": "markdown",
      "metadata": {
        "id": "rfeYO3h7Jf7_",
        "colab_type": "text"
      },
      "source": [
        "### 3) Obtenha a posição de início do primeiro espaço (white-space) encontrado no texto a seguir"
      ]
    },
    {
      "cell_type": "code",
      "metadata": {
        "id": "ku7y_bfJJgGW",
        "colab_type": "code",
        "colab": {}
      },
      "source": [
        "import re\n",
        "texto3 = \"Um texto qualquer sem qualquer valor semântico.\""
      ],
      "execution_count": null,
      "outputs": []
    },
    {
      "cell_type": "code",
      "metadata": {
        "id": "Ew_j6NLQi5AB",
        "colab_type": "code",
        "colab": {
          "base_uri": "https://localhost:8080/",
          "height": 34
        },
        "outputId": "173a7840-fa3c-4743-8a98-8cab9c3b437e"
      },
      "source": [
        "re.search(r\"\\s\", texto3)\n"
      ],
      "execution_count": null,
      "outputs": [
        {
          "output_type": "execute_result",
          "data": {
            "text/plain": [
              "<_sre.SRE_Match object; span=(2, 3), match=' '>"
            ]
          },
          "metadata": {
            "tags": []
          },
          "execution_count": 475
        }
      ]
    },
    {
      "cell_type": "markdown",
      "metadata": {
        "id": "YE14-xVqgLd0",
        "colab_type": "text"
      },
      "source": [
        "### 4) Obtenha os dois primeiros caracteres de cada palavra\n",
        "Dica: Pesquise sobre o caracter de word boundary `\\b`, que encontra as delimitações de cada palavra"
      ]
    },
    {
      "cell_type": "code",
      "metadata": {
        "id": "qUt5T65kgLxB",
        "colab_type": "code",
        "colab": {}
      },
      "source": [
        "\n",
        "texto4 = \"Um texto qualquer sem qualquer valor semântico.\""
      ],
      "execution_count": null,
      "outputs": []
    },
    {
      "cell_type": "code",
      "metadata": {
        "id": "NJWid5Dek_Xa",
        "colab_type": "code",
        "colab": {
          "base_uri": "https://localhost:8080/",
          "height": 34
        },
        "outputId": "c41b624e-5804-4e6c-e7a9-21d9ff9fc709"
      },
      "source": [
        "import re\n",
        "re.findall (r\"\\b[a-zA-Z]{2}\", texto4)"
      ],
      "execution_count": null,
      "outputs": [
        {
          "output_type": "execute_result",
          "data": {
            "text/plain": [
              "['Um', 'te', 'qu', 'se', 'qu', 'va', 'se']"
            ]
          },
          "metadata": {
            "tags": []
          },
          "execution_count": 477
        }
      ]
    },
    {
      "cell_type": "markdown",
      "metadata": {
        "id": "QjOe3SddhK7k",
        "colab_type": "text"
      },
      "source": [
        "### 5) Obtenha datas no formato brasileiro (dd/mm/aaaa) e americano (aaaa-mm-dd)"
      ]
    },
    {
      "cell_type": "code",
      "metadata": {
        "id": "mrjaQ06HhLIP",
        "colab_type": "code",
        "colab": {
          "base_uri": "https://localhost:8080/",
          "height": 34
        },
        "outputId": "6fbdb0bd-d172-4985-9abd-6c7b36cf6279"
      },
      "source": [
        "texto5 = \"Data: 27/02/1987. Date: 1987-02-27.\"\n",
        "re.findall(r\"[0-9/]+[0-9\\-]{1,}\" , texto5)"
      ],
      "execution_count": null,
      "outputs": [
        {
          "output_type": "execute_result",
          "data": {
            "text/plain": [
              "['27/02/1987', '1987-02-27']"
            ]
          },
          "metadata": {
            "tags": []
          },
          "execution_count": 478
        }
      ]
    },
    {
      "cell_type": "markdown",
      "metadata": {
        "id": "-wn8AED7mfP1",
        "colab_type": "text"
      },
      "source": [
        "### 6) Obtenha todas palavras que terminem com vogal"
      ]
    },
    {
      "cell_type": "code",
      "metadata": {
        "id": "UY8hVsNemlup",
        "colab_type": "code",
        "colab": {
          "base_uri": "https://localhost:8080/",
          "height": 34
        },
        "outputId": "e8beb808-9a43-463b-ce05-c7fbab67e25c"
      },
      "source": [
        "texto6 = \"Um texto qualquer sem qualquer valor semântico.\"\n",
        "re.findall(r\"\\w+[aieou]{1}\\b\",texto6)"
      ],
      "execution_count": null,
      "outputs": [
        {
          "output_type": "execute_result",
          "data": {
            "text/plain": [
              "['texto', 'semântico']"
            ]
          },
          "metadata": {
            "tags": []
          },
          "execution_count": 480
        }
      ]
    },
    {
      "cell_type": "markdown",
      "metadata": {
        "id": "AVf7H86WoKbi",
        "colab_type": "text"
      },
      "source": [
        "### 7) Substitua toda ocorrência da palavra \"Avenida\" por \"Av.\"\n"
      ]
    },
    {
      "cell_type": "code",
      "metadata": {
        "id": "Ok4VE3rpmfis",
        "colab_type": "code",
        "colab": {
          "base_uri": "https://localhost:8080/",
          "height": 35
        },
        "outputId": "679130a8-f882-4f35-fc4c-edc6bcdc8842"
      },
      "source": [
        "texto7 = \"Endereço: Avenida Getúlio Vargas, 1811\\n Endereço: avenida visconde de guarapuava, 1533\"\n",
        "re.sub(r\"Avenida | avenida\",\"Av.\",texto7)"
      ],
      "execution_count": null,
      "outputs": [
        {
          "output_type": "execute_result",
          "data": {
            "application/vnd.google.colaboratory.intrinsic+json": {
              "type": "string"
            },
            "text/plain": [
              "'Endereço: Av.Getúlio Vargas, 1811\\n Endereço:Av. visconde de guarapuava, 1533'"
            ]
          },
          "metadata": {
            "tags": []
          },
          "execution_count": 481
        }
      ]
    },
    {
      "cell_type": "markdown",
      "metadata": {
        "id": "BzDEjywwo3Zk",
        "colab_type": "text"
      },
      "source": [
        "###8) Obtenha os endereços sem a numeração"
      ]
    },
    {
      "cell_type": "code",
      "metadata": {
        "id": "NhDq6ES0o3rK",
        "colab_type": "code",
        "colab": {
          "base_uri": "https://localhost:8080/",
          "height": 51
        },
        "outputId": "ae25a8c0-eaf8-4c84-d0a0-c7f32b074b29"
      },
      "source": [
        "texto8 = \"Endereço: Avenida Getúlio Vargas, 1811\\nEndereço: avenida visconde de guarapuava, 1533\"\n",
        "re.findall(r\"[^\\d]+\",texto8)"
      ],
      "execution_count": null,
      "outputs": [
        {
          "output_type": "execute_result",
          "data": {
            "text/plain": [
              "['Endereço: Avenida Getúlio Vargas, ',\n",
              " '\\nEndereço: avenida visconde de guarapuava, ']"
            ]
          },
          "metadata": {
            "tags": []
          },
          "execution_count": 482
        }
      ]
    },
    {
      "cell_type": "markdown",
      "metadata": {
        "id": "bCyrLdDWpaIf",
        "colab_type": "text"
      },
      "source": [
        "### 9) Substitua todas ocorrências de espaços, vírgulas e pontos pelo underline"
      ]
    },
    {
      "cell_type": "code",
      "metadata": {
        "id": "FzFgtNXupaWc",
        "colab_type": "code",
        "colab": {
          "base_uri": "https://localhost:8080/",
          "height": 35
        },
        "outputId": "8be50564-2670-4180-cc4f-6e378e2f950e"
      },
      "source": [
        "text9 = 'Python Exercises, PHP exercises.'\n",
        "re.sub(r\" |\\, | \\.\",\"_\", text9)"
      ],
      "execution_count": null,
      "outputs": [
        {
          "output_type": "execute_result",
          "data": {
            "application/vnd.google.colaboratory.intrinsic+json": {
              "type": "string"
            },
            "text/plain": [
              "'Python_Exercises_PHP_exercises.'"
            ]
          },
          "metadata": {
            "tags": []
          },
          "execution_count": 483
        }
      ]
    },
    {
      "cell_type": "markdown",
      "metadata": {
        "id": "mUx9tY455Dkw",
        "colab_type": "text"
      },
      "source": [
        "## Referências e Material complementar\n",
        "\n",
        "\n",
        "*   [RegEx Cheat Sheet](https://www.rexegg.com/regex-quickstart.html)\n",
        "*   [Tutorial sobre expressões regulares para iniciantes em Python](https://www.vooo.pro/insights/tutorial-sobre-expressoes-regulares-para-iniciantes-em-python/)\n",
        "*   [Python Regular Expressions by Google](https://developers.google.com/edu/python/regular-expressions)\n",
        "*   [Python ReGex Exercises](https://www.w3resource.com/python-exercises/re/)\n",
        "\n"
      ]
    },
    {
      "cell_type": "markdown",
      "metadata": {
        "id": "OybZyUcPrGQr",
        "colab_type": "text"
      },
      "source": [
        "Este notebook foi produzido por Prof. [Lucas Oliveira](http://lattes.cnpq.br/3611246009892500)."
      ]
    }
  ]
}