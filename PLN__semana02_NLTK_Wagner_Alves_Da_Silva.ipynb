{
  "nbformat": 4,
  "nbformat_minor": 0,
  "metadata": {
    "colab": {
      "name": "PLN _semana02_NLTK_Wagner_Alves_Da_Silva.ipynb",
      "provenance": [],
      "collapsed_sections": [
        "jBJy29uqRBUz"
      ],
      "include_colab_link": true
    },
    "kernelspec": {
      "name": "python3",
      "display_name": "Python 3"
    }
  },
  "cells": [
    {
      "cell_type": "markdown",
      "metadata": {
        "id": "view-in-github",
        "colab_type": "text"
      },
      "source": [
        "<a href=\"https://colab.research.google.com/github/wagner-alves-AI/PLN/blob/master/PLN__semana02_NLTK_Wagner_Alves_Da_Silva.ipynb\" target=\"_parent\"><img src=\"https://colab.research.google.com/assets/colab-badge.svg\" alt=\"Open In Colab\"/></a>"
      ]
    },
    {
      "cell_type": "markdown",
      "metadata": {
        "id": "W6rIQ54xy2Wc",
        "colab_type": "text"
      },
      "source": [
        "# Processando textos usando o NLTK\n",
        "## Tecnólogo em Inteligência Artificial Aplicada - Processamento de Linguagem Natural\n",
        "Nesta atividade você entrará em contato com a biblioteca **NLTK**, que fornece uma série de funcionalidades essenciais para o processamento de textos, e o mais importante, dá suporte a essas funcionalidades para a língua portuguesa.\n",
        "Além de fazermos um apanhado geral sobre as funcionalidades do NLTK, iremos tentar replicar algumas dessas funcionalidades e também utilizá-las na solução de alguns problemas.\n",
        "As **expressões regulares** também serão exploradas para complementar algumas funcionalidades."
      ]
    },
    {
      "cell_type": "markdown",
      "metadata": {
        "id": "dIkkpGq7z-2c",
        "colab_type": "text"
      },
      "source": [
        "##**Natural Language Toolkit - NLTK**\n",
        "Como o nome já diz, o NLTK é um toolkit para processamento de linguagem natural. Ele fornece várioas funcionalidades para criação de programas de PLN.\n",
        "O NLTK foi desenvolvido com 4 objetivos principais:\n",
        "\n",
        "1.    **Simplicidade**:\tFornecer um framework intuitivo junto a substanciais blocos de construção, dotando os usuários de um conhecimento prático de PLN sem prender-se nas tediosas tarefas de \"arrumação da casa\" geralmente associadas com o processamento de dados linguísticos anotados.\n",
        "2.    **Consistência**:\tFornecer um framework unificado com interfaces e estruturas de dados consistentes, e nomes de método facilmente conjecturáveis\n",
        "3.    **Extensibilidade**: Fornecer uma estrutura na qual novos módulos de software possam ser acomodados facilmente, incluindo implementações alternativas a abordagens diversas para uma mesma tarefa\n",
        "4.    **Modularidade**:\tFornecer componentes que possam ser utilizados independentemente sem a necessidade de compreender o restante do toolkit\n",
        "\n",
        "\n"
      ]
    },
    {
      "cell_type": "markdown",
      "metadata": {
        "id": "MRpEqCSf1KTi",
        "colab_type": "text"
      },
      "source": [
        "### **Importando a biblioteca NLTK**\n"
      ]
    },
    {
      "cell_type": "code",
      "metadata": {
        "id": "CSa40sRb1b2_",
        "colab_type": "code",
        "colab": {}
      },
      "source": [
        "import nltk"
      ],
      "execution_count": null,
      "outputs": []
    },
    {
      "cell_type": "markdown",
      "metadata": {
        "id": "fHiWkLo887Zz",
        "colab_type": "text"
      },
      "source": [
        "O NLTK já vem instalado no Google Colab por padrão, porém, alguns recursos como corpora textuais podem não estar disponíveis. Para tal, você deve explicitamente recomendar seu download usando o comando a seguir:"
      ]
    },
    {
      "cell_type": "code",
      "metadata": {
        "id": "5MfxhxGi87ki",
        "colab_type": "code",
        "colab": {}
      },
      "source": [
        "nltk.download()"
      ],
      "execution_count": null,
      "outputs": []
    },
    {
      "cell_type": "markdown",
      "metadata": {
        "id": "gloNhQ5MQBYR",
        "colab_type": "text"
      },
      "source": [
        "### **Operações Básicas ou Pré-processamento**\n",
        "As operações a seguir geralmente fazem parte de uma etapa do PLN chamada de **Pré-processamento**, e já se tornaram triviais a todos programas de PLN, pois preparam o texto bruto para ser realmente processado e \"entendido\" pela máquina.\n",
        "\n",
        "*   Tokenização\n",
        "*   Segmentação de sentenças\n",
        "*   Normalização\n",
        "*   Stemming\n",
        "*   Lematização\n",
        "\n"
      ]
    },
    {
      "cell_type": "markdown",
      "metadata": {
        "id": "ip22b9VIQ9Yh",
        "colab_type": "text"
      },
      "source": [
        "#### Tokenização\n",
        "Serve para separar o texto em *tokens* - que são uma sequência de caracteres com algum significado semântico.\n",
        "\n",
        "**Principais dificuldades**:\n",
        "*   \"São Paulo\" - uma ou duas palavras?\n",
        "*   \"A seleção dos E.U.A. venceu.\" - Pontuação pode ser considerada quebra de sentença\n",
        "*   \"Tromba d'água\"\n",
        "*   \"São João da Boa Vista\"\n",
        "*   \"Interação humano-computador\"\n",
        "\n"
      ]
    },
    {
      "cell_type": "code",
      "metadata": {
        "id": "hNXJxvHmQBhO",
        "colab_type": "code",
        "colab": {}
      },
      "source": [
        "# Você deve importar o tokenizador da biblioteca NLTK\n",
        "import nltk\n",
        "from nltk import tokenize\n",
        "\n",
        "# Caso não tenha feito o download de todos recursos do NLTK, você pode fazê-lo de maneira individual\n",
        "#nltk.download('punkt')\n",
        "\n",
        "texto = \"Um exemplo de texto para visualizarmos a técnica de tokenização.\"\n",
        "\n",
        "# Tokeniza o texto\n",
        "tokens = tokenize.word_tokenize(texto, language='portuguese')\n",
        "\n",
        "tokens"
      ],
      "execution_count": null,
      "outputs": []
    },
    {
      "cell_type": "markdown",
      "metadata": {
        "id": "6IlFKSg-7Bz0",
        "colab_type": "text"
      },
      "source": [
        "Quantos caracteres temos?"
      ]
    },
    {
      "cell_type": "code",
      "metadata": {
        "id": "VhDgRFaj7B9E",
        "colab_type": "code",
        "colab": {}
      },
      "source": [
        "len(texto)"
      ],
      "execution_count": null,
      "outputs": []
    },
    {
      "cell_type": "markdown",
      "metadata": {
        "id": "yHqL1onS2V7-",
        "colab_type": "text"
      },
      "source": [
        "Quantos tokens temos?"
      ]
    },
    {
      "cell_type": "code",
      "metadata": {
        "id": "NGe7gPb92WDU",
        "colab_type": "code",
        "colab": {}
      },
      "source": [
        "len(tokens)"
      ],
      "execution_count": null,
      "outputs": []
    },
    {
      "cell_type": "markdown",
      "metadata": {
        "id": "OcGORzOy2cQE",
        "colab_type": "text"
      },
      "source": [
        "Quantos tokens únicos nós temos?"
      ]
    },
    {
      "cell_type": "code",
      "metadata": {
        "id": "aL15Ou517OgQ",
        "colab_type": "code",
        "colab": {}
      },
      "source": [
        "# Usando funcionalidades básicas do Python\n",
        "len(set(tokens))"
      ],
      "execution_count": null,
      "outputs": []
    },
    {
      "cell_type": "code",
      "metadata": {
        "id": "o37sw1eZ2cbs",
        "colab_type": "code",
        "colab": {}
      },
      "source": [
        "# Usando a biblioteca collections\n",
        "from collections import Counter\n",
        "\n",
        "contador = Counter(tokens)\n",
        "\n",
        "for cont in contador.items():\n",
        "  print(cont)"
      ],
      "execution_count": null,
      "outputs": []
    },
    {
      "cell_type": "code",
      "metadata": {
        "id": "Qcdq5TYkzZZ7",
        "colab_type": "code",
        "colab": {}
      },
      "source": [
        "# Mostra os termos mais frequentes\n",
        "contador.most_common(3) "
      ],
      "execution_count": null,
      "outputs": []
    },
    {
      "cell_type": "markdown",
      "metadata": {
        "id": "KjLlZSjCRAms",
        "colab_type": "text"
      },
      "source": [
        "#### Segmentação de sentenças\n",
        "As regras principais de segmentação de sentenças contam com a divisão a partir de pontuações encontradas no texto ou quebras de linha.\n",
        "\n",
        "![Exemplo de segmentação de sentença - Dan Jurafsky](https://docs.google.com/uc?export=download&id=15fLctvbOi8_STzO8AOzzW095yA2IvPmK)\n"
      ]
    },
    {
      "cell_type": "code",
      "metadata": {
        "id": "hPPXXOPORAvd",
        "colab_type": "code",
        "colab": {}
      },
      "source": [
        "from nltk import sent_tokenize\n",
        "\n",
        "texto = \"Definição da sentença 1. Mais uma sentença. Última sentença.\"\n",
        "\n",
        "sents = sent_tokenize(texto)\n",
        "sents"
      ],
      "execution_count": null,
      "outputs": []
    },
    {
      "cell_type": "markdown",
      "metadata": {
        "id": "nj8UlBt4RBF8",
        "colab_type": "text"
      },
      "source": [
        "#### Stemming\n",
        "Reduz as palavras ao seu *stem*, retirando o sufixo. Faz com que palavras de mesmo significado semântico (ou similar) sejam escritas da mesma maneira (e.g., correr, correndo, correu). Geralmente o stem não é uma palavra válida.\n"
      ]
    },
    {
      "cell_type": "code",
      "metadata": {
        "id": "TxMDA95kRBNX",
        "colab_type": "code",
        "colab": {}
      },
      "source": [
        "# Caso não tenha feito o download de todos recursos do NLTK, você pode fazê-lo de maneira individual\n",
        "nltk.download('rslp')\n",
        "\n",
        "# Inicia o Stemmer\n",
        "stemmer = nltk.stem.RSLPStemmer()\n",
        "\n",
        "print(stemmer.stem(\"ferro\"))\n",
        "print(stemmer.stem(\"ferreiro\"))\n",
        "\n",
        "print(stemmer.stem(\"correr\"))\n",
        "print(stemmer.stem(\"correu\"))"
      ],
      "execution_count": null,
      "outputs": []
    },
    {
      "cell_type": "code",
      "metadata": {
        "id": "Sf6rzqqRv0xd",
        "colab_type": "code",
        "colab": {}
      },
      "source": [
        "# Define uma função que faz Stemming em todo um texto\n",
        "def Stemming(texto):\n",
        "  stemmer = nltk.stem.RSLPStemmer()\n",
        "  novotexto = []\n",
        "  for token in texto:\n",
        "    novotexto.append(stemmer.stem(token.lower()))\n",
        "  return novotexto\n",
        "\n",
        "texto1 = \"Eu gostei de correr\"\n",
        "texto2 = \"Eu gosto de corrida\"\n",
        "\n",
        "# Tokeniza o texto\n",
        "tokens1 = tokenize.word_tokenize(texto1, language='portuguese')\n",
        "tokens2 = tokenize.word_tokenize(texto2, language='portuguese')\n",
        "\n",
        "novotexto1 = Stemming(tokens1)\n",
        "novotexto2 = Stemming(tokens2)\n",
        "\n",
        "print(novotexto1)\n",
        "print(novotexto2)"
      ],
      "execution_count": null,
      "outputs": []
    },
    {
      "cell_type": "markdown",
      "metadata": {
        "id": "jBJy29uqRBUz",
        "colab_type": "text"
      },
      "source": [
        "#### Lematização\n",
        "Similar ao processo de Stemming, porém, faz uma análise morfológica completa para identificar e remover os sufixos. Geralmente leva os verbos ao infinitivo e substantivos/adjetivos ao masculino singular. Se diferencia do Stemming pois sempre gera uma palavra válida.\n",
        "\n",
        "Infelizmente, esta funcionalidade não é suportada pelo NLTK. [Neste link](https://lars76.github.io/nlp/lemmatize-portuguese/) você pode encontrar alternativas para realizar a lematização em português.\n",
        "\n",
        "Para nossa disciplina iremos utilizar o stemmer, caso queira saber um pouco mais sobre o impacto dessa decisão, você pode ler [este capítulo](https://nlp.stanford.edu/IR-book/html/htmledition/stemming-and-lemmatization-1.html) do livro de Information Retrieval da Universidade de Stanford.\n",
        "\n"
      ]
    },
    {
      "cell_type": "markdown",
      "metadata": {
        "id": "b9jpUKTE4UxC",
        "colab_type": "text"
      },
      "source": [
        "#### Retirada de Stop-words\n",
        "As vezes é necessário remover as palavras de maior ocorrência no conjunto de textos, pois geralmente elas não agregam grande valor semântico aos textos e não ajudam no processo de selecionar as informações relevantes ao sistema de PLN.\n",
        "\n",
        "Este processo pode ser diferente, de acordo com a tarefa de PLN que você está executando, mas no geral temos duas abordagens: retirar as palavras de maior ocorrência levando em conta a [lei de Zipg](http://terrierteam.dcs.gla.ac.uk/publications/rtlo_DIRpaper.pdf), ou utilizar uma lista de stop-words pronta para seu idioma. Iremos realizar a segunda opção."
      ]
    },
    {
      "cell_type": "code",
      "metadata": {
        "id": "ws1V1bwG4U4C",
        "colab_type": "code",
        "colab": {}
      },
      "source": [
        "# Caso não tenha feito o download de todos recursos do NLTK, você pode fazê-lo de maneira individual\n",
        "nltk.download('stopwords')\n",
        "\n",
        "# O NLTK fornece uma lista de stop-words para o idioma português\n",
        "stopwords = nltk.corpus.stopwords.words('portuguese')\n",
        "stopwords"
      ],
      "execution_count": null,
      "outputs": []
    },
    {
      "cell_type": "code",
      "metadata": {
        "id": "oKvj0n7mQNYi",
        "colab_type": "code",
        "colab": {}
      },
      "source": [
        "# Define uma função que remove as stop words de um texto\n",
        "def removeStopWords(texto):\n",
        "    stopwords = nltk.corpus.stopwords.words('portuguese')\n",
        "    novotexto = []\n",
        "    for token in texto:\n",
        "        if token.lower() not in stopwords:\n",
        "            novotexto.append(token)\n",
        "    return novotexto\n",
        "\n",
        "texto = \"Quais palavras serão retiradas deste texto? Eu não sei, mas este processo é necessário em alguns momentos.\"\n",
        "\n",
        "# Tokeniza o texto\n",
        "tokens = tokenize.word_tokenize(texto, language='portuguese')\n",
        "\n",
        "novotexto = removeStopWords(tokens)\n",
        "\n",
        "print(novotexto)"
      ],
      "execution_count": null,
      "outputs": []
    },
    {
      "cell_type": "markdown",
      "metadata": {
        "id": "cY5uk8lixqXF",
        "colab_type": "text"
      },
      "source": [
        "> **IMPORTANTE**: Em alguns casos retirar as palavras referentes a negação (i.e., não) pode retirar um significado semântico muito importante do texto. Por exemplo, no texto: \"*O paciente não apresenta sintomas da doença*\". Neste caso a negação muda completamente o sentido da frase. Existem alguns outros casos (principalmente quando utilizamos *Deep Learning*) em que **a retirada das stop-words pode ser prejudicial ao algoritmo**, portanto, sempre teste seus algoritmos com e sem esta opção!\n",
        "\n",
        "![Pré-processamento nem sempre é benéfico](https://docs.google.com/uc?export=download&id=1kx5DedeB1X4AJTWD7Urdqz9HzZ62D5FW)\n",
        "\n"
      ]
    },
    {
      "cell_type": "markdown",
      "metadata": {
        "id": "X_uZqGJFRA2g",
        "colab_type": "text"
      },
      "source": [
        "#### Normalização\n",
        "Além do Stemming, é possível realizar processos mais específicos de normalização do texto, de acordo com a tarefa.\n",
        "\n",
        "> **Exemplo 1**: Para um algoritmo de Geração de fala, o texto bruto pode estar escrito como \"Com os preços de R\\$ 100,00 para a primeira versão, e R\\$ 10,00 para a segunda\". Para o meu algoritmo é mais interessante que o texto seja normalizado para: \"Com os preços de cem reais para a primeira versão e dez reais para a segunda\"\n",
        "\n",
        "> **Exemplo 2**: Todas as datas serem normalizadas para um padrão único. As formas \"18/mai\", \"dezoito de maio\", \"18-05\" serem normalizadas para \"18/05\".\n",
        "\n",
        "> **Pergunta rápida**: Nos casos acima qual recurso nos ajudaria a fazer a normalização?\n",
        "\n",
        "Uma maneira simples de normalizar o texto é transformar todas as letras em minúsculas, assim ocorrências escritas de maneira diferente são normalizadas para uma única. \"Brasil\", \"BraSil\" e \"BRAsil\" seriam normalizadas para \"brasil\"."
      ]
    },
    {
      "cell_type": "code",
      "metadata": {
        "id": "IylO9A9RDUK0",
        "colab_type": "code",
        "colab": {}
      },
      "source": [
        "texto = \"Se escreve LOL, LoL ou Lol?\"\n",
        "\n",
        "# Efetua lowercase\n",
        "texto = texto.lower()\n",
        "\n",
        "# Tokeniza o texto\n",
        "tokenize.word_tokenize(texto, language='portuguese')"
      ],
      "execution_count": null,
      "outputs": []
    },
    {
      "cell_type": "markdown",
      "metadata": {
        "id": "G2Ldu14U1dhv",
        "colab_type": "text"
      },
      "source": [
        "### **A coleção de corpora do NLTK**\n",
        "O NLTK contém diversos corpora disponíveis, inclusive para língua portuguesa. \n",
        "> **DEFINIÇÃO**: Um corpus é uma coleção de documentos.\n"
      ]
    },
    {
      "cell_type": "code",
      "metadata": {
        "id": "zxR4-9Yj18Tg",
        "colab_type": "code",
        "colab": {}
      },
      "source": [
        "# Importa o corpus dos livros de Machado de Assis\n",
        "from nltk.corpus import machado\n",
        "\n",
        "nltk.download('machado')"
      ],
      "execution_count": null,
      "outputs": []
    },
    {
      "cell_type": "code",
      "metadata": {
        "id": "DXx4vQa1NJeA",
        "colab_type": "code",
        "colab": {}
      },
      "source": [
        "# Cada arquivo corresponde a um livro\n",
        "machado.fileids()\n",
        "\n",
        "#machado.readme()"
      ],
      "execution_count": null,
      "outputs": []
    },
    {
      "cell_type": "code",
      "metadata": {
        "id": "S7EWP0tHNpNL",
        "colab_type": "code",
        "colab": {}
      },
      "source": [
        "# Obtém o texto de \"Memórias Póstumas de Brás Cubas\"\n",
        "texto = machado.raw('romance/marm05.txt')\n",
        "texto"
      ],
      "execution_count": null,
      "outputs": []
    },
    {
      "cell_type": "code",
      "metadata": {
        "id": "Zc0BigkdOAsc",
        "colab_type": "code",
        "colab": {}
      },
      "source": [
        "# Você pode selecionar uma parte específica do texto\n",
        "texto[9:40]"
      ],
      "execution_count": null,
      "outputs": []
    },
    {
      "cell_type": "markdown",
      "metadata": {
        "id": "0O55tiq-ILnS",
        "colab_type": "text"
      },
      "source": [
        "### **Part-of-speech Tagging (POS-Tagging)**\n",
        "Esta também pode ser considerada uma das operações básicas de PLN, e tem por objetivo definir o valor morfológico de cada palavra no texto (e.g., substantivo, adjetivo, verbo, artigo, advérbio). \n",
        "\n",
        "O objetivo da morfologia é estudar a estrutura interna e a variabilidade das palavras em uma língua, como conjugações verbais, plurais, nominalização, etc.\n",
        "\n",
        "Ao contrário dos processos mostrados até agora, este depende do treinamento de um algoritmo supervisionado de *Machine Learning*, treinado a partir de **corpus anotado com as informações morfológicas de cada palavra**.\n",
        "> **DEFINIÇÃO**: Um corpus anotado, é uma coleção de documentos etiquetada por humanos para identificar determinado valor morfológico, sintático ou semântico do texto.\n",
        "\n",
        "No caso a seguir, estaremos trabalhando com um corpus anotado com informações morfológicas de palavras."
      ]
    },
    {
      "cell_type": "markdown",
      "metadata": {
        "id": "sCSAGlkeZ86i",
        "colab_type": "text"
      },
      "source": [
        "#### Principais dificuldades\n",
        "As principais dificuldades na realização deste processo são:\n",
        "\n",
        "\n",
        "*   **Ambiguidade**: uma mesma palavra pode ter papéis diferentes de acordo com o contexto (e.g., \"Ele deu um parecer\" - \"O verbo parecer\")\n",
        "*   **Palavras fora do vocabulário**: quando nosso corpus não contém alguma palavra, fica difícil para o POS-Tagger \"adivinhar\" o valor morfológico da palavra. Isso é especialmente comum quando utilizar um POS-Tagger treinado em um domínio em textos de algum domínio específico, por exemplo, utilizar um POS-Tagger treinado em textos jornalísticos para marcação de um texto de prontuários de pacientes.\n",
        "\n"
      ]
    },
    {
      "cell_type": "markdown",
      "metadata": {
        "id": "D_DY-3lWWgfH",
        "colab_type": "text"
      },
      "source": [
        "#### Corpus anotado MacMorpho\n",
        "É um corpus de notícias em português, com mais de um milhão de palavras de textos jornalísticos da Folha de São Paulo. Todo o corpus foi taggeado/etiquetado com os valores morfológicos para cada palavra"
      ]
    },
    {
      "cell_type": "code",
      "metadata": {
        "id": "18wUsDLvIL3c",
        "colab_type": "code",
        "colab": {}
      },
      "source": [
        "from nltk.corpus import mac_morpho\n",
        "#nltk.download('mac_morpho')\n",
        "# Palavras no corpus\n",
        "mac_morpho.words()"
      ],
      "execution_count": null,
      "outputs": []
    },
    {
      "cell_type": "code",
      "metadata": {
        "id": "gm_4r8q2XkB7",
        "colab_type": "code",
        "colab": {}
      },
      "source": [
        "# Sentenças\n",
        "mac_morpho.sents()"
      ],
      "execution_count": null,
      "outputs": []
    },
    {
      "cell_type": "code",
      "metadata": {
        "id": "9TJ2zBFXXq96",
        "colab_type": "code",
        "colab": {}
      },
      "source": [
        "# A palavras e suas tags\n",
        "mac_morpho.tagged_words()"
      ],
      "execution_count": null,
      "outputs": []
    },
    {
      "cell_type": "code",
      "metadata": {
        "id": "Wn7G-kP0XwHn",
        "colab_type": "code",
        "colab": {}
      },
      "source": [
        "mac_morpho.tagged_sents()"
      ],
      "execution_count": null,
      "outputs": []
    },
    {
      "cell_type": "code",
      "metadata": {
        "id": "2mdHF15uZwp9",
        "colab_type": "code",
        "colab": {}
      },
      "source": [
        "# Vamos contar a quantidade de tokens\n",
        "len(mac_morpho.words())"
      ],
      "execution_count": null,
      "outputs": []
    },
    {
      "cell_type": "code",
      "metadata": {
        "id": "r39gtsyrZ-XQ",
        "colab_type": "code",
        "colab": {}
      },
      "source": [
        "# Palavras únicas\n",
        "len(nltk.FreqDist(mac_morpho.words()))"
      ],
      "execution_count": null,
      "outputs": []
    },
    {
      "cell_type": "code",
      "metadata": {
        "id": "Gy1weS3SaJj4",
        "colab_type": "code",
        "colab": {}
      },
      "source": [
        "# Palavra mais frequente\n",
        "nltk.FreqDist(mac_morpho.words()).max()"
      ],
      "execution_count": null,
      "outputs": []
    },
    {
      "cell_type": "markdown",
      "metadata": {
        "id": "QDKnuncYbq-R",
        "colab_type": "text"
      },
      "source": [
        "#### Treinando o POS-Tagging do NLTK\n",
        "Podemos utilizar um corpus anotado morfologicamente para treinar o POS-Tagger do NLTK"
      ]
    },
    {
      "cell_type": "code",
      "metadata": {
        "id": "Q6WgfUo6b2K2",
        "colab_type": "code",
        "colab": {}
      },
      "source": [
        "from nltk.corpus import mac_morpho\n",
        "\n",
        "#Obtém as sentenças taggeadas\n",
        "tagged_sents = mac_morpho.tagged_sents()\n",
        "\n",
        "# Divide-as em duas partes - uma maior, para TREINAMENTO - e outra menor, para TESTE\n",
        "train_tsents = tagged_sents[100:] # Todas sentenças após as 100 primeiras\n",
        "test_tsents = tagged_sents[:100] # Pega todas sentenças até a centésima"
      ],
      "execution_count": null,
      "outputs": []
    },
    {
      "cell_type": "code",
      "metadata": {
        "id": "NfzgWtFngQRn",
        "colab_type": "code",
        "colab": {}
      },
      "source": [
        "from nltk import DefaultTagger\n",
        "\n",
        "# Define um tagger padrão, que sempre etiquetará a palavra com \"N\" = \"NOUM\" = \"SUBSTANTIVO\", visto que é a tag que mais ocorre\n",
        "tagger0 = DefaultTagger(\"N\")\n",
        "# Avalia a acurácia do POS-Tagger ao etiquetar as sentenças de TESTE\n",
        "tagger0.evaluate(test_tsents)"
      ],
      "execution_count": null,
      "outputs": []
    },
    {
      "cell_type": "code",
      "metadata": {
        "id": "zFy7GBJU5ifC",
        "colab_type": "code",
        "colab": {}
      },
      "source": [
        "from nltk import UnigramTagger\n",
        "\n",
        "# Define um tagger Unigram (falaremos mais sobre isso depois)\n",
        "# Este tagger aprende ao ver as sentenças etiquetadas na base de TREINAMENTO\n",
        "# Além disso, utiliza o DefaultTagger caso não saiba o que marcar\n",
        "tagger1 = UnigramTagger(train_tsents, backoff=tagger0)\n",
        "tagger1.evaluate(test_tsents)"
      ],
      "execution_count": null,
      "outputs": []
    },
    {
      "cell_type": "code",
      "metadata": {
        "id": "PIRgxC_I6F6R",
        "colab_type": "code",
        "colab": {}
      },
      "source": [
        "from nltk import BigramTagger\n",
        "\n",
        "# Define um tagger Bigram (falaremos mais sobre isso depois)\n",
        "tagger2 = BigramTagger(train_tsents, backoff=tagger1)\n",
        "tagger2.evaluate(test_tsents)"
      ],
      "execution_count": null,
      "outputs": []
    },
    {
      "cell_type": "code",
      "metadata": {
        "id": "wTOQt2pf6aYm",
        "colab_type": "code",
        "colab": {}
      },
      "source": [
        "# Existe ainda mais um POS-Tagger no NLTK, o TnT\n",
        "from nltk.tag import tnt\n",
        "tnt_pos_tagger = tnt.TnT()\n",
        "tnt_pos_tagger.train(train_tsents)\n",
        "tnt_pos_tagger.evaluate(test_tsents)"
      ],
      "execution_count": null,
      "outputs": []
    },
    {
      "cell_type": "code",
      "metadata": {
        "id": "In89ayykGOzx",
        "colab_type": "code",
        "colab": {}
      },
      "source": [
        "# Se deseja apenas realizar o POS-Tagging, e não avaliar\n",
        "tagger2.tag(tokenize.word_tokenize(texto, language='portuguese'))"
      ],
      "execution_count": null,
      "outputs": []
    },
    {
      "cell_type": "markdown",
      "metadata": {
        "id": "VyrCc_ccHIcP",
        "colab_type": "text"
      },
      "source": [
        "Caso queira armazenar o modelo treinado para evitar o re-treinamento veja a seção 5.6 deste [link](https://www.nltk.org/book/ch05.html)."
      ]
    },
    {
      "cell_type": "markdown",
      "metadata": {
        "id": "mnwfcSZjJLjf",
        "colab_type": "text"
      },
      "source": [
        "##**ATIVIDADE PRÁTICA**\n",
        "A seguir algumas práticas relacionadas às operações básicas de PLN, NLTK e expressões regulares."
      ]
    },
    {
      "cell_type": "code",
      "metadata": {
        "id": "xh8yE_Ci_3LH",
        "colab_type": "code",
        "colab": {}
      },
      "source": [
        "# Texto de exemplo\n",
        "texto = \"\"\"A morte supersônica\n",
        "O Concorde era um avião incrível. Inclusive no quesito segurança. Até que, um dia, aconteceu algo que ninguém poderia prever.\n",
        "\n",
        "Com asas alongadas e viradas para trás, cabine bem estreita e bico fino – que deslizava para baixo durante o pouso, para melhorar a visibilidade do piloto –, o Concorde é um dos aviões mais bonitos de todos os tempos. E um dos mais avançados também.\n",
        "\n",
        "Desenvolvido nos anos 1960 por um consórcio de empresas francesas e inglesas (que hoje se chama Airbus), ele foi um dos únicos dois aviões supersônicos a operar comercialmente (o outro foi o soviético Tupolev Tu-144). Tinha quatro motores ultrapotentes, que queimavam 25 mil litros de combustível por hora – quase o dobro de um Boeing 747 -, e viajava a 60 mil pés de altitude, 20 mil a mais que os outros aviões. Usava tecnologias revolucionárias, como um sistema que desacelerava a passagem do ar dentro das turbinas (do contrário, elas explodiriam antes que o avião atingisse sua velocidade máxima). Tudo para alcançar a glória de voar a 2.179 km/h, duas vezes a velocidade do som. É o dobro dos aviões comuns, e permitia atravessar o planeta com uma rapidez que até hoje impressiona – ir de Londres a Nova York em três horas, por exemplo.\n",
        "\n",
        "O Concorde começou a operar em 1976. Uma das primeiras linhas fazia o trajeto Paris-Rio de Janeiro, com dois voos semanais. O público ficou maravilhado com a aeronave, mas voar nela era para poucos: as passagens eram ainda mais caras que as dos voos de primeira classe, e ultrapassavam US$ 10 mil em valores de hoje. Mas manter a frota de Concordes era ainda mais caro, e a British Airways e a Air France, que operavam os aviões, tinham prejuízo com eles. É que, para que os voos dessem lucro, cada avião precisava decolar com pelo menos 90% dos assentos ocupados, o que nem sempre acontecia (a linha brasileira tinha ocupação média de 50%, e por isso foi uma das primeiras a deixarem de existir, em 1982).\n",
        "\n",
        "Mesmo assim, ele continuou operando comercialmente, com voos ligando a Europa e os EUA, até o dia 25 de julho de 2000. Nesse dia, o Concorde F-BTSC da Air France (um dos únicos 26 a serem produzidos) saiu do aeroporto Charles de Gaulle, em Paris, com destino a Nova York. Levava cem passageiros e nove tripulantes – e, descobriu-se depois, estava sobrecarregado, com 810 kg a mais do que o peso máximo permitido. Na decolagem, aconteceu uma das cenas mais impressionantes da história da aviação. Durante a aceleração inicial, com o Concorde ainda no chão, um dos tanques de combustível explodiu. Os pilotos perceberam, mas já tinham percorrido boa parte da pista – só tinham mais 2 km, espaço insuficiente para frear o avião e abortar o voo com segurança. A única saída era tentar decolar – coisa que eles fizeram, com o Concorde pegando fogo.\n",
        "\n",
        "As consequências foram dramáticas. Os motores 1 e 2 pifaram, e com isso a aeronave foi se inclinando violentamente para o lado. Para tentar compensar isso, e forçar o Concorde ferido a voar reto, os pilotos desaceleraram os motores 3 e 4, do outro lado. O avião caiu logo depois, nas redondezas do aeroporto. Todos os ocupantes morreram, e também houve quatro vítimas fatais em solo, que foram atingidas por pedaços do avião. O acidente chocou o mundo e devastou a imagem do Concorde, que nunca havia enfrentado um acidente grave e até então era considerado um dos aviões mais seguros da história.\n",
        "\n",
        "A frota foi inspecionada e voltou a operar comercialmente. Mas aí, em 2001, aconteceram os atentados de 11 de Setembro, que deixaram as pessoas com medo de voar. O Concorde não teve nada a ver com eles, mas também foi afetado pela forte queda na venda de passagens aéreas. E se tornou, de uma vez por todas, economicamente inviável. Foi aposentado – com direito, apenas, a uma curta série de voos de despedida, para os fãs do avião, realizados pela British Airways em 2003.\n",
        "\n",
        "O verdadeiro culpado\n",
        "\n",
        "Como um relatório do governo francês constatou depois, o acidente fatal não aconteceu por defeitos no Concorde (nem pelo excesso de peso). Foi por causa de outro avião: um DC-10 da Continental Airlines, que decolou cinco minutos antes. Esse avião teve manutenção malfeita, e por isso soltou um pedaço de metal na pista. Era uma faixa de titânio, com 40 cm de comprimento e 3 cm de largura, que caiu de uma das turbinas. Ninguém percebeu, a peça ficou lá – e o Concorde passou bem por cima dela. Isso rasgou um de seus pneus, que estourou. A onda de choque rompeu um dos tanques de combustível do Concorde, detonando o incêndio que derrubou o avião.\"\"\""
      ],
      "execution_count": 32,
      "outputs": []
    },
    {
      "cell_type": "markdown",
      "metadata": {
        "id": "i65Xx1sR_3CJ",
        "colab_type": "text"
      },
      "source": [
        "### 1) Usando expressões regulares desenvolva seu próprio tokenizador. Compare o seu resultado com o tokenizador do NLTK."
      ]
    },
    {
      "cell_type": "code",
      "metadata": {
        "id": "ypLDuOBVAhqO",
        "colab_type": "code",
        "colab": {}
      },
      "source": [
        "import re\n",
        "meu_tokenize = re.findall(r\"[A-Za-záÁéÉíÍóÓúÚçÇâÂêÊôÔãÃõÕ-]+\",texto)\n",
        "meu_tokenize"
      ],
      "execution_count": null,
      "outputs": []
    },
    {
      "cell_type": "code",
      "metadata": {
        "id": "k9ZDGm-NOYT_",
        "colab_type": "code",
        "colab": {}
      },
      "source": [
        "import nltk\n",
        "from nltk import tokenize\n",
        "nltk.download('punkt')\n",
        "tokens = tokenize.word_tokenize(texto,language='portuguese')\n",
        "tokens"
      ],
      "execution_count": null,
      "outputs": []
    },
    {
      "cell_type": "markdown",
      "metadata": {
        "id": "VQogCd85Ah39",
        "colab_type": "text"
      },
      "source": [
        "### 2) Mostre o tamanho do texto (em caracteres)"
      ]
    },
    {
      "cell_type": "code",
      "metadata": {
        "id": "K72Dvz0IA3Gc",
        "colab_type": "code",
        "colab": {
          "base_uri": "https://localhost:8080/",
          "height": 34
        },
        "outputId": "f42d3ec1-8c55-48e2-b8e1-26e19f777c11"
      },
      "source": [
        "len(texto)"
      ],
      "execution_count": null,
      "outputs": [
        {
          "output_type": "execute_result",
          "data": {
            "text/plain": [
              "4539"
            ]
          },
          "metadata": {
            "tags": []
          },
          "execution_count": 3
        }
      ]
    },
    {
      "cell_type": "markdown",
      "metadata": {
        "id": "SLmwREZPA3R-",
        "colab_type": "text"
      },
      "source": [
        "### 3) Mostre o tamanho do texto (em tokens)"
      ]
    },
    {
      "cell_type": "code",
      "metadata": {
        "id": "9ILY_bCyA6OJ",
        "colab_type": "code",
        "colab": {
          "base_uri": "https://localhost:8080/",
          "height": 34
        },
        "outputId": "c3eb0fba-7e79-4295-d041-907228621bd1"
      },
      "source": [
        "len(tokens)"
      ],
      "execution_count": 43,
      "outputs": [
        {
          "output_type": "execute_result",
          "data": {
            "text/plain": [
              "917"
            ]
          },
          "metadata": {
            "tags": []
          },
          "execution_count": 43
        }
      ]
    },
    {
      "cell_type": "markdown",
      "metadata": {
        "id": "SKWH7Sy_A6wo",
        "colab_type": "text"
      },
      "source": [
        "### 4) Mostre a quantidade de tokens únicos do texto"
      ]
    },
    {
      "cell_type": "code",
      "metadata": {
        "id": "sEqEqHk7BE8a",
        "colab_type": "code",
        "colab": {
          "base_uri": "https://localhost:8080/",
          "height": 34
        },
        "outputId": "3774267f-b57f-41f0-a94f-998c4fb5fd03"
      },
      "source": [
        "len(set(tokens))"
      ],
      "execution_count": null,
      "outputs": [
        {
          "output_type": "execute_result",
          "data": {
            "text/plain": [
              "416"
            ]
          },
          "metadata": {
            "tags": []
          },
          "execution_count": 7
        }
      ]
    },
    {
      "cell_type": "markdown",
      "metadata": {
        "id": "wY3G2QpYBFVB",
        "colab_type": "text"
      },
      "source": [
        "### 5) Realize o Stemming no texto, e mostre novamente a quantidade de tokens únicos"
      ]
    },
    {
      "cell_type": "code",
      "metadata": {
        "id": "GBilc8-bBQw8",
        "colab_type": "code",
        "colab": {}
      },
      "source": [
        "nltk.download('rslp')\n",
        "\n",
        "def Stemming(texto):\n",
        "  stemmer = nltk.stem.RSLPStemmer()\n",
        "  novotexto = []\n",
        "  for token in texto:\n",
        "    novotexto.append(stemmer.stem(token.lower()))\n",
        "  return novotexto\n",
        "\n",
        "\n"
      ],
      "execution_count": null,
      "outputs": []
    },
    {
      "cell_type": "code",
      "metadata": {
        "id": "fSN2qeu9RJyW",
        "colab_type": "code",
        "colab": {}
      },
      "source": [
        "texto1 = texto\n",
        "tokens1 = tokenize.word_tokenize(texto1)\n",
        "\n",
        "novotexto1 = Stemming(tokens1)\n",
        "\n",
        "print(novotexto1)"
      ],
      "execution_count": null,
      "outputs": []
    },
    {
      "cell_type": "code",
      "metadata": {
        "id": "9z_glX1WUcoO",
        "colab_type": "code",
        "colab": {
          "base_uri": "https://localhost:8080/",
          "height": 34
        },
        "outputId": "54777323-0878-428b-b174-62d3bc73fef1"
      },
      "source": [
        "len(set(novotexto1))"
      ],
      "execution_count": null,
      "outputs": [
        {
          "output_type": "execute_result",
          "data": {
            "text/plain": [
              "351"
            ]
          },
          "metadata": {
            "tags": []
          },
          "execution_count": 29
        }
      ]
    },
    {
      "cell_type": "markdown",
      "metadata": {
        "id": "9D319SRcBRm-",
        "colab_type": "text"
      },
      "source": [
        "### 6) Realize a normalização para lowercase e mostre novamente a quantidade de tokens únicos"
      ]
    },
    {
      "cell_type": "code",
      "metadata": {
        "id": "izOVY9hlBd9f",
        "colab_type": "code",
        "colab": {
          "base_uri": "https://localhost:8080/",
          "height": 34
        },
        "outputId": "989cd7af-8d36-4e7c-af15-b5150415f273"
      },
      "source": [
        "texto_normal = texto\n",
        "texto_normal = texto.lower()\n",
        "\n",
        "tokens_normal = tokenize.word_tokenize(texto_normal,language='portuguese')\n",
        "\n",
        "len(set(tokens_normal))"
      ],
      "execution_count": null,
      "outputs": [
        {
          "output_type": "execute_result",
          "data": {
            "text/plain": [
              "396"
            ]
          },
          "metadata": {
            "tags": []
          },
          "execution_count": 28
        }
      ]
    },
    {
      "cell_type": "markdown",
      "metadata": {
        "id": "t4aYjLH9BeVb",
        "colab_type": "text"
      },
      "source": [
        "### 7) Realize a retirada de stop words (utilizando o conjunto do NLTK) e mostre a quantidade de tokens no texto"
      ]
    },
    {
      "cell_type": "code",
      "metadata": {
        "id": "ZUG9-6QiBq1f",
        "colab_type": "code",
        "colab": {
          "base_uri": "https://localhost:8080/",
          "height": 68
        },
        "outputId": "a8a4bf69-52ee-4739-c10a-b97cca95afe0"
      },
      "source": [
        "nltk.download('stopwords')"
      ],
      "execution_count": 40,
      "outputs": [
        {
          "output_type": "stream",
          "text": [
            "[nltk_data] Downloading package stopwords to /root/nltk_data...\n",
            "[nltk_data]   Package stopwords is already up-to-date!\n"
          ],
          "name": "stdout"
        },
        {
          "output_type": "execute_result",
          "data": {
            "text/plain": [
              "True"
            ]
          },
          "metadata": {
            "tags": []
          },
          "execution_count": 40
        }
      ]
    },
    {
      "cell_type": "code",
      "metadata": {
        "id": "n0ByK2kiY6Wh",
        "colab_type": "code",
        "colab": {}
      },
      "source": [
        "def removeStopWords(texto):\n",
        "    stopwords = nltk.corpus.stopwords.words('portuguese')\n",
        "    novotexto = []\n",
        "    for token in texto:\n",
        "        if token.lower() not in stopwords:\n",
        "            novotexto.append(token)\n",
        "    return novotexto\n",
        "  \n",
        "  "
      ],
      "execution_count": 41,
      "outputs": []
    },
    {
      "cell_type": "code",
      "metadata": {
        "id": "izvBfF0tZV5Q",
        "colab_type": "code",
        "colab": {
          "base_uri": "https://localhost:8080/",
          "height": 54
        },
        "outputId": "d9325f52-3408-4cef-9a56-a34d87e2bfd9"
      },
      "source": [
        "texto_nonstop = texto\n",
        "tokens_nonstop = tokenize.word_tokenize(texto_nonstop,language='portuguese')\n",
        "\n",
        "novotexto2 = removeStopWords(tokens_nonstop)\n",
        "\n",
        "print(novotexto2)"
      ],
      "execution_count": 45,
      "outputs": [
        {
          "output_type": "stream",
          "text": [
            "['morte', 'supersônica', 'Concorde', 'avião', 'incrível', '.', 'Inclusive', 'quesito', 'segurança', '.', ',', 'dia', ',', 'aconteceu', 'algo', 'ninguém', 'poderia', 'prever', '.', 'asas', 'alongadas', 'viradas', 'trás', ',', 'cabine', 'bem', 'estreita', 'bico', 'fino', '–', 'deslizava', 'baixo', 'durante', 'pouso', ',', 'melhorar', 'visibilidade', 'piloto', '–', ',', 'Concorde', 'aviões', 'bonitos', 'todos', 'tempos', '.', 'avançados', '.', 'Desenvolvido', 'anos', '1960', 'consórcio', 'empresas', 'francesas', 'inglesas', '(', 'hoje', 'chama', 'Airbus', ')', ',', 'únicos', 'dois', 'aviões', 'supersônicos', 'operar', 'comercialmente', '(', 'outro', 'soviético', 'Tupolev', 'Tu-144', ')', '.', 'quatro', 'motores', 'ultrapotentes', ',', 'queimavam', '25', 'mil', 'litros', 'combustível', 'hora', '–', 'quase', 'dobro', 'Boeing', '747', '-', ',', 'viajava', '60', 'mil', 'pés', 'altitude', ',', '20', 'mil', 'outros', 'aviões', '.', 'Usava', 'tecnologias', 'revolucionárias', ',', 'sistema', 'desacelerava', 'passagem', 'ar', 'dentro', 'turbinas', '(', 'contrário', ',', 'explodiriam', 'antes', 'avião', 'atingisse', 'velocidade', 'máxima', ')', '.', 'Tudo', 'alcançar', 'glória', 'voar', '2.179', 'km/h', ',', 'duas', 'vezes', 'velocidade', 'som', '.', 'dobro', 'aviões', 'comuns', ',', 'permitia', 'atravessar', 'planeta', 'rapidez', 'hoje', 'impressiona', '–', 'ir', 'Londres', 'Nova', 'York', 'três', 'horas', ',', 'exemplo', '.', 'Concorde', 'começou', 'operar', '1976', '.', 'primeiras', 'linhas', 'fazia', 'trajeto', 'Paris-Rio', 'Janeiro', ',', 'dois', 'voos', 'semanais', '.', 'público', 'ficou', 'maravilhado', 'aeronave', ',', 'voar', 'nela', 'poucos', ':', 'passagens', 'ainda', 'caras', 'voos', 'primeira', 'classe', ',', 'ultrapassavam', 'US', '$', '10', 'mil', 'valores', 'hoje', '.', 'manter', 'frota', 'Concordes', 'ainda', 'caro', ',', 'British', 'Airways', 'Air', 'France', ',', 'operavam', 'aviões', ',', 'prejuízo', '.', ',', 'voos', 'dessem', 'lucro', ',', 'cada', 'avião', 'precisava', 'decolar', 'menos', '90', '%', 'assentos', 'ocupados', ',', 'sempre', 'acontecia', '(', 'linha', 'brasileira', 'ocupação', 'média', '50', '%', ',', 'primeiras', 'deixarem', 'existir', ',', '1982', ')', '.', 'assim', ',', 'continuou', 'operando', 'comercialmente', ',', 'voos', 'ligando', 'Europa', 'EUA', ',', 'dia', '25', 'julho', '2000', '.', 'Nesse', 'dia', ',', 'Concorde', 'F-BTSC', 'Air', 'France', '(', 'únicos', '26', 'serem', 'produzidos', ')', 'saiu', 'aeroporto', 'Charles', 'Gaulle', ',', 'Paris', ',', 'destino', 'Nova', 'York', '.', 'Levava', 'cem', 'passageiros', 'nove', 'tripulantes', '–', ',', 'descobriu-se', ',', 'sobrecarregado', ',', '810', 'kg', 'peso', 'máximo', 'permitido', '.', 'decolagem', ',', 'aconteceu', 'cenas', 'impressionantes', 'história', 'aviação', '.', 'Durante', 'aceleração', 'inicial', ',', 'Concorde', 'ainda', 'chão', ',', 'tanques', 'combustível', 'explodiu', '.', 'pilotos', 'perceberam', ',', 'percorrido', 'boa', 'parte', 'pista', '–', '2', 'km', ',', 'espaço', 'insuficiente', 'frear', 'avião', 'abortar', 'voo', 'segurança', '.', 'única', 'saída', 'tentar', 'decolar', '–', 'coisa', 'fizeram', ',', 'Concorde', 'pegando', 'fogo', '.', 'consequências', 'dramáticas', '.', 'motores', '1', '2', 'pifaram', ',', 'aeronave', 'inclinando', 'violentamente', 'lado', '.', 'tentar', 'compensar', ',', 'forçar', 'Concorde', 'ferido', 'voar', 'reto', ',', 'pilotos', 'desaceleraram', 'motores', '3', '4', ',', 'outro', 'lado', '.', 'avião', 'caiu', 'logo', ',', 'redondezas', 'aeroporto', '.', 'Todos', 'ocupantes', 'morreram', ',', 'quatro', 'vítimas', 'fatais', 'solo', ',', 'atingidas', 'pedaços', 'avião', '.', 'acidente', 'chocou', 'mundo', 'devastou', 'imagem', 'Concorde', ',', 'nunca', 'havia', 'enfrentado', 'acidente', 'grave', 'então', 'considerado', 'aviões', 'seguros', 'história', '.', 'frota', 'inspecionada', 'voltou', 'operar', 'comercialmente', '.', 'aí', ',', '2001', ',', 'aconteceram', 'atentados', '11', 'Setembro', ',', 'deixaram', 'pessoas', 'medo', 'voar', '.', 'Concorde', 'nada', 'ver', ',', 'afetado', 'forte', 'queda', 'venda', 'passagens', 'aéreas', '.', 'tornou', ',', 'vez', 'todas', ',', 'economicamente', 'inviável', '.', 'aposentado', '–', 'direito', ',', 'apenas', ',', 'curta', 'série', 'voos', 'despedida', ',', 'fãs', 'avião', ',', 'realizados', 'British', 'Airways', '2003', '.', 'verdadeiro', 'culpado', 'relatório', 'governo', 'francês', 'constatou', ',', 'acidente', 'fatal', 'aconteceu', 'defeitos', 'Concorde', '(', 'excesso', 'peso', ')', '.', 'causa', 'outro', 'avião', ':', 'DC-10', 'Continental', 'Airlines', ',', 'decolou', 'cinco', 'minutos', 'antes', '.', 'avião', 'manutenção', 'malfeita', ',', 'soltou', 'pedaço', 'metal', 'pista', '.', 'faixa', 'titânio', ',', '40', 'cm', 'comprimento', '3', 'cm', 'largura', ',', 'caiu', 'turbinas', '.', 'Ninguém', 'percebeu', ',', 'peça', 'ficou', 'lá', '–', 'Concorde', 'passou', 'bem', 'cima', '.', 'rasgou', 'pneus', ',', 'estourou', '.', 'onda', 'choque', 'rompeu', 'tanques', 'combustível', 'Concorde', ',', 'detonando', 'incêndio', 'derrubou', 'avião', '.']\n"
          ],
          "name": "stdout"
        }
      ]
    },
    {
      "cell_type": "code",
      "metadata": {
        "id": "jxtV_9z0RTFN",
        "colab_type": "code",
        "colab": {}
      },
      "source": [
        "novotexto2"
      ],
      "execution_count": null,
      "outputs": []
    },
    {
      "cell_type": "code",
      "metadata": {
        "id": "3r879MxUcOSr",
        "colab_type": "code",
        "colab": {
          "base_uri": "https://localhost:8080/",
          "height": 34
        },
        "outputId": "496e62a8-943b-4278-b14a-28d230809b00"
      },
      "source": [
        "len(tokens_nonstop)"
      ],
      "execution_count": 46,
      "outputs": [
        {
          "output_type": "execute_result",
          "data": {
            "text/plain": [
              "917"
            ]
          },
          "metadata": {
            "tags": []
          },
          "execution_count": 46
        }
      ]
    },
    {
      "cell_type": "markdown",
      "metadata": {
        "id": "xiQ10Ne-CYPR",
        "colab_type": "text"
      },
      "source": [
        "### 8) Remova todas pontuações do texto (exceto quando estiver sendo usado como separador decimal)"
      ]
    },
    {
      "cell_type": "code",
      "metadata": {
        "id": "pF2hMR0sCssu",
        "colab_type": "code",
        "colab": {
          "base_uri": "https://localhost:8080/",
          "height": 1000
        },
        "outputId": "df718295-3eb0-4ab9-ab08-663f11d96e80"
      },
      "source": [
        "re.split(r\"[^\\w\\s]\",texto)"
      ],
      "execution_count": 50,
      "outputs": [
        {
          "output_type": "execute_result",
          "data": {
            "text/plain": [
              "['A morte supersônica\\nO Concorde era um avião incrível',\n",
              " ' Inclusive no quesito segurança',\n",
              " ' Até que',\n",
              " ' um dia',\n",
              " ' aconteceu algo que ninguém poderia prever',\n",
              " '\\n\\nCom asas alongadas e viradas para trás',\n",
              " ' cabine bem estreita e bico fino ',\n",
              " ' que deslizava para baixo durante o pouso',\n",
              " ' para melhorar a visibilidade do piloto ',\n",
              " '',\n",
              " ' o Concorde é um dos aviões mais bonitos de todos os tempos',\n",
              " ' E um dos mais avançados também',\n",
              " '\\n\\nDesenvolvido nos anos 1960 por um consórcio de empresas francesas e inglesas ',\n",
              " 'que hoje se chama Airbus',\n",
              " '',\n",
              " ' ele foi um dos únicos dois aviões supersônicos a operar comercialmente ',\n",
              " 'o outro foi o soviético Tupolev Tu',\n",
              " '144',\n",
              " '',\n",
              " ' Tinha quatro motores ultrapotentes',\n",
              " ' que queimavam 25 mil litros de combustível por hora ',\n",
              " ' quase o dobro de um Boeing 747 ',\n",
              " '',\n",
              " ' e viajava a 60 mil pés de altitude',\n",
              " ' 20 mil a mais que os outros aviões',\n",
              " ' Usava tecnologias revolucionárias',\n",
              " ' como um sistema que desacelerava a passagem do ar dentro das turbinas ',\n",
              " 'do contrário',\n",
              " ' elas explodiriam antes que o avião atingisse sua velocidade máxima',\n",
              " '',\n",
              " ' Tudo para alcançar a glória de voar a 2',\n",
              " '179 km',\n",
              " 'h',\n",
              " ' duas vezes a velocidade do som',\n",
              " ' É o dobro dos aviões comuns',\n",
              " ' e permitia atravessar o planeta com uma rapidez que até hoje impressiona ',\n",
              " ' ir de Londres a Nova York em três horas',\n",
              " ' por exemplo',\n",
              " '\\n\\nO Concorde começou a operar em 1976',\n",
              " ' Uma das primeiras linhas fazia o trajeto Paris',\n",
              " 'Rio de Janeiro',\n",
              " ' com dois voos semanais',\n",
              " ' O público ficou maravilhado com a aeronave',\n",
              " ' mas voar nela era para poucos',\n",
              " ' as passagens eram ainda mais caras que as dos voos de primeira classe',\n",
              " ' e ultrapassavam US',\n",
              " ' 10 mil em valores de hoje',\n",
              " ' Mas manter a frota de Concordes era ainda mais caro',\n",
              " ' e a British Airways e a Air France',\n",
              " ' que operavam os aviões',\n",
              " ' tinham prejuízo com eles',\n",
              " ' É que',\n",
              " ' para que os voos dessem lucro',\n",
              " ' cada avião precisava decolar com pelo menos 90',\n",
              " ' dos assentos ocupados',\n",
              " ' o que nem sempre acontecia ',\n",
              " 'a linha brasileira tinha ocupação média de 50',\n",
              " '',\n",
              " ' e por isso foi uma das primeiras a deixarem de existir',\n",
              " ' em 1982',\n",
              " '',\n",
              " '\\n\\nMesmo assim',\n",
              " ' ele continuou operando comercialmente',\n",
              " ' com voos ligando a Europa e os EUA',\n",
              " ' até o dia 25 de julho de 2000',\n",
              " ' Nesse dia',\n",
              " ' o Concorde F',\n",
              " 'BTSC da Air France ',\n",
              " 'um dos únicos 26 a serem produzidos',\n",
              " ' saiu do aeroporto Charles de Gaulle',\n",
              " ' em Paris',\n",
              " ' com destino a Nova York',\n",
              " ' Levava cem passageiros e nove tripulantes ',\n",
              " ' e',\n",
              " ' descobriu',\n",
              " 'se depois',\n",
              " ' estava sobrecarregado',\n",
              " ' com 810 kg a mais do que o peso máximo permitido',\n",
              " ' Na decolagem',\n",
              " ' aconteceu uma das cenas mais impressionantes da história da aviação',\n",
              " ' Durante a aceleração inicial',\n",
              " ' com o Concorde ainda no chão',\n",
              " ' um dos tanques de combustível explodiu',\n",
              " ' Os pilotos perceberam',\n",
              " ' mas já tinham percorrido boa parte da pista ',\n",
              " ' só tinham mais 2 km',\n",
              " ' espaço insuficiente para frear o avião e abortar o voo com segurança',\n",
              " ' A única saída era tentar decolar ',\n",
              " ' coisa que eles fizeram',\n",
              " ' com o Concorde pegando fogo',\n",
              " '\\n\\nAs consequências foram dramáticas',\n",
              " ' Os motores 1 e 2 pifaram',\n",
              " ' e com isso a aeronave foi se inclinando violentamente para o lado',\n",
              " ' Para tentar compensar isso',\n",
              " ' e forçar o Concorde ferido a voar reto',\n",
              " ' os pilotos desaceleraram os motores 3 e 4',\n",
              " ' do outro lado',\n",
              " ' O avião caiu logo depois',\n",
              " ' nas redondezas do aeroporto',\n",
              " ' Todos os ocupantes morreram',\n",
              " ' e também houve quatro vítimas fatais em solo',\n",
              " ' que foram atingidas por pedaços do avião',\n",
              " ' O acidente chocou o mundo e devastou a imagem do Concorde',\n",
              " ' que nunca havia enfrentado um acidente grave e até então era considerado um dos aviões mais seguros da história',\n",
              " '\\n\\nA frota foi inspecionada e voltou a operar comercialmente',\n",
              " ' Mas aí',\n",
              " ' em 2001',\n",
              " ' aconteceram os atentados de 11 de Setembro',\n",
              " ' que deixaram as pessoas com medo de voar',\n",
              " ' O Concorde não teve nada a ver com eles',\n",
              " ' mas também foi afetado pela forte queda na venda de passagens aéreas',\n",
              " ' E se tornou',\n",
              " ' de uma vez por todas',\n",
              " ' economicamente inviável',\n",
              " ' Foi aposentado ',\n",
              " ' com direito',\n",
              " ' apenas',\n",
              " ' a uma curta série de voos de despedida',\n",
              " ' para os fãs do avião',\n",
              " ' realizados pela British Airways em 2003',\n",
              " '\\n\\nO verdadeiro culpado\\n\\nComo um relatório do governo francês constatou depois',\n",
              " ' o acidente fatal não aconteceu por defeitos no Concorde ',\n",
              " 'nem pelo excesso de peso',\n",
              " '',\n",
              " ' Foi por causa de outro avião',\n",
              " ' um DC',\n",
              " '10 da Continental Airlines',\n",
              " ' que decolou cinco minutos antes',\n",
              " ' Esse avião teve manutenção malfeita',\n",
              " ' e por isso soltou um pedaço de metal na pista',\n",
              " ' Era uma faixa de titânio',\n",
              " ' com 40 cm de comprimento e 3 cm de largura',\n",
              " ' que caiu de uma das turbinas',\n",
              " ' Ninguém percebeu',\n",
              " ' a peça ficou lá ',\n",
              " ' e o Concorde passou bem por cima dela',\n",
              " ' Isso rasgou um de seus pneus',\n",
              " ' que estourou',\n",
              " ' A onda de choque rompeu um dos tanques de combustível do Concorde',\n",
              " ' detonando o incêndio que derrubou o avião',\n",
              " '']"
            ]
          },
          "metadata": {
            "tags": []
          },
          "execution_count": 50
        }
      ]
    },
    {
      "cell_type": "markdown",
      "metadata": {
        "id": "zX0EkcqUC8VJ",
        "colab_type": "text"
      },
      "source": [
        "### 9) Encontre todos os valores associados a unidades de medida no texto (e.g., cm, kg)"
      ]
    },
    {
      "cell_type": "code",
      "metadata": {
        "id": "ARakNa4uC8eU",
        "colab_type": "code",
        "colab": {}
      },
      "source": [
        "re.findall(r\"([\\d]+)[\\s\\D]*\",texto)"
      ],
      "execution_count": null,
      "outputs": []
    },
    {
      "cell_type": "markdown",
      "metadata": {
        "id": "N7wxuI7fF7e-",
        "colab_type": "text"
      },
      "source": [
        "### 10) Realize o treinamento do BigramTagger e do TnT tagger usando o corpus Floresta disponível no NLTK. Após o treinamento realize o tageamento do texto."
      ]
    },
    {
      "cell_type": "code",
      "metadata": {
        "id": "UMM_a2lqGMLa",
        "colab_type": "code",
        "colab": {}
      },
      "source": [
        "from nltk.corpus import floresta\n",
        "from nltk.tag import BigramTagger\n",
        "from nltk.tag import tnt\n",
        "from nltk import tokenize\n",
        "nltk.download('floresta')"
      ],
      "execution_count": null,
      "outputs": []
    },
    {
      "cell_type": "code",
      "metadata": {
        "id": "WlM-a6-6dgh_",
        "colab_type": "code",
        "colab": {}
      },
      "source": [
        "#Obtém as sentenças taggeadas\n",
        "tagged_sents = floresta.tagged_sents()\n",
        "\n",
        "# Divide-as em duas partes - uma maior, para TREINAMENTO - e outra menor, para TESTE\n",
        "train_tsents = tagged_sents[100:] # Todas sentenças após as 100 primeiras\n",
        "test_tsents = tagged_sents[:100] # Pega todas sentenças até a centésima"
      ],
      "execution_count": 53,
      "outputs": []
    },
    {
      "cell_type": "code",
      "metadata": {
        "id": "3HGdFX3heEhh",
        "colab_type": "code",
        "colab": {
          "base_uri": "https://localhost:8080/",
          "height": 34
        },
        "outputId": "a141899c-4246-4da4-a8b9-b7a4efd9f87e"
      },
      "source": [
        "bigram_pos = BigramTagger(train_tsents)\n",
        "bigram_pos.evaluate(test_tsents)"
      ],
      "execution_count": 54,
      "outputs": [
        {
          "output_type": "execute_result",
          "data": {
            "text/plain": [
              "0.09132906894100924"
            ]
          },
          "metadata": {
            "tags": []
          },
          "execution_count": 54
        }
      ]
    },
    {
      "cell_type": "code",
      "metadata": {
        "id": "GjTuSlpPeU2r",
        "colab_type": "code",
        "colab": {
          "base_uri": "https://localhost:8080/",
          "height": 34
        },
        "outputId": "b7950cab-f349-4c30-e022-06b3eff1362a"
      },
      "source": [
        "tnt_pos_tagger = tnt.TnT()\n",
        "tnt_pos_tagger.train(train_tsents)\n",
        "tnt_pos_tagger.evaluate(test_tsents)"
      ],
      "execution_count": 55,
      "outputs": [
        {
          "output_type": "execute_result",
          "data": {
            "text/plain": [
              "0.8333333333333334"
            ]
          },
          "metadata": {
            "tags": []
          },
          "execution_count": 55
        }
      ]
    },
    {
      "cell_type": "code",
      "metadata": {
        "id": "oaTeBGtNf4z8",
        "colab_type": "code",
        "colab": {}
      },
      "source": [
        "tnt_pos_tagger.tag(tokenize.word_tokenize(texto, language='portuguese'))"
      ],
      "execution_count": null,
      "outputs": []
    },
    {
      "cell_type": "code",
      "metadata": {
        "id": "HRMBF5jOg-P-",
        "colab_type": "code",
        "colab": {}
      },
      "source": [
        "bigram_pos.tag(tokenize.word_tokenize(texto,language='portuguese'))"
      ],
      "execution_count": null,
      "outputs": []
    },
    {
      "cell_type": "markdown",
      "metadata": {
        "id": "nEsHdjZYIEiH",
        "colab_type": "text"
      },
      "source": [
        "### 11) Crie uma expressão regular para obter no nome de todas pontifícias univerdades católicas do texto a seguir."
      ]
    },
    {
      "cell_type": "code",
      "metadata": {
        "id": "ZYfa8OrDIbCC",
        "colab_type": "code",
        "colab": {}
      },
      "source": [
        "textoUniv = \"\"\"A seguir uma lista de todas pontifícias universidades católicas no Brasil.\n",
        "- Pontifícia Universidade Católica do Rio de Janeiro\n",
        "- Pontifícia Universidade Católica de São Paulo\n",
        "- Pontifícia Universidade Católica de Campinas\n",
        "- Pontifícia Universidade Católica de Minas Gerais\n",
        "- Pontifícia Universidade Católica do Rio Grande do Sul\n",
        "- Pontifícia Universidade Católica do Paraná\n",
        "- Pontifícia Universidade Católica de Goiás\n",
        "\n",
        "Todas estas universidades são mantidas pela Igreja Católica.\"\"\""
      ],
      "execution_count": 56,
      "outputs": []
    },
    {
      "cell_type": "code",
      "metadata": {
        "id": "mtb7F3xwfsaQ",
        "colab_type": "code",
        "colab": {
          "base_uri": "https://localhost:8080/",
          "height": 136
        },
        "outputId": "b6066d3a-a040-4894-8679-8853920e69cf"
      },
      "source": [
        "re.findall(r\"\\- [Pontifícia Universidade Católica].*\",textoUniv)"
      ],
      "execution_count": 57,
      "outputs": [
        {
          "output_type": "execute_result",
          "data": {
            "text/plain": [
              "['- Pontifícia Universidade Católica do Rio de Janeiro',\n",
              " '- Pontifícia Universidade Católica de São Paulo',\n",
              " '- Pontifícia Universidade Católica de Campinas',\n",
              " '- Pontifícia Universidade Católica de Minas Gerais',\n",
              " '- Pontifícia Universidade Católica do Rio Grande do Sul',\n",
              " '- Pontifícia Universidade Católica do Paraná',\n",
              " '- Pontifícia Universidade Católica de Goiás']"
            ]
          },
          "metadata": {
            "tags": []
          },
          "execution_count": 57
        }
      ]
    },
    {
      "cell_type": "markdown",
      "metadata": {
        "id": "jeNlNQW3J2WS",
        "colab_type": "text"
      },
      "source": [
        "### 12) Monte no PANDAS uma tabela de frequencia dos TOP 10 tokens"
      ]
    },
    {
      "cell_type": "code",
      "metadata": {
        "id": "P7OF2IQuJ_xD",
        "colab_type": "code",
        "colab": {}
      },
      "source": [
        "from collections import Counter\n",
        "contador = Counter(novotexto2)\n",
        "for cont in contador.items():\n",
        "  print(cont)"
      ],
      "execution_count": null,
      "outputs": []
    },
    {
      "cell_type": "code",
      "metadata": {
        "id": "u4FCJ4ZvOJhL",
        "colab_type": "code",
        "colab": {
          "base_uri": "https://localhost:8080/",
          "height": 187
        },
        "outputId": "7a269ee2-ee46-47be-c644-9bce1cc43ef3"
      },
      "source": [
        "contador.most_common(10)"
      ],
      "execution_count": 77,
      "outputs": [
        {
          "output_type": "execute_result",
          "data": {
            "text/plain": [
              "[(',', 66),\n",
              " ('.', 40),\n",
              " ('Concorde', 12),\n",
              " ('avião', 10),\n",
              " ('–', 9),\n",
              " ('aviões', 6),\n",
              " ('(', 6),\n",
              " (')', 6),\n",
              " ('voos', 5),\n",
              " ('mil', 4)]"
            ]
          },
          "metadata": {
            "tags": []
          },
          "execution_count": 77
        }
      ]
    },
    {
      "cell_type": "code",
      "metadata": {
        "id": "uqvFe0vGPI8u",
        "colab_type": "code",
        "colab": {
          "base_uri": "https://localhost:8080/",
          "height": 359
        },
        "outputId": "253776cb-d0f8-4916-e113-79b4ed220006"
      },
      "source": [
        "import pandas as pd\n",
        "dados = {\n",
        "    'Tokens':[',', '.' , 'Concorde', 'avião','-','aviões','(',')','voos','mil'],\n",
        "'Frequência':[66,40,12,10,9,6,6,6,5,4]\n",
        "}\n",
        "df = pd.DataFrame(dados)\n",
        "display(df)"
      ],
      "execution_count": 97,
      "outputs": [
        {
          "output_type": "display_data",
          "data": {
            "text/html": [
              "<div>\n",
              "<style scoped>\n",
              "    .dataframe tbody tr th:only-of-type {\n",
              "        vertical-align: middle;\n",
              "    }\n",
              "\n",
              "    .dataframe tbody tr th {\n",
              "        vertical-align: top;\n",
              "    }\n",
              "\n",
              "    .dataframe thead th {\n",
              "        text-align: right;\n",
              "    }\n",
              "</style>\n",
              "<table border=\"1\" class=\"dataframe\">\n",
              "  <thead>\n",
              "    <tr style=\"text-align: right;\">\n",
              "      <th></th>\n",
              "      <th>Tokens</th>\n",
              "      <th>Frequência</th>\n",
              "    </tr>\n",
              "  </thead>\n",
              "  <tbody>\n",
              "    <tr>\n",
              "      <th>0</th>\n",
              "      <td>,</td>\n",
              "      <td>66</td>\n",
              "    </tr>\n",
              "    <tr>\n",
              "      <th>1</th>\n",
              "      <td>.</td>\n",
              "      <td>40</td>\n",
              "    </tr>\n",
              "    <tr>\n",
              "      <th>2</th>\n",
              "      <td>Concorde</td>\n",
              "      <td>12</td>\n",
              "    </tr>\n",
              "    <tr>\n",
              "      <th>3</th>\n",
              "      <td>avião</td>\n",
              "      <td>10</td>\n",
              "    </tr>\n",
              "    <tr>\n",
              "      <th>4</th>\n",
              "      <td>-</td>\n",
              "      <td>9</td>\n",
              "    </tr>\n",
              "    <tr>\n",
              "      <th>5</th>\n",
              "      <td>aviões</td>\n",
              "      <td>6</td>\n",
              "    </tr>\n",
              "    <tr>\n",
              "      <th>6</th>\n",
              "      <td>(</td>\n",
              "      <td>6</td>\n",
              "    </tr>\n",
              "    <tr>\n",
              "      <th>7</th>\n",
              "      <td>)</td>\n",
              "      <td>6</td>\n",
              "    </tr>\n",
              "    <tr>\n",
              "      <th>8</th>\n",
              "      <td>voos</td>\n",
              "      <td>5</td>\n",
              "    </tr>\n",
              "    <tr>\n",
              "      <th>9</th>\n",
              "      <td>mil</td>\n",
              "      <td>4</td>\n",
              "    </tr>\n",
              "  </tbody>\n",
              "</table>\n",
              "</div>"
            ],
            "text/plain": [
              "     Tokens  Frequência\n",
              "0         ,          66\n",
              "1         .          40\n",
              "2  Concorde          12\n",
              "3     avião          10\n",
              "4         -           9\n",
              "5    aviões           6\n",
              "6         (           6\n",
              "7         )           6\n",
              "8      voos           5\n",
              "9       mil           4"
            ]
          },
          "metadata": {
            "tags": []
          }
        }
      ]
    },
    {
      "cell_type": "markdown",
      "metadata": {
        "id": "vjofL9EbKBjx",
        "colab_type": "text"
      },
      "source": [
        "### 13) Apresente um gráfico baseados nas tabelas acima"
      ]
    },
    {
      "cell_type": "code",
      "metadata": {
        "id": "xDlyBaMFKAwI",
        "colab_type": "code",
        "colab": {
          "base_uri": "https://localhost:8080/",
          "height": 616
        },
        "outputId": "a937362d-fefd-4264-8d0c-877227a3fe55"
      },
      "source": [
        "import matplotlib.pyplot as plt\n",
        "plt.rcParams.update({'font.size': 20, 'figure.figsize': (10, 8)})\n",
        "\n",
        "df.plot(kind='bar', x='Tokens', y='Frequência', title='TOP 10 Tokens');"
      ],
      "execution_count": 101,
      "outputs": [
        {
          "output_type": "display_data",
          "data": {
            "image/png": "[encoded data removed]",
            "text/plain": [
              "<Figure size 720x576 with 1 Axes>"
            ]
          },
          "metadata": {
            "tags": [],
            "needs_background": "light"
          }
        }
      ]
    },
    {
      "cell_type": "markdown",
      "metadata": {
        "id": "mUx9tY455Dkw",
        "colab_type": "text"
      },
      "source": [
        "## Referências e Material complementar\n",
        "\n",
        "*   [Natural Language Processing with Python – Analyzing Text with the Natural Language Toolkit](https://www.nltk.org/book/)\n",
        "*   [Stanford - Information Retrieval Book - Chapter 2](https://nlp.stanford.edu/IR-book/)\n",
        "*   [Técnicas de pré-processamento de Texto - Prof. Fernando Vieira da Silva](https://www.kaggle.com/fernandojvdasilva/aplica-es-em-nlp-aula-02)\n",
        "*   [101 NLP Exercises (using modern libraries)](https://www.machinelearningplus.com/nlp/nlp-exercises/)\n"
      ]
    },
    {
      "cell_type": "markdown",
      "metadata": {
        "id": "sp_cyslKrPuU",
        "colab_type": "text"
      },
      "source": [
        "Este notebook foi produzido por Prof. [Lucas Oliveira](http://lattes.cnpq.br/3611246009892500)."
      ]
    }
  ]
}