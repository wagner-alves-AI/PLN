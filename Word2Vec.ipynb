{
  "nbformat": 4,
  "nbformat_minor": 0,
  "metadata": {
    "colab": {
      "name": "Word2Vec.ipynb",
      "provenance": [],
      "authorship_tag": "ABX9TyNl3c0AOg2BkDPUXGqevLoE",
      "include_colab_link": true
    },
    "kernelspec": {
      "name": "python3",
      "display_name": "Python 3"
    }
  },
  "cells": [
    {
      "cell_type": "markdown",
      "metadata": {
        "id": "view-in-github",
        "colab_type": "text"
      },
      "source": [
        "<a href=\"https://colab.research.google.com/github/wagner-alves-AI/PLN/blob/master/Word2Vec.ipynb\" target=\"_parent\"><img src=\"https://colab.research.google.com/assets/colab-badge.svg\" alt=\"Open In Colab\"/></a>"
      ]
    },
    {
      "cell_type": "code",
      "metadata": {
        "id": "WSyg6f9RaA6x",
        "colab_type": "code",
        "colab": {}
      },
      "source": [
        "import pandas as pd\n",
        "import gensim\n",
        "from gensim.utils import simple_preprocess"
      ],
      "execution_count": 1,
      "outputs": []
    },
    {
      "cell_type": "code",
      "metadata": {
        "id": "ULsdMWC_eFQD",
        "colab_type": "code",
        "colab": {}
      },
      "source": [
        "corpus = ['Primeiro texto do capítulo', 'Segundo texto do capítulo']"
      ],
      "execution_count": 2,
      "outputs": []
    },
    {
      "cell_type": "code",
      "metadata": {
        "id": "XKkwAThseQQL",
        "colab_type": "code",
        "colab": {
          "base_uri": "https://localhost:8080/",
          "height": 128
        },
        "outputId": "413a4409-39f6-46bb-b7de-f196c7179fde"
      },
      "source": [
        "#pré-processamento de cada documento do corpus\n",
        "corpus_preprocessed = []\n",
        "for doc in corpus:\n",
        "  corpus_preprocessed.append(simple_preprocess(doc,deacc=True, min_len=3))\n",
        "display(corpus_preprocessed)\n",
        "df = pd.DataFrame(corpus_preprocessed, index=['Documento1', 'Documento2'],\n",
        "                  columns = ['Token1', 'Token2', 'Token3'])\n",
        "display(df)\n"
      ],
      "execution_count": 3,
      "outputs": [
        {
          "output_type": "display_data",
          "data": {
            "text/plain": [
              "[['primeiro', 'texto', 'capitulo'], ['segundo', 'texto', 'capitulo']]"
            ]
          },
          "metadata": {
            "tags": []
          }
        },
        {
          "output_type": "display_data",
          "data": {
            "text/html": [
              "<div>\n",
              "<style scoped>\n",
              "    .dataframe tbody tr th:only-of-type {\n",
              "        vertical-align: middle;\n",
              "    }\n",
              "\n",
              "    .dataframe tbody tr th {\n",
              "        vertical-align: top;\n",
              "    }\n",
              "\n",
              "    .dataframe thead th {\n",
              "        text-align: right;\n",
              "    }\n",
              "</style>\n",
              "<table border=\"1\" class=\"dataframe\">\n",
              "  <thead>\n",
              "    <tr style=\"text-align: right;\">\n",
              "      <th></th>\n",
              "      <th>Token1</th>\n",
              "      <th>Token2</th>\n",
              "      <th>Token3</th>\n",
              "    </tr>\n",
              "  </thead>\n",
              "  <tbody>\n",
              "    <tr>\n",
              "      <th>Documento1</th>\n",
              "      <td>primeiro</td>\n",
              "      <td>texto</td>\n",
              "      <td>capitulo</td>\n",
              "    </tr>\n",
              "    <tr>\n",
              "      <th>Documento2</th>\n",
              "      <td>segundo</td>\n",
              "      <td>texto</td>\n",
              "      <td>capitulo</td>\n",
              "    </tr>\n",
              "  </tbody>\n",
              "</table>\n",
              "</div>"
            ],
            "text/plain": [
              "              Token1 Token2    Token3\n",
              "Documento1  primeiro  texto  capitulo\n",
              "Documento2   segundo  texto  capitulo"
            ]
          },
          "metadata": {
            "tags": []
          }
        }
      ]
    },
    {
      "cell_type": "code",
      "metadata": {
        "id": "kqQVjL94fMi-",
        "colab_type": "code",
        "colab": {
          "base_uri": "https://localhost:8080/",
          "height": 190
        },
        "outputId": "dc65f420-2425-40ad-8c37-9e15a4d4c90f"
      },
      "source": [
        "from gensim.corpora import Dictionary as corpDict \n",
        "\n",
        "vocab = corpDict(corpus_preprocessed)\n",
        "print(vocab)\n",
        "df2 = pd.DataFrame(vocab.values(), columns=['Palavra'])\n",
        "display(df2)"
      ],
      "execution_count": 4,
      "outputs": [
        {
          "output_type": "stream",
          "text": [
            "Dictionary(4 unique tokens: ['capitulo', 'primeiro', 'texto', 'segundo'])\n"
          ],
          "name": "stdout"
        },
        {
          "output_type": "display_data",
          "data": {
            "text/html": [
              "<div>\n",
              "<style scoped>\n",
              "    .dataframe tbody tr th:only-of-type {\n",
              "        vertical-align: middle;\n",
              "    }\n",
              "\n",
              "    .dataframe tbody tr th {\n",
              "        vertical-align: top;\n",
              "    }\n",
              "\n",
              "    .dataframe thead th {\n",
              "        text-align: right;\n",
              "    }\n",
              "</style>\n",
              "<table border=\"1\" class=\"dataframe\">\n",
              "  <thead>\n",
              "    <tr style=\"text-align: right;\">\n",
              "      <th></th>\n",
              "      <th>Palavra</th>\n",
              "    </tr>\n",
              "  </thead>\n",
              "  <tbody>\n",
              "    <tr>\n",
              "      <th>0</th>\n",
              "      <td>capitulo</td>\n",
              "    </tr>\n",
              "    <tr>\n",
              "      <th>1</th>\n",
              "      <td>primeiro</td>\n",
              "    </tr>\n",
              "    <tr>\n",
              "      <th>2</th>\n",
              "      <td>texto</td>\n",
              "    </tr>\n",
              "    <tr>\n",
              "      <th>3</th>\n",
              "      <td>segundo</td>\n",
              "    </tr>\n",
              "  </tbody>\n",
              "</table>\n",
              "</div>"
            ],
            "text/plain": [
              "    Palavra\n",
              "0  capitulo\n",
              "1  primeiro\n",
              "2     texto\n",
              "3   segundo"
            ]
          },
          "metadata": {
            "tags": []
          }
        }
      ]
    },
    {
      "cell_type": "code",
      "metadata": {
        "id": "wmaM07hagLJr",
        "colab_type": "code",
        "colab": {
          "base_uri": "https://localhost:8080/",
          "height": 413
        },
        "outputId": "ba9d08ff-e10b-47bb-a829-301b38ad1e97"
      },
      "source": [
        "# Treinamento de um modelo W2V\n",
        "from gensim.models import Word2Vec\n",
        "\n",
        "model = Word2Vec(corpus_preprocessed, min_count=1, size=10)\n",
        "\n",
        "dic = {v: model[v] for v in vocab.values()}\n",
        "df3 = pd.DataFrame(dic)\n",
        "display(df3)\n"
      ],
      "execution_count": 6,
      "outputs": [
        {
          "output_type": "stream",
          "text": [
            "/usr/local/lib/python3.6/dist-packages/ipykernel_launcher.py:6: DeprecationWarning: Call to deprecated `__getitem__` (Method will be removed in 4.0.0, use self.wv.__getitem__() instead).\n",
            "  \n"
          ],
          "name": "stderr"
        },
        {
          "output_type": "display_data",
          "data": {
            "text/html": [
              "<div>\n",
              "<style scoped>\n",
              "    .dataframe tbody tr th:only-of-type {\n",
              "        vertical-align: middle;\n",
              "    }\n",
              "\n",
              "    .dataframe tbody tr th {\n",
              "        vertical-align: top;\n",
              "    }\n",
              "\n",
              "    .dataframe thead th {\n",
              "        text-align: right;\n",
              "    }\n",
              "</style>\n",
              "<table border=\"1\" class=\"dataframe\">\n",
              "  <thead>\n",
              "    <tr style=\"text-align: right;\">\n",
              "      <th></th>\n",
              "      <th>capitulo</th>\n",
              "      <th>primeiro</th>\n",
              "      <th>texto</th>\n",
              "      <th>segundo</th>\n",
              "    </tr>\n",
              "  </thead>\n",
              "  <tbody>\n",
              "    <tr>\n",
              "      <th>0</th>\n",
              "      <td>0.013750</td>\n",
              "      <td>0.039868</td>\n",
              "      <td>0.040033</td>\n",
              "      <td>0.042411</td>\n",
              "    </tr>\n",
              "    <tr>\n",
              "      <th>1</th>\n",
              "      <td>-0.034947</td>\n",
              "      <td>0.015824</td>\n",
              "      <td>0.016344</td>\n",
              "      <td>0.032832</td>\n",
              "    </tr>\n",
              "    <tr>\n",
              "      <th>2</th>\n",
              "      <td>0.001276</td>\n",
              "      <td>0.046790</td>\n",
              "      <td>-0.045606</td>\n",
              "      <td>-0.014047</td>\n",
              "    </tr>\n",
              "    <tr>\n",
              "      <th>3</th>\n",
              "      <td>-0.039185</td>\n",
              "      <td>0.022485</td>\n",
              "      <td>-0.042413</td>\n",
              "      <td>-0.045211</td>\n",
              "    </tr>\n",
              "    <tr>\n",
              "      <th>4</th>\n",
              "      <td>-0.039353</td>\n",
              "      <td>0.001240</td>\n",
              "      <td>-0.020720</td>\n",
              "      <td>-0.034941</td>\n",
              "    </tr>\n",
              "    <tr>\n",
              "      <th>5</th>\n",
              "      <td>-0.037874</td>\n",
              "      <td>0.040201</td>\n",
              "      <td>-0.033085</td>\n",
              "      <td>0.040180</td>\n",
              "    </tr>\n",
              "    <tr>\n",
              "      <th>6</th>\n",
              "      <td>-0.001794</td>\n",
              "      <td>0.047735</td>\n",
              "      <td>-0.047985</td>\n",
              "      <td>-0.009472</td>\n",
              "    </tr>\n",
              "    <tr>\n",
              "      <th>7</th>\n",
              "      <td>-0.030863</td>\n",
              "      <td>0.015745</td>\n",
              "      <td>-0.033042</td>\n",
              "      <td>0.029607</td>\n",
              "    </tr>\n",
              "    <tr>\n",
              "      <th>8</th>\n",
              "      <td>0.016627</td>\n",
              "      <td>0.011480</td>\n",
              "      <td>-0.005443</td>\n",
              "      <td>0.007323</td>\n",
              "    </tr>\n",
              "    <tr>\n",
              "      <th>9</th>\n",
              "      <td>0.029218</td>\n",
              "      <td>0.000304</td>\n",
              "      <td>0.044396</td>\n",
              "      <td>-0.042273</td>\n",
              "    </tr>\n",
              "  </tbody>\n",
              "</table>\n",
              "</div>"
            ],
            "text/plain": [
              "   capitulo  primeiro     texto   segundo\n",
              "0  0.013750  0.039868  0.040033  0.042411\n",
              "1 -0.034947  0.015824  0.016344  0.032832\n",
              "2  0.001276  0.046790 -0.045606 -0.014047\n",
              "3 -0.039185  0.022485 -0.042413 -0.045211\n",
              "4 -0.039353  0.001240 -0.020720 -0.034941\n",
              "5 -0.037874  0.040201 -0.033085  0.040180\n",
              "6 -0.001794  0.047735 -0.047985 -0.009472\n",
              "7 -0.030863  0.015745 -0.033042  0.029607\n",
              "8  0.016627  0.011480 -0.005443  0.007323\n",
              "9  0.029218  0.000304  0.044396 -0.042273"
            ]
          },
          "metadata": {
            "tags": []
          }
        }
      ]
    },
    {
      "cell_type": "code",
      "metadata": {
        "id": "ye4ipnX7hGGO",
        "colab_type": "code",
        "colab": {
          "base_uri": "https://localhost:8080/",
          "height": 51
        },
        "outputId": "438278d5-446a-4093-81f7-14a001ba82fb"
      },
      "source": [
        "# Armazenando um modelo de W2V\n",
        "import nltk\n",
        "from nltk.corpus import brown\n",
        "nltk.download('brown')\n",
        "corpus = brown.sents()\n",
        "model_brown = gensim.models.Word2Vec(corpus, min_count=1)\n",
        "model_brown.save = ('C:\\\\Sagah\\\\modelo_brown.bin') "
      ],
      "execution_count": 9,
      "outputs": [
        {
          "output_type": "stream",
          "text": [
            "[nltk_data] Downloading package brown to /root/nltk_data...\n",
            "[nltk_data]   Package brown is already up-to-date!\n"
          ],
          "name": "stdout"
        }
      ]
    },
    {
      "cell_type": "code",
      "metadata": {
        "id": "1aAElQrHixeT",
        "colab_type": "code",
        "colab": {}
      },
      "source": [
        "# Carregando um modelo\n",
        "from gensim.models import Word2Vec\n",
        "\n",
        "model_carreg = Word2Vec.load = ('C:\\\\Sagah\\\\modelo_brown.bin')"
      ],
      "execution_count": 10,
      "outputs": []
    },
    {
      "cell_type": "code",
      "metadata": {
        "id": "n28v9tLqoq1S",
        "colab_type": "code",
        "colab": {
          "base_uri": "https://localhost:8080/",
          "height": 88
        },
        "outputId": "01d5ba88-0a9c-4437-ce6b-f3eceab712e9"
      },
      "source": [
        "# Carregando um modelo pré-treinado\n",
        "import gensim.downloader as corpus_data\n",
        "\n",
        "model = corpus_data.load('word2vec-google-news-300')"
      ],
      "execution_count": 11,
      "outputs": [
        {
          "output_type": "stream",
          "text": [
            "[==================================================] 100.0% 1662.8/1662.8MB downloaded\n"
          ],
          "name": "stdout"
        },
        {
          "output_type": "stream",
          "text": [
            "/usr/local/lib/python3.6/dist-packages/smart_open/smart_open_lib.py:254: UserWarning: This function is deprecated, use smart_open.open instead. See the migration notes for details: https://github.com/RaRe-Technologies/smart_open/blob/master/README.rst#migrating-to-the-new-open-function\n",
            "  'See the migration notes for details: %s' % _MIGRATION_NOTES_URL\n"
          ],
          "name": "stderr"
        }
      ]
    },
    {
      "cell_type": "code",
      "metadata": {
        "id": "dP6v2M-Fo9bH",
        "colab_type": "code",
        "colab": {
          "base_uri": "https://localhost:8080/",
          "height": 817
        },
        "outputId": "3f2ed79a-23ac-426e-f8c5-d2ef2d36ac7f"
      },
      "source": [
        "# palavras similares a car e house\n",
        "dfC = pd.DataFrame(model.similar_by_word('car', topn=10),\n",
        "                   columns=['Palavra','Similaridade'])\n",
        "dfC = dfC.set_index('Palavra')\n",
        "dfH = pd.DataFrame(model.similar_by_word('house', topn=10),\n",
        "                   columns=['Palavra','Similaridade'])\n",
        "dfH = dfH.set_index('Palavra')\n",
        "display(dfC)\n",
        "display(dfH)"
      ],
      "execution_count": 12,
      "outputs": [
        {
          "output_type": "stream",
          "text": [
            "/usr/local/lib/python3.6/dist-packages/gensim/matutils.py:737: FutureWarning: Conversion of the second argument of issubdtype from `int` to `np.signedinteger` is deprecated. In future, it will be treated as `np.int64 == np.dtype(int).type`.\n",
            "  if np.issubdtype(vec.dtype, np.int):\n"
          ],
          "name": "stderr"
        },
        {
          "output_type": "display_data",
          "data": {
            "text/html": [
              "<div>\n",
              "<style scoped>\n",
              "    .dataframe tbody tr th:only-of-type {\n",
              "        vertical-align: middle;\n",
              "    }\n",
              "\n",
              "    .dataframe tbody tr th {\n",
              "        vertical-align: top;\n",
              "    }\n",
              "\n",
              "    .dataframe thead th {\n",
              "        text-align: right;\n",
              "    }\n",
              "</style>\n",
              "<table border=\"1\" class=\"dataframe\">\n",
              "  <thead>\n",
              "    <tr style=\"text-align: right;\">\n",
              "      <th></th>\n",
              "      <th>Similaridade</th>\n",
              "    </tr>\n",
              "    <tr>\n",
              "      <th>Palavra</th>\n",
              "      <th></th>\n",
              "    </tr>\n",
              "  </thead>\n",
              "  <tbody>\n",
              "    <tr>\n",
              "      <th>vehicle</th>\n",
              "      <td>0.782110</td>\n",
              "    </tr>\n",
              "    <tr>\n",
              "      <th>cars</th>\n",
              "      <td>0.742383</td>\n",
              "    </tr>\n",
              "    <tr>\n",
              "      <th>SUV</th>\n",
              "      <td>0.716096</td>\n",
              "    </tr>\n",
              "    <tr>\n",
              "      <th>minivan</th>\n",
              "      <td>0.690704</td>\n",
              "    </tr>\n",
              "    <tr>\n",
              "      <th>truck</th>\n",
              "      <td>0.673579</td>\n",
              "    </tr>\n",
              "    <tr>\n",
              "      <th>Car</th>\n",
              "      <td>0.667761</td>\n",
              "    </tr>\n",
              "    <tr>\n",
              "      <th>Ford_Focus</th>\n",
              "      <td>0.667320</td>\n",
              "    </tr>\n",
              "    <tr>\n",
              "      <th>Honda_Civic</th>\n",
              "      <td>0.662685</td>\n",
              "    </tr>\n",
              "    <tr>\n",
              "      <th>Jeep</th>\n",
              "      <td>0.651133</td>\n",
              "    </tr>\n",
              "    <tr>\n",
              "      <th>pickup_truck</th>\n",
              "      <td>0.644144</td>\n",
              "    </tr>\n",
              "  </tbody>\n",
              "</table>\n",
              "</div>"
            ],
            "text/plain": [
              "              Similaridade\n",
              "Palavra                   \n",
              "vehicle           0.782110\n",
              "cars              0.742383\n",
              "SUV               0.716096\n",
              "minivan           0.690704\n",
              "truck             0.673579\n",
              "Car               0.667761\n",
              "Ford_Focus        0.667320\n",
              "Honda_Civic       0.662685\n",
              "Jeep              0.651133\n",
              "pickup_truck      0.644144"
            ]
          },
          "metadata": {
            "tags": []
          }
        },
        {
          "output_type": "display_data",
          "data": {
            "text/html": [
              "<div>\n",
              "<style scoped>\n",
              "    .dataframe tbody tr th:only-of-type {\n",
              "        vertical-align: middle;\n",
              "    }\n",
              "\n",
              "    .dataframe tbody tr th {\n",
              "        vertical-align: top;\n",
              "    }\n",
              "\n",
              "    .dataframe thead th {\n",
              "        text-align: right;\n",
              "    }\n",
              "</style>\n",
              "<table border=\"1\" class=\"dataframe\">\n",
              "  <thead>\n",
              "    <tr style=\"text-align: right;\">\n",
              "      <th></th>\n",
              "      <th>Similaridade</th>\n",
              "    </tr>\n",
              "    <tr>\n",
              "      <th>Palavra</th>\n",
              "      <th></th>\n",
              "    </tr>\n",
              "  </thead>\n",
              "  <tbody>\n",
              "    <tr>\n",
              "      <th>houses</th>\n",
              "      <td>0.707239</td>\n",
              "    </tr>\n",
              "    <tr>\n",
              "      <th>bungalow</th>\n",
              "      <td>0.687856</td>\n",
              "    </tr>\n",
              "    <tr>\n",
              "      <th>apartment</th>\n",
              "      <td>0.662900</td>\n",
              "    </tr>\n",
              "    <tr>\n",
              "      <th>bedroom</th>\n",
              "      <td>0.649694</td>\n",
              "    </tr>\n",
              "    <tr>\n",
              "      <th>townhouse</th>\n",
              "      <td>0.638408</td>\n",
              "    </tr>\n",
              "    <tr>\n",
              "      <th>residence</th>\n",
              "      <td>0.619842</td>\n",
              "    </tr>\n",
              "    <tr>\n",
              "      <th>mansion</th>\n",
              "      <td>0.605819</td>\n",
              "    </tr>\n",
              "    <tr>\n",
              "      <th>farmhouse</th>\n",
              "      <td>0.585757</td>\n",
              "    </tr>\n",
              "    <tr>\n",
              "      <th>duplex</th>\n",
              "      <td>0.575794</td>\n",
              "    </tr>\n",
              "    <tr>\n",
              "      <th>appartment</th>\n",
              "      <td>0.569033</td>\n",
              "    </tr>\n",
              "  </tbody>\n",
              "</table>\n",
              "</div>"
            ],
            "text/plain": [
              "            Similaridade\n",
              "Palavra                 \n",
              "houses          0.707239\n",
              "bungalow        0.687856\n",
              "apartment       0.662900\n",
              "bedroom         0.649694\n",
              "townhouse       0.638408\n",
              "residence       0.619842\n",
              "mansion         0.605819\n",
              "farmhouse       0.585757\n",
              "duplex          0.575794\n",
              "appartment      0.569033"
            ]
          },
          "metadata": {
            "tags": []
          }
        }
      ]
    },
    {
      "cell_type": "code",
      "metadata": {
        "id": "D3_3gs38vScY",
        "colab_type": "code",
        "colab": {}
      },
      "source": [
        ""
      ],
      "execution_count": null,
      "outputs": []
    }
  ]
}