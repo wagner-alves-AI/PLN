{
  "nbformat": 4,
  "nbformat_minor": 0,
  "metadata": {
    "colab": {
      "name": "PLN_Semana01_Wagner_Alves_da_Silva.ipynb",
      "provenance": [],
      "collapsed_sections": [],
      "include_colab_link": true
    },
    "kernelspec": {
      "name": "python3",
      "display_name": "Python 3"
    }
  },
  "cells": [
    {
      "cell_type": "markdown",
      "metadata": {
        "id": "view-in-github",
        "colab_type": "text"
      },
      "source": [
        "<a href=\"https://colab.research.google.com/github/wagner-alves-AI/PLN/blob/master/PLN_Semana01_Wagner_Alves_da_Silva.ipynb\" target=\"_parent\"><img src=\"https://colab.research.google.com/assets/colab-badge.svg\" alt=\"Open In Colab\"/></a>"
      ]
    },
    {
      "cell_type": "code",
      "metadata": {
        "id": "IIEeBvihRrc3",
        "colab_type": "code",
        "colab": {}
      },
      "source": [
        ""
      ],
      "execution_count": null,
      "outputs": []
    },
    {
      "cell_type": "markdown",
      "metadata": {
        "id": "8cCiVy0USAQw",
        "colab_type": "text"
      },
      "source": [
        "### 1) Obtenha a base de dados do link abaixo e deixe-a disponível no Google Colab (via github, botão de upload ou google drive)\n",
        "https://github.com/kunkaweb/nlp-class-resources/blob/master/hospital-data/patients.csv"
      ]
    },
    {
      "cell_type": "code",
      "metadata": {
        "id": "Jk2QjGpySiIZ",
        "colab_type": "code",
        "colab": {
          "base_uri": "https://localhost:8080/",
          "height": 127
        },
        "outputId": "f87feba3-5f7a-44ac-8600-c117fe082e54"
      },
      "source": [
        "import os\n",
        "\n",
        "!git clone https://github.com/kunkaweb/nlp-class-resources.git"
      ],
      "execution_count": null,
      "outputs": [
        {
          "output_type": "stream",
          "text": [
            "Cloning into 'nlp-class-resources'...\n",
            "remote: Enumerating objects: 11, done.\u001b[K\n",
            "remote: Counting objects: 100% (11/11), done.\u001b[K\n",
            "remote: Compressing objects: 100% (8/8), done.\u001b[K\n",
            "remote: Total 11 (delta 0), reused 0 (delta 0), pack-reused 0\u001b[K\n",
            "Unpacking objects: 100% (11/11), done.\n"
          ],
          "name": "stdout"
        }
      ]
    },
    {
      "cell_type": "markdown",
      "metadata": {
        "id": "x7LKcSqaSlJi",
        "colab_type": "text"
      },
      "source": [
        "### 2) Abra o arquivo CSV e carregue-o em um `DataFrame` do pandas"
      ]
    },
    {
      "cell_type": "code",
      "metadata": {
        "id": "Dtq7YglXSuFu",
        "colab_type": "code",
        "colab": {}
      },
      "source": [
        "import pandas as pd\n",
        "\n",
        "uri = \"https://raw.githubusercontent.com/kunkaweb/nlp-class-resources/master/hospital-data/patients.csv\"\n",
        "# Importa de arquivo CSV - CSVs não têm índices como os DataFrames, então devemos designar o index_col ao ler\n",
        "csvDf = pd.read_csv('https://raw.githubusercontent.com/kunkaweb/nlp-class-resources/master/hospital-data/patients.csv', index_col=0)\n",
        "display(csvDf)"
      ],
      "execution_count": null,
      "outputs": []
    },
    {
      "cell_type": "code",
      "metadata": {
        "id": "gH0e-Q33KmH4",
        "colab_type": "code",
        "colab": {}
      },
      "source": [
        ""
      ],
      "execution_count": null,
      "outputs": []
    },
    {
      "cell_type": "markdown",
      "metadata": {
        "id": "at0Adn8OyeXC",
        "colab_type": "text"
      },
      "source": [
        "###3) Qual o tamanho da base de dados? (Quantidade de linhas e colunas)"
      ]
    },
    {
      "cell_type": "code",
      "metadata": {
        "id": "Za-q__-4yukV",
        "colab_type": "code",
        "colab": {
          "base_uri": "https://localhost:8080/",
          "height": 35
        },
        "outputId": "b08f0c9c-cf5e-4c88-83da-3fc112d9d8a4"
      },
      "source": [
        "csvDf.shape"
      ],
      "execution_count": null,
      "outputs": [
        {
          "output_type": "execute_result",
          "data": {
            "text/plain": [
              "(10368, 17)"
            ]
          },
          "metadata": {
            "tags": []
          },
          "execution_count": 4
        }
      ]
    },
    {
      "cell_type": "markdown",
      "metadata": {
        "id": "oL5KLfOby1uE",
        "colab_type": "text"
      },
      "source": [
        "###4) Mostre a quantidade de pacientes por gênero e depois plote um histograma"
      ]
    },
    {
      "cell_type": "code",
      "metadata": {
        "id": "k3g532PG3Tcp",
        "colab_type": "code",
        "colab": {
          "base_uri": "https://localhost:8080/",
          "height": 90
        },
        "outputId": "407f6cfe-2e96-4be2-bf40-7f5584c3d5c2"
      },
      "source": [
        "import matplotlib.pyplot as plt\n",
        "csvDf.groupby(by='gender').size()\n",
        "\n"
      ],
      "execution_count": null,
      "outputs": [
        {
          "output_type": "execute_result",
          "data": {
            "text/plain": [
              "gender\n",
              "F    5330\n",
              "M    5038\n",
              "dtype: int64"
            ]
          },
          "metadata": {
            "tags": []
          },
          "execution_count": 7
        }
      ]
    },
    {
      "cell_type": "code",
      "metadata": {
        "id": "JFYNG7y4Y2gD",
        "colab_type": "code",
        "colab": {
          "base_uri": "https://localhost:8080/",
          "height": 312
        },
        "outputId": "8875b343-4917-43cc-ee5b-ff31991b3a56"
      },
      "source": [
        "csvDf.gender.value_counts().plot(kind='bar', title='Paciente por gênero')\n",
        "plt.xlabel('gender')\n",
        "plt.ylabel('pacients')"
      ],
      "execution_count": null,
      "outputs": [
        {
          "output_type": "execute_result",
          "data": {
            "text/plain": [
              "Text(0, 0.5, 'pacients')"
            ]
          },
          "metadata": {
            "tags": []
          },
          "execution_count": 9
        },
        {
          "output_type": "display_data",
          "data": {
            "image/png": "[encoded data removed]",
            "text/plain": [
              "<Figure size 432x288 with 1 Axes>"
            ]
          },
          "metadata": {
            "tags": [],
            "needs_background": "light"
          }
        }
      ]
    },
    {
      "cell_type": "markdown",
      "metadata": {
        "id": "WAho_Bjt3UwK",
        "colab_type": "text"
      },
      "source": [
        "### 5) Crie uma nova coluna no `DataFrame` que diga se o paciente é \"nativo\" ou \"estrageiro\" - caso `ethnicity` seja igual a \"american\" ele é nativo."
      ]
    },
    {
      "cell_type": "code",
      "metadata": {
        "id": "GbmOCPo445BH",
        "colab_type": "code",
        "colab": {}
      },
      "source": [
        "import numpy as np\n",
        "csvDf['Procedencia'] = np.where(csvDf['ethnicity']== 'american', 'nativo', 'estrangeiro')\n",
        "csvDf.head()"
      ],
      "execution_count": null,
      "outputs": []
    },
    {
      "cell_type": "markdown",
      "metadata": {
        "id": "gvBsq49N471g",
        "colab_type": "text"
      },
      "source": [
        "### 6) Mostre quantos pacientes de cada raça existem. Depois plote isso em um gráfico de barras."
      ]
    },
    {
      "cell_type": "code",
      "metadata": {
        "id": "yiWZCFGM5ewr",
        "colab_type": "code",
        "colab": {}
      },
      "source": [
        "csvDf.groupby(by='race').size()"
      ],
      "execution_count": null,
      "outputs": []
    },
    {
      "cell_type": "code",
      "metadata": {
        "id": "MJMzWVJSibJ2",
        "colab_type": "code",
        "colab": {}
      },
      "source": [
        "csvDf.race.value_counts().plot(kind='bar', title='Paciente por raça')\n",
        "plt.xlabel('raça')\n"
      ],
      "execution_count": null,
      "outputs": []
    },
    {
      "cell_type": "markdown",
      "metadata": {
        "id": "jaDearpb5q4R",
        "colab_type": "text"
      },
      "source": [
        "### 7) Mostre a quantidade de valores nulos para cada coluna."
      ]
    },
    {
      "cell_type": "code",
      "metadata": {
        "id": "mRSXBaho5vbU",
        "colab_type": "code",
        "colab": {}
      },
      "source": [
        "csvDf.isnull().sum()"
      ],
      "execution_count": null,
      "outputs": []
    },
    {
      "cell_type": "markdown",
      "metadata": {
        "id": "6mBQWwSY596U",
        "colab_type": "text"
      },
      "source": [
        "### 8) Qual a etnia (`ethnicity`) que mais teve diagnóstico de uso de opióides?\n",
        "O paciente fez uso de opióide caso a coluna `prior_opioid_abuse_diag` tenha valor igual a 1."
      ]
    },
    {
      "cell_type": "code",
      "metadata": {
        "id": "cIIbJrsnPcjS",
        "colab_type": "code",
        "colab": {}
      },
      "source": [
        "etnia =  csvDf['prior_opioid_abuse_diag'] == 1\n",
        "csvDf.loc[etnia, 'ethnicity'].describe()\n"
      ],
      "execution_count": null,
      "outputs": []
    },
    {
      "cell_type": "markdown",
      "metadata": {
        "id": "Vz6s8APq9JDP",
        "colab_type": "text"
      },
      "source": [
        "### 9) Mostre o índice de correlação entre as colunas"
      ]
    },
    {
      "cell_type": "code",
      "metadata": {
        "id": "pGWIxYc39O7y",
        "colab_type": "code",
        "colab": {}
      },
      "source": [
        "csvDf.corr()"
      ],
      "execution_count": null,
      "outputs": []
    },
    {
      "cell_type": "markdown",
      "metadata": {
        "id": "hGWpSxDK91kE",
        "colab_type": "text"
      },
      "source": [
        "### 10) Remova as colunas: 'maiden','passport','drivers','prefix','suffix','ssn','first','last'"
      ]
    },
    {
      "cell_type": "code",
      "metadata": {
        "id": "vdvc7oHB96bp",
        "colab_type": "code",
        "colab": {
          "base_uri": "https://localhost:8080/",
          "height": 72
        },
        "outputId": "90976d31-9612-4f74-904d-7470de4f88d1"
      },
      "source": [
        "csvDf2 = csvDf.drop(columns = ['maiden','passport','drivers','prefix','suffix','ssn','first','last'])\n",
        "csvDf2.columns\n",
        "\n"
      ],
      "execution_count": null,
      "outputs": [
        {
          "output_type": "execute_result",
          "data": {
            "text/plain": [
              "Index(['birth_date', 'death_date', 'marital', 'race', 'ethnicity', 'gender',\n",
              "       'birthplace', 'address', 'prior_opioid_abuse_diag', 'Procedencia'],\n",
              "      dtype='object')"
            ]
          },
          "metadata": {
            "tags": []
          },
          "execution_count": 17
        }
      ]
    },
    {
      "cell_type": "markdown",
      "metadata": {
        "id": "JXJTjCLI-H9_",
        "colab_type": "text"
      },
      "source": [
        "### 11) Altere o nome das colunas restantes para português"
      ]
    },
    {
      "cell_type": "code",
      "metadata": {
        "id": "dVEN1jfbmvfM",
        "colab_type": "code",
        "colab": {
          "base_uri": "https://localhost:8080/",
          "height": 72
        },
        "outputId": "5442f823-88a9-42b8-f324-bb302fa8fd0c"
      },
      "source": [
        "csvDf2.columns = ['Data_nascimento', 'Data_morte','estado_civil' , 'raca', 'etnia', 'genero', 'local_nascimento', 'endereco', 'uso_opioides', 'origem']\n",
        "csvDf2.columns"
      ],
      "execution_count": null,
      "outputs": [
        {
          "output_type": "execute_result",
          "data": {
            "text/plain": [
              "Index(['Data_nascimento', 'Data_morte', 'estado_civil', 'raca', 'etnia',\n",
              "       'genero', 'local_nascimento', 'endereco', 'uso_opioides', 'origem'],\n",
              "      dtype='object')"
            ]
          },
          "metadata": {
            "tags": []
          },
          "execution_count": 18
        }
      ]
    },
    {
      "cell_type": "markdown",
      "metadata": {
        "id": "on0xckUw-YLS",
        "colab_type": "text"
      },
      "source": [
        "### 12) Exporte um arquivo CSV com as alterações feitas"
      ]
    },
    {
      "cell_type": "code",
      "metadata": {
        "id": "tmqQyehe-d0o",
        "colab_type": "code",
        "colab": {
          "base_uri": "https://localhost:8080/",
          "height": 35
        },
        "outputId": "af82bcad-975c-436b-c1a8-3bb1b31ce1a8"
      },
      "source": [
        "from google.colab import drive\n",
        "drive.mount('/content/drive', force_remount=True)\n",
        "csvDf2.to_csv(r'/content/drive/My Drive/pacientes_v2.csv')\n"
      ],
      "execution_count": null,
      "outputs": [
        {
          "output_type": "stream",
          "text": [
            "Mounted at /content/drive\n"
          ],
          "name": "stdout"
        }
      ]
    }
  ]
}